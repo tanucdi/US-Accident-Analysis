{
  "nbformat": 4,
  "nbformat_minor": 0,
  "metadata": {
    "colab": {
      "name": "Us-accident-dataset.ipynb",
      "provenance": [],
      "collapsed_sections": [],
      "authorship_tag": "ABX9TyP4NO9+r73gcdOlGprgN042",
      "include_colab_link": true
    },
    "kernelspec": {
      "name": "python3",
      "display_name": "Python 3"
    },
    "language_info": {
      "name": "python"
    }
  },
  "cells": [
    {
      "cell_type": "markdown",
      "metadata": {
        "id": "view-in-github",
        "colab_type": "text"
      },
      "source": [
        "<a href=\"https://colab.research.google.com/github/tanucdi/US-Accident-Analysis/blob/main/Us_accident_dataset.ipynb\" target=\"_parent\"><img src=\"https://colab.research.google.com/assets/colab-badge.svg\" alt=\"Open In Colab\"/></a>"
      ]
    },
    {
      "cell_type": "markdown",
      "metadata": {
        "id": "4lbm4KP17NV3"
      },
      "source": [
        "**US Accidents Exploratory Data Analysis**\n",
        "\n",
        "TODO - talk about EDA\n",
        "\n",
        "TODO - talk about the dataset (source, what it contains, how it will be useful)\n",
        "\n",
        "\n",
        "*  Kaggle\n",
        "\n",
        "*  Informaiton about accidents\n",
        "\n",
        "*  Can use useful to prevent accidents\n",
        "\n",
        "*  Mention that this does not contain data about New York\n"
      ]
    },
    {
      "cell_type": "code",
      "metadata": {
        "id": "zhaT-2rT7NzR"
      },
      "source": [
        "pip install opendatasets --upgrade --quiet"
      ],
      "execution_count": 1,
      "outputs": []
    },
    {
      "cell_type": "code",
      "metadata": {
        "colab": {
          "base_uri": "https://localhost:8080/"
        },
        "id": "jr6DMurR7OcX",
        "outputId": "04f6da16-f370-43c2-fbfc-12de7db0f83c"
      },
      "source": [
        "import opendatasets as od\n",
        "\n",
        "download_url = 'https://www.kaggle.com/sobhanmoosavi/us-accidents'\n",
        "\n",
        "od.download(download_url)"
      ],
      "execution_count": 3,
      "outputs": [
        {
          "output_type": "stream",
          "text": [
            "Please provide your Kaggle credentials to download this dataset. Learn more: http://bit.ly/kaggle-creds\n",
            "Your Kaggle username: tanishkchaturvedi\n",
            "Your Kaggle Key: ··········\n"
          ],
          "name": "stdout"
        },
        {
          "output_type": "stream",
          "text": [
            "  3%|▎         | 9.00M/290M [00:00<00:03, 82.3MB/s]"
          ],
          "name": "stderr"
        },
        {
          "output_type": "stream",
          "text": [
            "Downloading us-accidents.zip to ./us-accidents\n"
          ],
          "name": "stdout"
        },
        {
          "output_type": "stream",
          "text": [
            "100%|██████████| 290M/290M [00:02<00:00, 128MB/s]\n"
          ],
          "name": "stderr"
        },
        {
          "output_type": "stream",
          "text": [
            "\n"
          ],
          "name": "stdout"
        }
      ]
    },
    {
      "cell_type": "code",
      "metadata": {
        "id": "b3W9tfDf8ZHY"
      },
      "source": [
        "data_filename = './us-accidents/US_Accidents_Dec20_Updated.csv'"
      ],
      "execution_count": 4,
      "outputs": []
    },
    {
      "cell_type": "markdown",
      "metadata": {
        "id": "pX4fH7Fl-eIE"
      },
      "source": [
        "**Data Preparation and Cleaning**\n",
        "\n",
        "- Load the file using Pandas\n",
        "\n",
        "- Look at some information about the data & the columns\n",
        "\n",
        "- Fix any missing or incorrect values"
      ]
    },
    {
      "cell_type": "code",
      "metadata": {
        "id": "RpEoy0yL-wSN"
      },
      "source": [
        "import pandas as pd"
      ],
      "execution_count": 5,
      "outputs": []
    },
    {
      "cell_type": "code",
      "metadata": {
        "id": "FNbR4ej0-7OU"
      },
      "source": [
        "df=pd.read_csv(data_filename)"
      ],
      "execution_count": 6,
      "outputs": []
    },
    {
      "cell_type": "code",
      "metadata": {
        "colab": {
          "base_uri": "https://localhost:8080/",
          "height": 963
        },
        "id": "vXglJaIG_EEo",
        "outputId": "a2589f8a-b9b0-4c02-be62-ce245bdb7a85"
      },
      "source": [
        "df"
      ],
      "execution_count": 7,
      "outputs": [
        {
          "output_type": "execute_result",
          "data": {
            "text/html": [
              "<div>\n",
              "<style scoped>\n",
              "    .dataframe tbody tr th:only-of-type {\n",
              "        vertical-align: middle;\n",
              "    }\n",
              "\n",
              "    .dataframe tbody tr th {\n",
              "        vertical-align: top;\n",
              "    }\n",
              "\n",
              "    .dataframe thead th {\n",
              "        text-align: right;\n",
              "    }\n",
              "</style>\n",
              "<table border=\"1\" class=\"dataframe\">\n",
              "  <thead>\n",
              "    <tr style=\"text-align: right;\">\n",
              "      <th></th>\n",
              "      <th>ID</th>\n",
              "      <th>Severity</th>\n",
              "      <th>Start_Time</th>\n",
              "      <th>End_Time</th>\n",
              "      <th>Start_Lat</th>\n",
              "      <th>Start_Lng</th>\n",
              "      <th>End_Lat</th>\n",
              "      <th>End_Lng</th>\n",
              "      <th>Distance(mi)</th>\n",
              "      <th>Description</th>\n",
              "      <th>Number</th>\n",
              "      <th>Street</th>\n",
              "      <th>Side</th>\n",
              "      <th>City</th>\n",
              "      <th>County</th>\n",
              "      <th>State</th>\n",
              "      <th>Zipcode</th>\n",
              "      <th>Country</th>\n",
              "      <th>Timezone</th>\n",
              "      <th>Airport_Code</th>\n",
              "      <th>Weather_Timestamp</th>\n",
              "      <th>Temperature(F)</th>\n",
              "      <th>Wind_Chill(F)</th>\n",
              "      <th>Humidity(%)</th>\n",
              "      <th>Pressure(in)</th>\n",
              "      <th>Visibility(mi)</th>\n",
              "      <th>Wind_Direction</th>\n",
              "      <th>Wind_Speed(mph)</th>\n",
              "      <th>Precipitation(in)</th>\n",
              "      <th>Weather_Condition</th>\n",
              "      <th>Amenity</th>\n",
              "      <th>Bump</th>\n",
              "      <th>Crossing</th>\n",
              "      <th>Give_Way</th>\n",
              "      <th>Junction</th>\n",
              "      <th>No_Exit</th>\n",
              "      <th>Railway</th>\n",
              "      <th>Roundabout</th>\n",
              "      <th>Station</th>\n",
              "      <th>Stop</th>\n",
              "      <th>Traffic_Calming</th>\n",
              "      <th>Traffic_Signal</th>\n",
              "      <th>Turning_Loop</th>\n",
              "      <th>Sunrise_Sunset</th>\n",
              "      <th>Civil_Twilight</th>\n",
              "      <th>Nautical_Twilight</th>\n",
              "      <th>Astronomical_Twilight</th>\n",
              "    </tr>\n",
              "  </thead>\n",
              "  <tbody>\n",
              "    <tr>\n",
              "      <th>0</th>\n",
              "      <td>A-1</td>\n",
              "      <td>2</td>\n",
              "      <td>2019-05-21 08:29:55</td>\n",
              "      <td>2019-05-21 09:29:40</td>\n",
              "      <td>34.808868</td>\n",
              "      <td>-82.269157</td>\n",
              "      <td>34.808868</td>\n",
              "      <td>-82.269157</td>\n",
              "      <td>0.000</td>\n",
              "      <td>Accident on Tanner Rd at Pennbrooke Ln.</td>\n",
              "      <td>439.0</td>\n",
              "      <td>Tanner Rd</td>\n",
              "      <td>R</td>\n",
              "      <td>Greenville</td>\n",
              "      <td>Greenville</td>\n",
              "      <td>SC</td>\n",
              "      <td>29607-6027</td>\n",
              "      <td>US</td>\n",
              "      <td>US/Eastern</td>\n",
              "      <td>KGMU</td>\n",
              "      <td>2019-05-21 08:53:00</td>\n",
              "      <td>76.0</td>\n",
              "      <td>76.0</td>\n",
              "      <td>52.0</td>\n",
              "      <td>28.91</td>\n",
              "      <td>10.0</td>\n",
              "      <td>N</td>\n",
              "      <td>7.0</td>\n",
              "      <td>0.0</td>\n",
              "      <td>Fair</td>\n",
              "      <td>False</td>\n",
              "      <td>False</td>\n",
              "      <td>False</td>\n",
              "      <td>False</td>\n",
              "      <td>False</td>\n",
              "      <td>False</td>\n",
              "      <td>False</td>\n",
              "      <td>False</td>\n",
              "      <td>False</td>\n",
              "      <td>False</td>\n",
              "      <td>False</td>\n",
              "      <td>False</td>\n",
              "      <td>False</td>\n",
              "      <td>Day</td>\n",
              "      <td>Day</td>\n",
              "      <td>Day</td>\n",
              "      <td>Day</td>\n",
              "    </tr>\n",
              "    <tr>\n",
              "      <th>1</th>\n",
              "      <td>A-2</td>\n",
              "      <td>2</td>\n",
              "      <td>2019-10-07 17:43:09</td>\n",
              "      <td>2019-10-07 19:42:50</td>\n",
              "      <td>35.090080</td>\n",
              "      <td>-80.745560</td>\n",
              "      <td>35.090080</td>\n",
              "      <td>-80.745560</td>\n",
              "      <td>0.000</td>\n",
              "      <td>Accident on Houston Branch Rd at Providence Br...</td>\n",
              "      <td>3299.0</td>\n",
              "      <td>Providence Branch Ln</td>\n",
              "      <td>R</td>\n",
              "      <td>Charlotte</td>\n",
              "      <td>Mecklenburg</td>\n",
              "      <td>NC</td>\n",
              "      <td>28270-8560</td>\n",
              "      <td>US</td>\n",
              "      <td>US/Eastern</td>\n",
              "      <td>KEQY</td>\n",
              "      <td>2019-10-07 17:53:00</td>\n",
              "      <td>76.0</td>\n",
              "      <td>76.0</td>\n",
              "      <td>62.0</td>\n",
              "      <td>29.30</td>\n",
              "      <td>10.0</td>\n",
              "      <td>VAR</td>\n",
              "      <td>3.0</td>\n",
              "      <td>0.0</td>\n",
              "      <td>Cloudy</td>\n",
              "      <td>False</td>\n",
              "      <td>False</td>\n",
              "      <td>False</td>\n",
              "      <td>False</td>\n",
              "      <td>False</td>\n",
              "      <td>False</td>\n",
              "      <td>False</td>\n",
              "      <td>False</td>\n",
              "      <td>False</td>\n",
              "      <td>False</td>\n",
              "      <td>False</td>\n",
              "      <td>False</td>\n",
              "      <td>False</td>\n",
              "      <td>Day</td>\n",
              "      <td>Day</td>\n",
              "      <td>Day</td>\n",
              "      <td>Day</td>\n",
              "    </tr>\n",
              "    <tr>\n",
              "      <th>2</th>\n",
              "      <td>A-3</td>\n",
              "      <td>2</td>\n",
              "      <td>2020-12-13 21:53:00</td>\n",
              "      <td>2020-12-13 22:44:00</td>\n",
              "      <td>37.145730</td>\n",
              "      <td>-121.985052</td>\n",
              "      <td>37.165850</td>\n",
              "      <td>-121.988062</td>\n",
              "      <td>1.400</td>\n",
              "      <td>Stationary traffic on CA-17 from Summit Rd (CA...</td>\n",
              "      <td>NaN</td>\n",
              "      <td>Santa Cruz Hwy</td>\n",
              "      <td>R</td>\n",
              "      <td>Los Gatos</td>\n",
              "      <td>Santa Clara</td>\n",
              "      <td>CA</td>\n",
              "      <td>95033</td>\n",
              "      <td>US</td>\n",
              "      <td>US/Pacific</td>\n",
              "      <td>KSJC</td>\n",
              "      <td>2020-12-13 21:53:00</td>\n",
              "      <td>51.0</td>\n",
              "      <td>51.0</td>\n",
              "      <td>80.0</td>\n",
              "      <td>30.17</td>\n",
              "      <td>10.0</td>\n",
              "      <td>W</td>\n",
              "      <td>6.0</td>\n",
              "      <td>0.0</td>\n",
              "      <td>Fair</td>\n",
              "      <td>False</td>\n",
              "      <td>False</td>\n",
              "      <td>False</td>\n",
              "      <td>False</td>\n",
              "      <td>False</td>\n",
              "      <td>False</td>\n",
              "      <td>False</td>\n",
              "      <td>False</td>\n",
              "      <td>False</td>\n",
              "      <td>False</td>\n",
              "      <td>False</td>\n",
              "      <td>False</td>\n",
              "      <td>False</td>\n",
              "      <td>Night</td>\n",
              "      <td>Night</td>\n",
              "      <td>Night</td>\n",
              "      <td>Night</td>\n",
              "    </tr>\n",
              "    <tr>\n",
              "      <th>3</th>\n",
              "      <td>A-4</td>\n",
              "      <td>2</td>\n",
              "      <td>2018-04-17 16:51:23</td>\n",
              "      <td>2018-04-17 17:50:46</td>\n",
              "      <td>39.110390</td>\n",
              "      <td>-119.773781</td>\n",
              "      <td>39.110390</td>\n",
              "      <td>-119.773781</td>\n",
              "      <td>0.000</td>\n",
              "      <td>Accident on US-395 Southbound at Topsy Ln.</td>\n",
              "      <td>NaN</td>\n",
              "      <td>US Highway 395 S</td>\n",
              "      <td>R</td>\n",
              "      <td>Carson City</td>\n",
              "      <td>Douglas</td>\n",
              "      <td>NV</td>\n",
              "      <td>89705</td>\n",
              "      <td>US</td>\n",
              "      <td>US/Pacific</td>\n",
              "      <td>KCXP</td>\n",
              "      <td>2018-04-17 16:55:00</td>\n",
              "      <td>53.6</td>\n",
              "      <td>NaN</td>\n",
              "      <td>16.0</td>\n",
              "      <td>30.16</td>\n",
              "      <td>10.0</td>\n",
              "      <td>SSW</td>\n",
              "      <td>4.6</td>\n",
              "      <td>NaN</td>\n",
              "      <td>Clear</td>\n",
              "      <td>False</td>\n",
              "      <td>False</td>\n",
              "      <td>False</td>\n",
              "      <td>False</td>\n",
              "      <td>False</td>\n",
              "      <td>False</td>\n",
              "      <td>False</td>\n",
              "      <td>False</td>\n",
              "      <td>False</td>\n",
              "      <td>False</td>\n",
              "      <td>False</td>\n",
              "      <td>True</td>\n",
              "      <td>False</td>\n",
              "      <td>Day</td>\n",
              "      <td>Day</td>\n",
              "      <td>Day</td>\n",
              "      <td>Day</td>\n",
              "    </tr>\n",
              "    <tr>\n",
              "      <th>4</th>\n",
              "      <td>A-5</td>\n",
              "      <td>3</td>\n",
              "      <td>2016-08-31 17:40:49</td>\n",
              "      <td>2016-08-31 18:10:49</td>\n",
              "      <td>26.102942</td>\n",
              "      <td>-80.265091</td>\n",
              "      <td>26.102942</td>\n",
              "      <td>-80.265091</td>\n",
              "      <td>0.000</td>\n",
              "      <td>Accident on I-595 Westbound at Exit 4 / Pine I...</td>\n",
              "      <td>NaN</td>\n",
              "      <td>I-595 W</td>\n",
              "      <td>R</td>\n",
              "      <td>Fort Lauderdale</td>\n",
              "      <td>Broward</td>\n",
              "      <td>FL</td>\n",
              "      <td>33324</td>\n",
              "      <td>US</td>\n",
              "      <td>US/Eastern</td>\n",
              "      <td>KHWO</td>\n",
              "      <td>2016-08-31 17:53:00</td>\n",
              "      <td>84.2</td>\n",
              "      <td>NaN</td>\n",
              "      <td>84.0</td>\n",
              "      <td>29.92</td>\n",
              "      <td>10.0</td>\n",
              "      <td>SSE</td>\n",
              "      <td>13.8</td>\n",
              "      <td>NaN</td>\n",
              "      <td>Overcast</td>\n",
              "      <td>False</td>\n",
              "      <td>False</td>\n",
              "      <td>False</td>\n",
              "      <td>False</td>\n",
              "      <td>True</td>\n",
              "      <td>False</td>\n",
              "      <td>False</td>\n",
              "      <td>False</td>\n",
              "      <td>False</td>\n",
              "      <td>False</td>\n",
              "      <td>False</td>\n",
              "      <td>True</td>\n",
              "      <td>False</td>\n",
              "      <td>Day</td>\n",
              "      <td>Day</td>\n",
              "      <td>Day</td>\n",
              "      <td>Day</td>\n",
              "    </tr>\n",
              "    <tr>\n",
              "      <th>...</th>\n",
              "      <td>...</td>\n",
              "      <td>...</td>\n",
              "      <td>...</td>\n",
              "      <td>...</td>\n",
              "      <td>...</td>\n",
              "      <td>...</td>\n",
              "      <td>...</td>\n",
              "      <td>...</td>\n",
              "      <td>...</td>\n",
              "      <td>...</td>\n",
              "      <td>...</td>\n",
              "      <td>...</td>\n",
              "      <td>...</td>\n",
              "      <td>...</td>\n",
              "      <td>...</td>\n",
              "      <td>...</td>\n",
              "      <td>...</td>\n",
              "      <td>...</td>\n",
              "      <td>...</td>\n",
              "      <td>...</td>\n",
              "      <td>...</td>\n",
              "      <td>...</td>\n",
              "      <td>...</td>\n",
              "      <td>...</td>\n",
              "      <td>...</td>\n",
              "      <td>...</td>\n",
              "      <td>...</td>\n",
              "      <td>...</td>\n",
              "      <td>...</td>\n",
              "      <td>...</td>\n",
              "      <td>...</td>\n",
              "      <td>...</td>\n",
              "      <td>...</td>\n",
              "      <td>...</td>\n",
              "      <td>...</td>\n",
              "      <td>...</td>\n",
              "      <td>...</td>\n",
              "      <td>...</td>\n",
              "      <td>...</td>\n",
              "      <td>...</td>\n",
              "      <td>...</td>\n",
              "      <td>...</td>\n",
              "      <td>...</td>\n",
              "      <td>...</td>\n",
              "      <td>...</td>\n",
              "      <td>...</td>\n",
              "      <td>...</td>\n",
              "    </tr>\n",
              "    <tr>\n",
              "      <th>2906605</th>\n",
              "      <td>A-2906606</td>\n",
              "      <td>2</td>\n",
              "      <td>2018-06-28 08:49:01</td>\n",
              "      <td>2018-06-28 09:18:51</td>\n",
              "      <td>29.813824</td>\n",
              "      <td>-95.399437</td>\n",
              "      <td>29.813824</td>\n",
              "      <td>-95.399437</td>\n",
              "      <td>0.000</td>\n",
              "      <td>Accident on 30th St at Yale St.</td>\n",
              "      <td>3001.0</td>\n",
              "      <td>Yale St</td>\n",
              "      <td>L</td>\n",
              "      <td>Houston</td>\n",
              "      <td>Harris</td>\n",
              "      <td>TX</td>\n",
              "      <td>77018-8433</td>\n",
              "      <td>US</td>\n",
              "      <td>US/Central</td>\n",
              "      <td>KMCJ</td>\n",
              "      <td>2018-06-28 08:35:00</td>\n",
              "      <td>84.2</td>\n",
              "      <td>NaN</td>\n",
              "      <td>70.0</td>\n",
              "      <td>30.02</td>\n",
              "      <td>9.0</td>\n",
              "      <td>Variable</td>\n",
              "      <td>5.8</td>\n",
              "      <td>NaN</td>\n",
              "      <td>Clear</td>\n",
              "      <td>False</td>\n",
              "      <td>False</td>\n",
              "      <td>False</td>\n",
              "      <td>False</td>\n",
              "      <td>False</td>\n",
              "      <td>False</td>\n",
              "      <td>False</td>\n",
              "      <td>False</td>\n",
              "      <td>False</td>\n",
              "      <td>True</td>\n",
              "      <td>False</td>\n",
              "      <td>False</td>\n",
              "      <td>False</td>\n",
              "      <td>Day</td>\n",
              "      <td>Day</td>\n",
              "      <td>Day</td>\n",
              "      <td>Day</td>\n",
              "    </tr>\n",
              "    <tr>\n",
              "      <th>2906606</th>\n",
              "      <td>A-2906607</td>\n",
              "      <td>2</td>\n",
              "      <td>2019-01-10 02:01:01</td>\n",
              "      <td>2019-01-10 02:30:32</td>\n",
              "      <td>34.068890</td>\n",
              "      <td>-117.342010</td>\n",
              "      <td>34.068890</td>\n",
              "      <td>-117.342010</td>\n",
              "      <td>0.000</td>\n",
              "      <td>At Valley Blvd - Accident.</td>\n",
              "      <td>NaN</td>\n",
              "      <td>Cypress Ave</td>\n",
              "      <td>R</td>\n",
              "      <td>Colton</td>\n",
              "      <td>San Bernardino</td>\n",
              "      <td>CA</td>\n",
              "      <td>92324</td>\n",
              "      <td>US</td>\n",
              "      <td>US/Pacific</td>\n",
              "      <td>KSBD</td>\n",
              "      <td>2019-01-10 02:00:00</td>\n",
              "      <td>46.9</td>\n",
              "      <td>NaN</td>\n",
              "      <td>74.0</td>\n",
              "      <td>30.14</td>\n",
              "      <td>10.0</td>\n",
              "      <td>Calm</td>\n",
              "      <td>NaN</td>\n",
              "      <td>NaN</td>\n",
              "      <td>Clear</td>\n",
              "      <td>False</td>\n",
              "      <td>False</td>\n",
              "      <td>False</td>\n",
              "      <td>False</td>\n",
              "      <td>False</td>\n",
              "      <td>False</td>\n",
              "      <td>False</td>\n",
              "      <td>False</td>\n",
              "      <td>False</td>\n",
              "      <td>False</td>\n",
              "      <td>False</td>\n",
              "      <td>False</td>\n",
              "      <td>False</td>\n",
              "      <td>Night</td>\n",
              "      <td>Night</td>\n",
              "      <td>Night</td>\n",
              "      <td>Night</td>\n",
              "    </tr>\n",
              "    <tr>\n",
              "      <th>2906607</th>\n",
              "      <td>A-2906608</td>\n",
              "      <td>2</td>\n",
              "      <td>2020-11-23 12:52:00</td>\n",
              "      <td>2020-11-24 00:47:37</td>\n",
              "      <td>25.702200</td>\n",
              "      <td>-80.335556</td>\n",
              "      <td>25.703040</td>\n",
              "      <td>-80.334099</td>\n",
              "      <td>0.108</td>\n",
              "      <td>Stationary traffic on County Hwy-913 - FL-986 ...</td>\n",
              "      <td>8798.0</td>\n",
              "      <td>SW 72nd St</td>\n",
              "      <td>L</td>\n",
              "      <td>Miami</td>\n",
              "      <td>Miami-Dade</td>\n",
              "      <td>FL</td>\n",
              "      <td>33173-3512</td>\n",
              "      <td>US</td>\n",
              "      <td>US/Eastern</td>\n",
              "      <td>KTMB</td>\n",
              "      <td>2020-11-23 12:53:00</td>\n",
              "      <td>76.0</td>\n",
              "      <td>76.0</td>\n",
              "      <td>85.0</td>\n",
              "      <td>30.00</td>\n",
              "      <td>10.0</td>\n",
              "      <td>NNW</td>\n",
              "      <td>16.0</td>\n",
              "      <td>0.0</td>\n",
              "      <td>Mostly Cloudy</td>\n",
              "      <td>False</td>\n",
              "      <td>False</td>\n",
              "      <td>False</td>\n",
              "      <td>False</td>\n",
              "      <td>False</td>\n",
              "      <td>False</td>\n",
              "      <td>False</td>\n",
              "      <td>False</td>\n",
              "      <td>False</td>\n",
              "      <td>False</td>\n",
              "      <td>False</td>\n",
              "      <td>False</td>\n",
              "      <td>False</td>\n",
              "      <td>Day</td>\n",
              "      <td>Day</td>\n",
              "      <td>Day</td>\n",
              "      <td>Day</td>\n",
              "    </tr>\n",
              "    <tr>\n",
              "      <th>2906608</th>\n",
              "      <td>A-2906609</td>\n",
              "      <td>2</td>\n",
              "      <td>2019-12-29 22:38:00</td>\n",
              "      <td>2019-12-29 23:38:00</td>\n",
              "      <td>40.660140</td>\n",
              "      <td>-111.952460</td>\n",
              "      <td>40.660140</td>\n",
              "      <td>-111.952460</td>\n",
              "      <td>0.000</td>\n",
              "      <td>At UT-266/4700/Exit 15 - Accident.</td>\n",
              "      <td>NaN</td>\n",
              "      <td>I-215 N</td>\n",
              "      <td>R</td>\n",
              "      <td>Salt Lake City</td>\n",
              "      <td>Salt Lake</td>\n",
              "      <td>UT</td>\n",
              "      <td>84129</td>\n",
              "      <td>US</td>\n",
              "      <td>US/Mountain</td>\n",
              "      <td>KU42</td>\n",
              "      <td>2019-12-29 22:54:00</td>\n",
              "      <td>27.0</td>\n",
              "      <td>19.0</td>\n",
              "      <td>81.0</td>\n",
              "      <td>25.81</td>\n",
              "      <td>10.0</td>\n",
              "      <td>SSE</td>\n",
              "      <td>8.0</td>\n",
              "      <td>0.0</td>\n",
              "      <td>Cloudy</td>\n",
              "      <td>False</td>\n",
              "      <td>False</td>\n",
              "      <td>False</td>\n",
              "      <td>False</td>\n",
              "      <td>False</td>\n",
              "      <td>False</td>\n",
              "      <td>False</td>\n",
              "      <td>False</td>\n",
              "      <td>False</td>\n",
              "      <td>False</td>\n",
              "      <td>False</td>\n",
              "      <td>False</td>\n",
              "      <td>False</td>\n",
              "      <td>Night</td>\n",
              "      <td>Night</td>\n",
              "      <td>Night</td>\n",
              "      <td>Night</td>\n",
              "    </tr>\n",
              "    <tr>\n",
              "      <th>2906609</th>\n",
              "      <td>A-2906610</td>\n",
              "      <td>2</td>\n",
              "      <td>2018-03-26 13:35:03</td>\n",
              "      <td>2018-03-26 14:39:00</td>\n",
              "      <td>38.831749</td>\n",
              "      <td>-104.748161</td>\n",
              "      <td>38.831749</td>\n",
              "      <td>-104.748161</td>\n",
              "      <td>0.000</td>\n",
              "      <td>Accident on Murray Blvd at Byron Dr.</td>\n",
              "      <td>NaN</td>\n",
              "      <td>Byron Dr</td>\n",
              "      <td>R</td>\n",
              "      <td>Colorado Springs</td>\n",
              "      <td>El Paso</td>\n",
              "      <td>CO</td>\n",
              "      <td>80916</td>\n",
              "      <td>US</td>\n",
              "      <td>US/Mountain</td>\n",
              "      <td>KCOS</td>\n",
              "      <td>2018-03-26 13:54:00</td>\n",
              "      <td>51.1</td>\n",
              "      <td>NaN</td>\n",
              "      <td>38.0</td>\n",
              "      <td>29.77</td>\n",
              "      <td>10.0</td>\n",
              "      <td>SE</td>\n",
              "      <td>13.8</td>\n",
              "      <td>NaN</td>\n",
              "      <td>Scattered Clouds</td>\n",
              "      <td>False</td>\n",
              "      <td>False</td>\n",
              "      <td>True</td>\n",
              "      <td>False</td>\n",
              "      <td>False</td>\n",
              "      <td>False</td>\n",
              "      <td>False</td>\n",
              "      <td>False</td>\n",
              "      <td>False</td>\n",
              "      <td>False</td>\n",
              "      <td>False</td>\n",
              "      <td>True</td>\n",
              "      <td>False</td>\n",
              "      <td>Day</td>\n",
              "      <td>Day</td>\n",
              "      <td>Day</td>\n",
              "      <td>Day</td>\n",
              "    </tr>\n",
              "  </tbody>\n",
              "</table>\n",
              "<p>2906610 rows × 47 columns</p>\n",
              "</div>"
            ],
            "text/plain": [
              "                ID  Severity  ... Nautical_Twilight Astronomical_Twilight\n",
              "0              A-1         2  ...               Day                   Day\n",
              "1              A-2         2  ...               Day                   Day\n",
              "2              A-3         2  ...             Night                 Night\n",
              "3              A-4         2  ...               Day                   Day\n",
              "4              A-5         3  ...               Day                   Day\n",
              "...            ...       ...  ...               ...                   ...\n",
              "2906605  A-2906606         2  ...               Day                   Day\n",
              "2906606  A-2906607         2  ...             Night                 Night\n",
              "2906607  A-2906608         2  ...               Day                   Day\n",
              "2906608  A-2906609         2  ...             Night                 Night\n",
              "2906609  A-2906610         2  ...               Day                   Day\n",
              "\n",
              "[2906610 rows x 47 columns]"
            ]
          },
          "metadata": {
            "tags": []
          },
          "execution_count": 7
        }
      ]
    },
    {
      "cell_type": "code",
      "metadata": {
        "colab": {
          "base_uri": "https://localhost:8080/"
        },
        "id": "KNfWlDAwAFLE",
        "outputId": "0555b01d-0e91-457f-f1f7-65b063d50307"
      },
      "source": [
        "df.info()"
      ],
      "execution_count": 8,
      "outputs": [
        {
          "output_type": "stream",
          "text": [
            "<class 'pandas.core.frame.DataFrame'>\n",
            "RangeIndex: 2906610 entries, 0 to 2906609\n",
            "Data columns (total 47 columns):\n",
            " #   Column                 Dtype  \n",
            "---  ------                 -----  \n",
            " 0   ID                     object \n",
            " 1   Severity               int64  \n",
            " 2   Start_Time             object \n",
            " 3   End_Time               object \n",
            " 4   Start_Lat              float64\n",
            " 5   Start_Lng              float64\n",
            " 6   End_Lat                float64\n",
            " 7   End_Lng                float64\n",
            " 8   Distance(mi)           float64\n",
            " 9   Description            object \n",
            " 10  Number                 float64\n",
            " 11  Street                 object \n",
            " 12  Side                   object \n",
            " 13  City                   object \n",
            " 14  County                 object \n",
            " 15  State                  object \n",
            " 16  Zipcode                object \n",
            " 17  Country                object \n",
            " 18  Timezone               object \n",
            " 19  Airport_Code           object \n",
            " 20  Weather_Timestamp      object \n",
            " 21  Temperature(F)         float64\n",
            " 22  Wind_Chill(F)          float64\n",
            " 23  Humidity(%)            float64\n",
            " 24  Pressure(in)           float64\n",
            " 25  Visibility(mi)         float64\n",
            " 26  Wind_Direction         object \n",
            " 27  Wind_Speed(mph)        float64\n",
            " 28  Precipitation(in)      float64\n",
            " 29  Weather_Condition      object \n",
            " 30  Amenity                bool   \n",
            " 31  Bump                   bool   \n",
            " 32  Crossing               bool   \n",
            " 33  Give_Way               bool   \n",
            " 34  Junction               bool   \n",
            " 35  No_Exit                bool   \n",
            " 36  Railway                bool   \n",
            " 37  Roundabout             bool   \n",
            " 38  Station                bool   \n",
            " 39  Stop                   bool   \n",
            " 40  Traffic_Calming        bool   \n",
            " 41  Traffic_Signal         bool   \n",
            " 42  Turning_Loop           bool   \n",
            " 43  Sunrise_Sunset         object \n",
            " 44  Civil_Twilight         object \n",
            " 45  Nautical_Twilight      object \n",
            " 46  Astronomical_Twilight  object \n",
            "dtypes: bool(13), float64(13), int64(1), object(20)\n",
            "memory usage: 790.0+ MB\n"
          ],
          "name": "stdout"
        }
      ]
    },
    {
      "cell_type": "code",
      "metadata": {
        "colab": {
          "base_uri": "https://localhost:8080/",
          "height": 320
        },
        "id": "Vz4uZRfkAI1o",
        "outputId": "53e19e44-aedf-4e99-8ba7-eb7fa03e227f"
      },
      "source": [
        "df.describe()"
      ],
      "execution_count": 9,
      "outputs": [
        {
          "output_type": "execute_result",
          "data": {
            "text/html": [
              "<div>\n",
              "<style scoped>\n",
              "    .dataframe tbody tr th:only-of-type {\n",
              "        vertical-align: middle;\n",
              "    }\n",
              "\n",
              "    .dataframe tbody tr th {\n",
              "        vertical-align: top;\n",
              "    }\n",
              "\n",
              "    .dataframe thead th {\n",
              "        text-align: right;\n",
              "    }\n",
              "</style>\n",
              "<table border=\"1\" class=\"dataframe\">\n",
              "  <thead>\n",
              "    <tr style=\"text-align: right;\">\n",
              "      <th></th>\n",
              "      <th>Severity</th>\n",
              "      <th>Start_Lat</th>\n",
              "      <th>Start_Lng</th>\n",
              "      <th>End_Lat</th>\n",
              "      <th>End_Lng</th>\n",
              "      <th>Distance(mi)</th>\n",
              "      <th>Number</th>\n",
              "      <th>Temperature(F)</th>\n",
              "      <th>Wind_Chill(F)</th>\n",
              "      <th>Humidity(%)</th>\n",
              "      <th>Pressure(in)</th>\n",
              "      <th>Visibility(mi)</th>\n",
              "      <th>Wind_Speed(mph)</th>\n",
              "      <th>Precipitation(in)</th>\n",
              "    </tr>\n",
              "  </thead>\n",
              "  <tbody>\n",
              "    <tr>\n",
              "      <th>count</th>\n",
              "      <td>2.906610e+06</td>\n",
              "      <td>2.906610e+06</td>\n",
              "      <td>2.906610e+06</td>\n",
              "      <td>2.623789e+06</td>\n",
              "      <td>2.623789e+06</td>\n",
              "      <td>2.906610e+06</td>\n",
              "      <td>1.014938e+06</td>\n",
              "      <td>2.839386e+06</td>\n",
              "      <td>1.722751e+06</td>\n",
              "      <td>2.835340e+06</td>\n",
              "      <td>2.849702e+06</td>\n",
              "      <td>2.834532e+06</td>\n",
              "      <td>2.599447e+06</td>\n",
              "      <td>1.605284e+06</td>\n",
              "    </tr>\n",
              "    <tr>\n",
              "      <th>mean</th>\n",
              "      <td>2.288649e+00</td>\n",
              "      <td>3.653027e+01</td>\n",
              "      <td>-9.642676e+01</td>\n",
              "      <td>3.651733e+01</td>\n",
              "      <td>-9.620367e+01</td>\n",
              "      <td>3.980541e-01</td>\n",
              "      <td>6.789728e+03</td>\n",
              "      <td>6.098873e+01</td>\n",
              "      <td>5.499048e+01</td>\n",
              "      <td>6.537758e+01</td>\n",
              "      <td>2.965685e+01</td>\n",
              "      <td>9.116766e+00</td>\n",
              "      <td>7.818111e+00</td>\n",
              "      <td>1.119459e-02</td>\n",
              "    </tr>\n",
              "    <tr>\n",
              "      <th>std</th>\n",
              "      <td>5.541618e-01</td>\n",
              "      <td>5.013964e+00</td>\n",
              "      <td>1.775412e+01</td>\n",
              "      <td>5.016609e+00</td>\n",
              "      <td>1.765971e+01</td>\n",
              "      <td>1.592556e+00</td>\n",
              "      <td>1.697225e+04</td>\n",
              "      <td>1.845258e+01</td>\n",
              "      <td>2.219542e+01</td>\n",
              "      <td>2.287854e+01</td>\n",
              "      <td>9.094133e-01</td>\n",
              "      <td>2.837271e+00</td>\n",
              "      <td>5.431171e+00</td>\n",
              "      <td>1.540812e-01</td>\n",
              "    </tr>\n",
              "    <tr>\n",
              "      <th>min</th>\n",
              "      <td>1.000000e+00</td>\n",
              "      <td>2.455527e+01</td>\n",
              "      <td>-1.246238e+02</td>\n",
              "      <td>2.455527e+01</td>\n",
              "      <td>-1.246238e+02</td>\n",
              "      <td>0.000000e+00</td>\n",
              "      <td>0.000000e+00</td>\n",
              "      <td>-8.900000e+01</td>\n",
              "      <td>-8.900000e+01</td>\n",
              "      <td>1.000000e+00</td>\n",
              "      <td>0.000000e+00</td>\n",
              "      <td>0.000000e+00</td>\n",
              "      <td>0.000000e+00</td>\n",
              "      <td>0.000000e+00</td>\n",
              "    </tr>\n",
              "    <tr>\n",
              "      <th>25%</th>\n",
              "      <td>2.000000e+00</td>\n",
              "      <td>3.366453e+01</td>\n",
              "      <td>-1.178232e+02</td>\n",
              "      <td>3.364659e+01</td>\n",
              "      <td>-1.177020e+02</td>\n",
              "      <td>0.000000e+00</td>\n",
              "      <td>9.650000e+02</td>\n",
              "      <td>4.890000e+01</td>\n",
              "      <td>3.900000e+01</td>\n",
              "      <td>4.900000e+01</td>\n",
              "      <td>2.959000e+01</td>\n",
              "      <td>1.000000e+01</td>\n",
              "      <td>4.600000e+00</td>\n",
              "      <td>0.000000e+00</td>\n",
              "    </tr>\n",
              "    <tr>\n",
              "      <th>50%</th>\n",
              "      <td>2.000000e+00</td>\n",
              "      <td>3.609977e+01</td>\n",
              "      <td>-9.116690e+01</td>\n",
              "      <td>3.605898e+01</td>\n",
              "      <td>-9.105163e+01</td>\n",
              "      <td>0.000000e+00</td>\n",
              "      <td>3.093000e+03</td>\n",
              "      <td>6.300000e+01</td>\n",
              "      <td>5.800000e+01</td>\n",
              "      <td>6.800000e+01</td>\n",
              "      <td>2.992000e+01</td>\n",
              "      <td>1.000000e+01</td>\n",
              "      <td>7.000000e+00</td>\n",
              "      <td>0.000000e+00</td>\n",
              "    </tr>\n",
              "    <tr>\n",
              "      <th>75%</th>\n",
              "      <td>3.000000e+00</td>\n",
              "      <td>4.037505e+01</td>\n",
              "      <td>-8.085814e+01</td>\n",
              "      <td>4.033133e+01</td>\n",
              "      <td>-8.084679e+01</td>\n",
              "      <td>2.790000e-01</td>\n",
              "      <td>7.976000e+03</td>\n",
              "      <td>7.500000e+01</td>\n",
              "      <td>7.200000e+01</td>\n",
              "      <td>8.500000e+01</td>\n",
              "      <td>3.007000e+01</td>\n",
              "      <td>1.000000e+01</td>\n",
              "      <td>1.040000e+01</td>\n",
              "      <td>0.000000e+00</td>\n",
              "    </tr>\n",
              "    <tr>\n",
              "      <th>max</th>\n",
              "      <td>4.000000e+00</td>\n",
              "      <td>4.900220e+01</td>\n",
              "      <td>-6.711317e+01</td>\n",
              "      <td>4.907500e+01</td>\n",
              "      <td>-6.710924e+01</td>\n",
              "      <td>3.336300e+02</td>\n",
              "      <td>9.999997e+06</td>\n",
              "      <td>2.030000e+02</td>\n",
              "      <td>1.740000e+02</td>\n",
              "      <td>1.000000e+02</td>\n",
              "      <td>5.804000e+01</td>\n",
              "      <td>1.400000e+02</td>\n",
              "      <td>9.840000e+02</td>\n",
              "      <td>2.400000e+01</td>\n",
              "    </tr>\n",
              "  </tbody>\n",
              "</table>\n",
              "</div>"
            ],
            "text/plain": [
              "           Severity     Start_Lat  ...  Wind_Speed(mph)  Precipitation(in)\n",
              "count  2.906610e+06  2.906610e+06  ...     2.599447e+06       1.605284e+06\n",
              "mean   2.288649e+00  3.653027e+01  ...     7.818111e+00       1.119459e-02\n",
              "std    5.541618e-01  5.013964e+00  ...     5.431171e+00       1.540812e-01\n",
              "min    1.000000e+00  2.455527e+01  ...     0.000000e+00       0.000000e+00\n",
              "25%    2.000000e+00  3.366453e+01  ...     4.600000e+00       0.000000e+00\n",
              "50%    2.000000e+00  3.609977e+01  ...     7.000000e+00       0.000000e+00\n",
              "75%    3.000000e+00  4.037505e+01  ...     1.040000e+01       0.000000e+00\n",
              "max    4.000000e+00  4.900220e+01  ...     9.840000e+02       2.400000e+01\n",
              "\n",
              "[8 rows x 14 columns]"
            ]
          },
          "metadata": {
            "tags": []
          },
          "execution_count": 9
        }
      ]
    },
    {
      "cell_type": "code",
      "metadata": {
        "colab": {
          "base_uri": "https://localhost:8080/"
        },
        "id": "7WE3RdO0AujF",
        "outputId": "f8cc744a-44fa-407c-e4cc-7b6888f3bbf1"
      },
      "source": [
        "numerics = ['int16', 'int32', 'int64', 'float16', 'float32', 'float64']\n",
        "\n",
        "numeric_df = df.select_dtypes(include=numerics)\n",
        "len(numeric_df.columns)"
      ],
      "execution_count": 10,
      "outputs": [
        {
          "output_type": "execute_result",
          "data": {
            "text/plain": [
              "14"
            ]
          },
          "metadata": {
            "tags": []
          },
          "execution_count": 10
        }
      ]
    },
    {
      "cell_type": "markdown",
      "metadata": {
        "id": "8Vn0M2qzGadu"
      },
      "source": [
        "Percentage of missing values per column"
      ]
    },
    {
      "cell_type": "code",
      "metadata": {
        "colab": {
          "base_uri": "https://localhost:8080/"
        },
        "id": "MPNigXKPGfV7",
        "outputId": "89f57710-ad07-4be2-9b58-72377276c9a8"
      },
      "source": [
        "missing_percentages = (df.isna().sum().sort_values(ascending=False) / len(df) )*100\n",
        "missing_percentages"
      ],
      "execution_count": 11,
      "outputs": [
        {
          "output_type": "execute_result",
          "data": {
            "text/plain": [
              "Number                   65.081728\n",
              "Precipitation(in)        44.771263\n",
              "Wind_Chill(F)            40.729888\n",
              "Wind_Speed(mph)          10.567740\n",
              "End_Lat                   9.730270\n",
              "End_Lng                   9.730270\n",
              "Visibility(mi)            2.479796\n",
              "Weather_Condition         2.471986\n",
              "Humidity(%)               2.451997\n",
              "Temperature(F)            2.312797\n",
              "Wind_Direction            2.183781\n",
              "Pressure(in)              1.957882\n",
              "Weather_Timestamp         1.614148\n",
              "Airport_Code              0.227344\n",
              "Timezone                  0.118007\n",
              "Zipcode                   0.038326\n",
              "Nautical_Twilight         0.003784\n",
              "Astronomical_Twilight     0.003784\n",
              "Civil_Twilight            0.003784\n",
              "Sunrise_Sunset            0.003784\n",
              "City                      0.003716\n",
              "Amenity                   0.000000\n",
              "Severity                  0.000000\n",
              "Start_Time                0.000000\n",
              "End_Time                  0.000000\n",
              "Start_Lat                 0.000000\n",
              "Start_Lng                 0.000000\n",
              "Distance(mi)              0.000000\n",
              "Description               0.000000\n",
              "Turning_Loop              0.000000\n",
              "Street                    0.000000\n",
              "Side                      0.000000\n",
              "County                    0.000000\n",
              "Bump                      0.000000\n",
              "State                     0.000000\n",
              "Traffic_Signal            0.000000\n",
              "Country                   0.000000\n",
              "Traffic_Calming           0.000000\n",
              "Stop                      0.000000\n",
              "Station                   0.000000\n",
              "Roundabout                0.000000\n",
              "Railway                   0.000000\n",
              "No_Exit                   0.000000\n",
              "Junction                  0.000000\n",
              "Give_Way                  0.000000\n",
              "Crossing                  0.000000\n",
              "ID                        0.000000\n",
              "dtype: float64"
            ]
          },
          "metadata": {
            "tags": []
          },
          "execution_count": 11
        }
      ]
    },
    {
      "cell_type": "code",
      "metadata": {
        "colab": {
          "base_uri": "https://localhost:8080/"
        },
        "id": "dYMJsxCnGlRK",
        "outputId": "4e7972b4-dd15-425f-e8ab-49bde30fdd34"
      },
      "source": [
        "type(missing_percentages)"
      ],
      "execution_count": 12,
      "outputs": [
        {
          "output_type": "execute_result",
          "data": {
            "text/plain": [
              "pandas.core.series.Series"
            ]
          },
          "metadata": {
            "tags": []
          },
          "execution_count": 12
        }
      ]
    },
    {
      "cell_type": "code",
      "metadata": {
        "colab": {
          "base_uri": "https://localhost:8080/",
          "height": 283
        },
        "id": "yZmVkcYFHaWj",
        "outputId": "73a75fe0-e63b-404b-b776-a14e5bc152d9"
      },
      "source": [
        "missing_percentages[missing_percentages != 0].plot(kind='barh')"
      ],
      "execution_count": 13,
      "outputs": [
        {
          "output_type": "execute_result",
          "data": {
            "text/plain": [
              "<matplotlib.axes._subplots.AxesSubplot at 0x7fa2bf40d390>"
            ]
          },
          "metadata": {
            "tags": []
          },
          "execution_count": 13
        },
        {
          "output_type": "display_data",
          "data": {
            "image/png": "[encoded data removed]",
            "text/plain": [
              "<Figure size 432x288 with 1 Axes>"
            ]
          },
          "metadata": {
            "tags": [],
            "needs_background": "light"
          }
        }
      ]
    },
    {
      "cell_type": "markdown",
      "metadata": {
        "id": "h3E3qqKFIZKT"
      },
      "source": [
        "Remove columns that you don't want to use."
      ]
    },
    {
      "cell_type": "code",
      "metadata": {
        "colab": {
          "base_uri": "https://localhost:8080/"
        },
        "id": "tUBUiAkBJN4S",
        "outputId": "791269a7-936e-420a-b3db-5640f3e3ffc3"
      },
      "source": [
        "df.columns"
      ],
      "execution_count": 14,
      "outputs": [
        {
          "output_type": "execute_result",
          "data": {
            "text/plain": [
              "Index(['ID', 'Severity', 'Start_Time', 'End_Time', 'Start_Lat', 'Start_Lng',\n",
              "       'End_Lat', 'End_Lng', 'Distance(mi)', 'Description', 'Number', 'Street',\n",
              "       'Side', 'City', 'County', 'State', 'Zipcode', 'Country', 'Timezone',\n",
              "       'Airport_Code', 'Weather_Timestamp', 'Temperature(F)', 'Wind_Chill(F)',\n",
              "       'Humidity(%)', 'Pressure(in)', 'Visibility(mi)', 'Wind_Direction',\n",
              "       'Wind_Speed(mph)', 'Precipitation(in)', 'Weather_Condition', 'Amenity',\n",
              "       'Bump', 'Crossing', 'Give_Way', 'Junction', 'No_Exit', 'Railway',\n",
              "       'Roundabout', 'Station', 'Stop', 'Traffic_Calming', 'Traffic_Signal',\n",
              "       'Turning_Loop', 'Sunrise_Sunset', 'Civil_Twilight', 'Nautical_Twilight',\n",
              "       'Astronomical_Twilight'],\n",
              "      dtype='object')"
            ]
          },
          "metadata": {
            "tags": []
          },
          "execution_count": 14
        }
      ]
    },
    {
      "cell_type": "markdown",
      "metadata": {
        "id": "2xcxzr0tIo9I"
      },
      "source": [
        "# **Exploratory Analysis and Visualization**\n",
        "**Columns we'll analyze :-**\n",
        "\n",
        "- City\n",
        "\n",
        "- Start Time\n",
        "\n",
        "- Start Lat, Start Lng\n",
        "\n",
        "- Temperature\n",
        "\n",
        "- Weather Condition"
      ]
    },
    {
      "cell_type": "markdown",
      "metadata": {
        "id": "W5oO3WysJ18B"
      },
      "source": [
        "#City"
      ]
    },
    {
      "cell_type": "code",
      "metadata": {
        "colab": {
          "base_uri": "https://localhost:8080/"
        },
        "id": "ICUMyf0_Hlc4",
        "outputId": "cadf97ad-26f6-4fb2-ccf2-c2b16f6cbd24"
      },
      "source": [
        "df.City"
      ],
      "execution_count": 15,
      "outputs": [
        {
          "output_type": "execute_result",
          "data": {
            "text/plain": [
              "0                Greenville\n",
              "1                 Charlotte\n",
              "2                 Los Gatos\n",
              "3               Carson City\n",
              "4           Fort Lauderdale\n",
              "                 ...       \n",
              "2906605             Houston\n",
              "2906606              Colton\n",
              "2906607               Miami\n",
              "2906608      Salt Lake City\n",
              "2906609    Colorado Springs\n",
              "Name: City, Length: 2906610, dtype: object"
            ]
          },
          "metadata": {
            "tags": []
          },
          "execution_count": 15
        }
      ]
    },
    {
      "cell_type": "code",
      "metadata": {
        "colab": {
          "base_uri": "https://localhost:8080/"
        },
        "id": "FXIIerEXLAXf",
        "outputId": "63125788-4ef1-4d88-81b7-693ceee7c5de"
      },
      "source": [
        "df.City.unique"
      ],
      "execution_count": 16,
      "outputs": [
        {
          "output_type": "execute_result",
          "data": {
            "text/plain": [
              "<bound method Series.unique of 0                Greenville\n",
              "1                 Charlotte\n",
              "2                 Los Gatos\n",
              "3               Carson City\n",
              "4           Fort Lauderdale\n",
              "                 ...       \n",
              "2906605             Houston\n",
              "2906606              Colton\n",
              "2906607               Miami\n",
              "2906608      Salt Lake City\n",
              "2906609    Colorado Springs\n",
              "Name: City, Length: 2906610, dtype: object>"
            ]
          },
          "metadata": {
            "tags": []
          },
          "execution_count": 16
        }
      ]
    },
    {
      "cell_type": "code",
      "metadata": {
        "colab": {
          "base_uri": "https://localhost:8080/"
        },
        "id": "aDDVjNdsLD-q",
        "outputId": "bb8cb40c-66ac-4336-e171-ec0e47d46dfb"
      },
      "source": [
        "len(df.City.unique())"
      ],
      "execution_count": 17,
      "outputs": [
        {
          "output_type": "execute_result",
          "data": {
            "text/plain": [
              "11790"
            ]
          },
          "metadata": {
            "tags": []
          },
          "execution_count": 17
        }
      ]
    },
    {
      "cell_type": "code",
      "metadata": {
        "colab": {
          "base_uri": "https://localhost:8080/"
        },
        "id": "CPDU4f5ILKWY",
        "outputId": "56f47dc7-8d55-4ffb-e6ac-7a572abceb2c"
      },
      "source": [
        "cities_by_acc = df.City.value_counts()\n",
        "cities_by_acc"
      ],
      "execution_count": 18,
      "outputs": [
        {
          "output_type": "execute_result",
          "data": {
            "text/plain": [
              "Los Angeles                  68411\n",
              "Houston                      68265\n",
              "Charlotte                    56176\n",
              "Miami                        49965\n",
              "Dallas                       48525\n",
              "                             ...  \n",
              "Virginia State University        1\n",
              "Broadbent                        1\n",
              "Palmview                         1\n",
              "Dixons Mills                     1\n",
              "Wewoka                           1\n",
              "Name: City, Length: 11789, dtype: int64"
            ]
          },
          "metadata": {
            "tags": []
          },
          "execution_count": 18
        }
      ]
    },
    {
      "cell_type": "code",
      "metadata": {
        "colab": {
          "base_uri": "https://localhost:8080/",
          "height": 816
        },
        "id": "BtBzRRA_Me6I",
        "outputId": "3840ac77-ce99-49e2-fc5c-16c0079b708e"
      },
      "source": [
        "df.head(10)"
      ],
      "execution_count": 19,
      "outputs": [
        {
          "output_type": "execute_result",
          "data": {
            "text/html": [
              "<div>\n",
              "<style scoped>\n",
              "    .dataframe tbody tr th:only-of-type {\n",
              "        vertical-align: middle;\n",
              "    }\n",
              "\n",
              "    .dataframe tbody tr th {\n",
              "        vertical-align: top;\n",
              "    }\n",
              "\n",
              "    .dataframe thead th {\n",
              "        text-align: right;\n",
              "    }\n",
              "</style>\n",
              "<table border=\"1\" class=\"dataframe\">\n",
              "  <thead>\n",
              "    <tr style=\"text-align: right;\">\n",
              "      <th></th>\n",
              "      <th>ID</th>\n",
              "      <th>Severity</th>\n",
              "      <th>Start_Time</th>\n",
              "      <th>End_Time</th>\n",
              "      <th>Start_Lat</th>\n",
              "      <th>Start_Lng</th>\n",
              "      <th>End_Lat</th>\n",
              "      <th>End_Lng</th>\n",
              "      <th>Distance(mi)</th>\n",
              "      <th>Description</th>\n",
              "      <th>Number</th>\n",
              "      <th>Street</th>\n",
              "      <th>Side</th>\n",
              "      <th>City</th>\n",
              "      <th>County</th>\n",
              "      <th>State</th>\n",
              "      <th>Zipcode</th>\n",
              "      <th>Country</th>\n",
              "      <th>Timezone</th>\n",
              "      <th>Airport_Code</th>\n",
              "      <th>Weather_Timestamp</th>\n",
              "      <th>Temperature(F)</th>\n",
              "      <th>Wind_Chill(F)</th>\n",
              "      <th>Humidity(%)</th>\n",
              "      <th>Pressure(in)</th>\n",
              "      <th>Visibility(mi)</th>\n",
              "      <th>Wind_Direction</th>\n",
              "      <th>Wind_Speed(mph)</th>\n",
              "      <th>Precipitation(in)</th>\n",
              "      <th>Weather_Condition</th>\n",
              "      <th>Amenity</th>\n",
              "      <th>Bump</th>\n",
              "      <th>Crossing</th>\n",
              "      <th>Give_Way</th>\n",
              "      <th>Junction</th>\n",
              "      <th>No_Exit</th>\n",
              "      <th>Railway</th>\n",
              "      <th>Roundabout</th>\n",
              "      <th>Station</th>\n",
              "      <th>Stop</th>\n",
              "      <th>Traffic_Calming</th>\n",
              "      <th>Traffic_Signal</th>\n",
              "      <th>Turning_Loop</th>\n",
              "      <th>Sunrise_Sunset</th>\n",
              "      <th>Civil_Twilight</th>\n",
              "      <th>Nautical_Twilight</th>\n",
              "      <th>Astronomical_Twilight</th>\n",
              "    </tr>\n",
              "  </thead>\n",
              "  <tbody>\n",
              "    <tr>\n",
              "      <th>0</th>\n",
              "      <td>A-1</td>\n",
              "      <td>2</td>\n",
              "      <td>2019-05-21 08:29:55</td>\n",
              "      <td>2019-05-21 09:29:40</td>\n",
              "      <td>34.808868</td>\n",
              "      <td>-82.269157</td>\n",
              "      <td>34.808868</td>\n",
              "      <td>-82.269157</td>\n",
              "      <td>0.000</td>\n",
              "      <td>Accident on Tanner Rd at Pennbrooke Ln.</td>\n",
              "      <td>439.0</td>\n",
              "      <td>Tanner Rd</td>\n",
              "      <td>R</td>\n",
              "      <td>Greenville</td>\n",
              "      <td>Greenville</td>\n",
              "      <td>SC</td>\n",
              "      <td>29607-6027</td>\n",
              "      <td>US</td>\n",
              "      <td>US/Eastern</td>\n",
              "      <td>KGMU</td>\n",
              "      <td>2019-05-21 08:53:00</td>\n",
              "      <td>76.0</td>\n",
              "      <td>76.0</td>\n",
              "      <td>52.0</td>\n",
              "      <td>28.91</td>\n",
              "      <td>10.0</td>\n",
              "      <td>N</td>\n",
              "      <td>7.0</td>\n",
              "      <td>0.0</td>\n",
              "      <td>Fair</td>\n",
              "      <td>False</td>\n",
              "      <td>False</td>\n",
              "      <td>False</td>\n",
              "      <td>False</td>\n",
              "      <td>False</td>\n",
              "      <td>False</td>\n",
              "      <td>False</td>\n",
              "      <td>False</td>\n",
              "      <td>False</td>\n",
              "      <td>False</td>\n",
              "      <td>False</td>\n",
              "      <td>False</td>\n",
              "      <td>False</td>\n",
              "      <td>Day</td>\n",
              "      <td>Day</td>\n",
              "      <td>Day</td>\n",
              "      <td>Day</td>\n",
              "    </tr>\n",
              "    <tr>\n",
              "      <th>1</th>\n",
              "      <td>A-2</td>\n",
              "      <td>2</td>\n",
              "      <td>2019-10-07 17:43:09</td>\n",
              "      <td>2019-10-07 19:42:50</td>\n",
              "      <td>35.090080</td>\n",
              "      <td>-80.745560</td>\n",
              "      <td>35.090080</td>\n",
              "      <td>-80.745560</td>\n",
              "      <td>0.000</td>\n",
              "      <td>Accident on Houston Branch Rd at Providence Br...</td>\n",
              "      <td>3299.0</td>\n",
              "      <td>Providence Branch Ln</td>\n",
              "      <td>R</td>\n",
              "      <td>Charlotte</td>\n",
              "      <td>Mecklenburg</td>\n",
              "      <td>NC</td>\n",
              "      <td>28270-8560</td>\n",
              "      <td>US</td>\n",
              "      <td>US/Eastern</td>\n",
              "      <td>KEQY</td>\n",
              "      <td>2019-10-07 17:53:00</td>\n",
              "      <td>76.0</td>\n",
              "      <td>76.0</td>\n",
              "      <td>62.0</td>\n",
              "      <td>29.30</td>\n",
              "      <td>10.0</td>\n",
              "      <td>VAR</td>\n",
              "      <td>3.0</td>\n",
              "      <td>0.0</td>\n",
              "      <td>Cloudy</td>\n",
              "      <td>False</td>\n",
              "      <td>False</td>\n",
              "      <td>False</td>\n",
              "      <td>False</td>\n",
              "      <td>False</td>\n",
              "      <td>False</td>\n",
              "      <td>False</td>\n",
              "      <td>False</td>\n",
              "      <td>False</td>\n",
              "      <td>False</td>\n",
              "      <td>False</td>\n",
              "      <td>False</td>\n",
              "      <td>False</td>\n",
              "      <td>Day</td>\n",
              "      <td>Day</td>\n",
              "      <td>Day</td>\n",
              "      <td>Day</td>\n",
              "    </tr>\n",
              "    <tr>\n",
              "      <th>2</th>\n",
              "      <td>A-3</td>\n",
              "      <td>2</td>\n",
              "      <td>2020-12-13 21:53:00</td>\n",
              "      <td>2020-12-13 22:44:00</td>\n",
              "      <td>37.145730</td>\n",
              "      <td>-121.985052</td>\n",
              "      <td>37.165850</td>\n",
              "      <td>-121.988062</td>\n",
              "      <td>1.400</td>\n",
              "      <td>Stationary traffic on CA-17 from Summit Rd (CA...</td>\n",
              "      <td>NaN</td>\n",
              "      <td>Santa Cruz Hwy</td>\n",
              "      <td>R</td>\n",
              "      <td>Los Gatos</td>\n",
              "      <td>Santa Clara</td>\n",
              "      <td>CA</td>\n",
              "      <td>95033</td>\n",
              "      <td>US</td>\n",
              "      <td>US/Pacific</td>\n",
              "      <td>KSJC</td>\n",
              "      <td>2020-12-13 21:53:00</td>\n",
              "      <td>51.0</td>\n",
              "      <td>51.0</td>\n",
              "      <td>80.0</td>\n",
              "      <td>30.17</td>\n",
              "      <td>10.0</td>\n",
              "      <td>W</td>\n",
              "      <td>6.0</td>\n",
              "      <td>0.0</td>\n",
              "      <td>Fair</td>\n",
              "      <td>False</td>\n",
              "      <td>False</td>\n",
              "      <td>False</td>\n",
              "      <td>False</td>\n",
              "      <td>False</td>\n",
              "      <td>False</td>\n",
              "      <td>False</td>\n",
              "      <td>False</td>\n",
              "      <td>False</td>\n",
              "      <td>False</td>\n",
              "      <td>False</td>\n",
              "      <td>False</td>\n",
              "      <td>False</td>\n",
              "      <td>Night</td>\n",
              "      <td>Night</td>\n",
              "      <td>Night</td>\n",
              "      <td>Night</td>\n",
              "    </tr>\n",
              "    <tr>\n",
              "      <th>3</th>\n",
              "      <td>A-4</td>\n",
              "      <td>2</td>\n",
              "      <td>2018-04-17 16:51:23</td>\n",
              "      <td>2018-04-17 17:50:46</td>\n",
              "      <td>39.110390</td>\n",
              "      <td>-119.773781</td>\n",
              "      <td>39.110390</td>\n",
              "      <td>-119.773781</td>\n",
              "      <td>0.000</td>\n",
              "      <td>Accident on US-395 Southbound at Topsy Ln.</td>\n",
              "      <td>NaN</td>\n",
              "      <td>US Highway 395 S</td>\n",
              "      <td>R</td>\n",
              "      <td>Carson City</td>\n",
              "      <td>Douglas</td>\n",
              "      <td>NV</td>\n",
              "      <td>89705</td>\n",
              "      <td>US</td>\n",
              "      <td>US/Pacific</td>\n",
              "      <td>KCXP</td>\n",
              "      <td>2018-04-17 16:55:00</td>\n",
              "      <td>53.6</td>\n",
              "      <td>NaN</td>\n",
              "      <td>16.0</td>\n",
              "      <td>30.16</td>\n",
              "      <td>10.0</td>\n",
              "      <td>SSW</td>\n",
              "      <td>4.6</td>\n",
              "      <td>NaN</td>\n",
              "      <td>Clear</td>\n",
              "      <td>False</td>\n",
              "      <td>False</td>\n",
              "      <td>False</td>\n",
              "      <td>False</td>\n",
              "      <td>False</td>\n",
              "      <td>False</td>\n",
              "      <td>False</td>\n",
              "      <td>False</td>\n",
              "      <td>False</td>\n",
              "      <td>False</td>\n",
              "      <td>False</td>\n",
              "      <td>True</td>\n",
              "      <td>False</td>\n",
              "      <td>Day</td>\n",
              "      <td>Day</td>\n",
              "      <td>Day</td>\n",
              "      <td>Day</td>\n",
              "    </tr>\n",
              "    <tr>\n",
              "      <th>4</th>\n",
              "      <td>A-5</td>\n",
              "      <td>3</td>\n",
              "      <td>2016-08-31 17:40:49</td>\n",
              "      <td>2016-08-31 18:10:49</td>\n",
              "      <td>26.102942</td>\n",
              "      <td>-80.265091</td>\n",
              "      <td>26.102942</td>\n",
              "      <td>-80.265091</td>\n",
              "      <td>0.000</td>\n",
              "      <td>Accident on I-595 Westbound at Exit 4 / Pine I...</td>\n",
              "      <td>NaN</td>\n",
              "      <td>I-595 W</td>\n",
              "      <td>R</td>\n",
              "      <td>Fort Lauderdale</td>\n",
              "      <td>Broward</td>\n",
              "      <td>FL</td>\n",
              "      <td>33324</td>\n",
              "      <td>US</td>\n",
              "      <td>US/Eastern</td>\n",
              "      <td>KHWO</td>\n",
              "      <td>2016-08-31 17:53:00</td>\n",
              "      <td>84.2</td>\n",
              "      <td>NaN</td>\n",
              "      <td>84.0</td>\n",
              "      <td>29.92</td>\n",
              "      <td>10.0</td>\n",
              "      <td>SSE</td>\n",
              "      <td>13.8</td>\n",
              "      <td>NaN</td>\n",
              "      <td>Overcast</td>\n",
              "      <td>False</td>\n",
              "      <td>False</td>\n",
              "      <td>False</td>\n",
              "      <td>False</td>\n",
              "      <td>True</td>\n",
              "      <td>False</td>\n",
              "      <td>False</td>\n",
              "      <td>False</td>\n",
              "      <td>False</td>\n",
              "      <td>False</td>\n",
              "      <td>False</td>\n",
              "      <td>True</td>\n",
              "      <td>False</td>\n",
              "      <td>Day</td>\n",
              "      <td>Day</td>\n",
              "      <td>Day</td>\n",
              "      <td>Day</td>\n",
              "    </tr>\n",
              "    <tr>\n",
              "      <th>5</th>\n",
              "      <td>A-6</td>\n",
              "      <td>3</td>\n",
              "      <td>2018-10-17 16:40:36</td>\n",
              "      <td>2018-10-17 17:10:18</td>\n",
              "      <td>35.348240</td>\n",
              "      <td>-80.847221</td>\n",
              "      <td>35.348240</td>\n",
              "      <td>-80.847221</td>\n",
              "      <td>0.000</td>\n",
              "      <td>Three lanes blocked due to accident on I-77 No...</td>\n",
              "      <td>NaN</td>\n",
              "      <td>W W.T. Harris Blvd</td>\n",
              "      <td>R</td>\n",
              "      <td>Charlotte</td>\n",
              "      <td>Mecklenburg</td>\n",
              "      <td>NC</td>\n",
              "      <td>28269</td>\n",
              "      <td>US</td>\n",
              "      <td>US/Eastern</td>\n",
              "      <td>KJQF</td>\n",
              "      <td>2018-10-17 16:58:00</td>\n",
              "      <td>73.4</td>\n",
              "      <td>NaN</td>\n",
              "      <td>33.0</td>\n",
              "      <td>30.17</td>\n",
              "      <td>10.0</td>\n",
              "      <td>NNW</td>\n",
              "      <td>6.9</td>\n",
              "      <td>NaN</td>\n",
              "      <td>Clear</td>\n",
              "      <td>False</td>\n",
              "      <td>False</td>\n",
              "      <td>False</td>\n",
              "      <td>False</td>\n",
              "      <td>False</td>\n",
              "      <td>False</td>\n",
              "      <td>False</td>\n",
              "      <td>False</td>\n",
              "      <td>False</td>\n",
              "      <td>False</td>\n",
              "      <td>False</td>\n",
              "      <td>False</td>\n",
              "      <td>False</td>\n",
              "      <td>Day</td>\n",
              "      <td>Day</td>\n",
              "      <td>Day</td>\n",
              "      <td>Day</td>\n",
              "    </tr>\n",
              "    <tr>\n",
              "      <th>6</th>\n",
              "      <td>A-7</td>\n",
              "      <td>4</td>\n",
              "      <td>2019-12-12 09:48:52</td>\n",
              "      <td>2019-12-12 10:18:05</td>\n",
              "      <td>39.523970</td>\n",
              "      <td>-107.777000</td>\n",
              "      <td>39.565780</td>\n",
              "      <td>-107.516950</td>\n",
              "      <td>14.153</td>\n",
              "      <td>Closed between CO-13/Taughenbaugh Blvd/Exit 90...</td>\n",
              "      <td>NaN</td>\n",
              "      <td>I-70 E</td>\n",
              "      <td>R</td>\n",
              "      <td>Rifle</td>\n",
              "      <td>Garfield</td>\n",
              "      <td>CO</td>\n",
              "      <td>81650</td>\n",
              "      <td>US</td>\n",
              "      <td>US/Mountain</td>\n",
              "      <td>KRIL</td>\n",
              "      <td>2019-12-12 09:46:00</td>\n",
              "      <td>28.0</td>\n",
              "      <td>28.0</td>\n",
              "      <td>88.0</td>\n",
              "      <td>24.67</td>\n",
              "      <td>2.0</td>\n",
              "      <td>NE</td>\n",
              "      <td>3.0</td>\n",
              "      <td>0.0</td>\n",
              "      <td>Light Snow</td>\n",
              "      <td>False</td>\n",
              "      <td>False</td>\n",
              "      <td>False</td>\n",
              "      <td>False</td>\n",
              "      <td>False</td>\n",
              "      <td>False</td>\n",
              "      <td>False</td>\n",
              "      <td>False</td>\n",
              "      <td>False</td>\n",
              "      <td>False</td>\n",
              "      <td>False</td>\n",
              "      <td>False</td>\n",
              "      <td>False</td>\n",
              "      <td>Day</td>\n",
              "      <td>Day</td>\n",
              "      <td>Day</td>\n",
              "      <td>Day</td>\n",
              "    </tr>\n",
              "    <tr>\n",
              "      <th>7</th>\n",
              "      <td>A-8</td>\n",
              "      <td>2</td>\n",
              "      <td>2019-12-21 23:59:00</td>\n",
              "      <td>2019-12-22 00:32:06</td>\n",
              "      <td>34.034017</td>\n",
              "      <td>-118.026972</td>\n",
              "      <td>34.034017</td>\n",
              "      <td>-118.026972</td>\n",
              "      <td>0.000</td>\n",
              "      <td>At CA-60/Pomona Fwy - Accident.</td>\n",
              "      <td>NaN</td>\n",
              "      <td>CA-60 W</td>\n",
              "      <td>R</td>\n",
              "      <td>Whittier</td>\n",
              "      <td>Los Angeles</td>\n",
              "      <td>CA</td>\n",
              "      <td>90601</td>\n",
              "      <td>US</td>\n",
              "      <td>US/Pacific</td>\n",
              "      <td>KEMT</td>\n",
              "      <td>2019-12-21 23:53:00</td>\n",
              "      <td>55.0</td>\n",
              "      <td>55.0</td>\n",
              "      <td>40.0</td>\n",
              "      <td>29.86</td>\n",
              "      <td>10.0</td>\n",
              "      <td>E</td>\n",
              "      <td>5.0</td>\n",
              "      <td>0.0</td>\n",
              "      <td>Fair</td>\n",
              "      <td>False</td>\n",
              "      <td>False</td>\n",
              "      <td>False</td>\n",
              "      <td>False</td>\n",
              "      <td>False</td>\n",
              "      <td>False</td>\n",
              "      <td>False</td>\n",
              "      <td>False</td>\n",
              "      <td>False</td>\n",
              "      <td>False</td>\n",
              "      <td>False</td>\n",
              "      <td>False</td>\n",
              "      <td>False</td>\n",
              "      <td>Night</td>\n",
              "      <td>Night</td>\n",
              "      <td>Night</td>\n",
              "      <td>Night</td>\n",
              "    </tr>\n",
              "    <tr>\n",
              "      <th>8</th>\n",
              "      <td>A-9</td>\n",
              "      <td>2</td>\n",
              "      <td>2018-05-23 16:50:24</td>\n",
              "      <td>2018-05-23 22:50:24</td>\n",
              "      <td>35.863490</td>\n",
              "      <td>-86.831680</td>\n",
              "      <td>35.849480</td>\n",
              "      <td>-86.832530</td>\n",
              "      <td>0.969</td>\n",
              "      <td>At TN-248/Peytonsville Rd/Exit 61 - Accident. ...</td>\n",
              "      <td>425.0</td>\n",
              "      <td>Old Peytonsville Rd</td>\n",
              "      <td>R</td>\n",
              "      <td>Franklin</td>\n",
              "      <td>Williamson</td>\n",
              "      <td>TN</td>\n",
              "      <td>37064-5029</td>\n",
              "      <td>US</td>\n",
              "      <td>US/Central</td>\n",
              "      <td>KBNA</td>\n",
              "      <td>2018-05-23 16:53:00</td>\n",
              "      <td>87.1</td>\n",
              "      <td>NaN</td>\n",
              "      <td>43.0</td>\n",
              "      <td>30.04</td>\n",
              "      <td>10.0</td>\n",
              "      <td>NE</td>\n",
              "      <td>8.1</td>\n",
              "      <td>NaN</td>\n",
              "      <td>Mostly Cloudy</td>\n",
              "      <td>False</td>\n",
              "      <td>False</td>\n",
              "      <td>False</td>\n",
              "      <td>False</td>\n",
              "      <td>False</td>\n",
              "      <td>False</td>\n",
              "      <td>False</td>\n",
              "      <td>False</td>\n",
              "      <td>False</td>\n",
              "      <td>False</td>\n",
              "      <td>False</td>\n",
              "      <td>False</td>\n",
              "      <td>False</td>\n",
              "      <td>Day</td>\n",
              "      <td>Day</td>\n",
              "      <td>Day</td>\n",
              "      <td>Day</td>\n",
              "    </tr>\n",
              "    <tr>\n",
              "      <th>9</th>\n",
              "      <td>A-10</td>\n",
              "      <td>2</td>\n",
              "      <td>2019-01-30 08:44:18</td>\n",
              "      <td>2019-01-30 09:14:17</td>\n",
              "      <td>34.426330</td>\n",
              "      <td>-118.585100</td>\n",
              "      <td>34.420220</td>\n",
              "      <td>-118.581900</td>\n",
              "      <td>0.460</td>\n",
              "      <td>At Magic Mountain Pky - Accident. Hard shoulde...</td>\n",
              "      <td>NaN</td>\n",
              "      <td>Golden State Fwy S</td>\n",
              "      <td>R</td>\n",
              "      <td>Valencia</td>\n",
              "      <td>Los Angeles</td>\n",
              "      <td>CA</td>\n",
              "      <td>91355</td>\n",
              "      <td>US</td>\n",
              "      <td>US/Pacific</td>\n",
              "      <td>K3A6</td>\n",
              "      <td>2019-01-30 08:39:00</td>\n",
              "      <td>57.0</td>\n",
              "      <td>57.0</td>\n",
              "      <td>77.0</td>\n",
              "      <td>29.08</td>\n",
              "      <td>5.0</td>\n",
              "      <td>VAR</td>\n",
              "      <td>5.0</td>\n",
              "      <td>0.0</td>\n",
              "      <td>Mostly Cloudy</td>\n",
              "      <td>False</td>\n",
              "      <td>False</td>\n",
              "      <td>False</td>\n",
              "      <td>False</td>\n",
              "      <td>False</td>\n",
              "      <td>False</td>\n",
              "      <td>False</td>\n",
              "      <td>False</td>\n",
              "      <td>False</td>\n",
              "      <td>False</td>\n",
              "      <td>False</td>\n",
              "      <td>False</td>\n",
              "      <td>False</td>\n",
              "      <td>Day</td>\n",
              "      <td>Day</td>\n",
              "      <td>Day</td>\n",
              "      <td>Day</td>\n",
              "    </tr>\n",
              "  </tbody>\n",
              "</table>\n",
              "</div>"
            ],
            "text/plain": [
              "     ID  Severity  ... Nautical_Twilight Astronomical_Twilight\n",
              "0   A-1         2  ...               Day                   Day\n",
              "1   A-2         2  ...               Day                   Day\n",
              "2   A-3         2  ...             Night                 Night\n",
              "3   A-4         2  ...               Day                   Day\n",
              "4   A-5         3  ...               Day                   Day\n",
              "5   A-6         3  ...               Day                   Day\n",
              "6   A-7         4  ...               Day                   Day\n",
              "7   A-8         2  ...             Night                 Night\n",
              "8   A-9         2  ...               Day                   Day\n",
              "9  A-10         2  ...               Day                   Day\n",
              "\n",
              "[10 rows x 47 columns]"
            ]
          },
          "metadata": {
            "tags": []
          },
          "execution_count": 19
        }
      ]
    },
    {
      "cell_type": "code",
      "metadata": {
        "colab": {
          "base_uri": "https://localhost:8080/"
        },
        "id": "yYa5uBvlPI1H",
        "outputId": "70db68e3-fa78-4534-8e32-ae2526f77e6f"
      },
      "source": [
        "'New York' in df.City"
      ],
      "execution_count": 20,
      "outputs": [
        {
          "output_type": "execute_result",
          "data": {
            "text/plain": [
              "False"
            ]
          },
          "metadata": {
            "tags": []
          },
          "execution_count": 20
        }
      ]
    },
    {
      "cell_type": "code",
      "metadata": {
        "colab": {
          "base_uri": "https://localhost:8080/",
          "height": 283
        },
        "id": "0VDGPU1gPjpB",
        "outputId": "034e2b3a-3cb2-4557-8bbd-abdcf8f4229b"
      },
      "source": [
        "cities_by_acc[:20].plot(kind='barh')"
      ],
      "execution_count": 21,
      "outputs": [
        {
          "output_type": "execute_result",
          "data": {
            "text/plain": [
              "<matplotlib.axes._subplots.AxesSubplot at 0x7fa2bf376390>"
            ]
          },
          "metadata": {
            "tags": []
          },
          "execution_count": 21
        },
        {
          "output_type": "display_data",
          "data": {
            "image/png": "[encoded data removed]",
            "text/plain": [
              "<Figure size 432x288 with 1 Axes>"
            ]
          },
          "metadata": {
            "tags": [],
            "needs_background": "light"
          }
        }
      ]
    },
    {
      "cell_type": "code",
      "metadata": {
        "id": "Q3SQJpOoQQkX"
      },
      "source": [
        "import seaborn as sns\n",
        "sns.set_style(\"darkgrid\")"
      ],
      "execution_count": 22,
      "outputs": []
    },
    {
      "cell_type": "code",
      "metadata": {
        "colab": {
          "base_uri": "https://localhost:8080/",
          "height": 351
        },
        "id": "qJ-2JffvWBJr",
        "outputId": "c4777197-2459-4f52-b12a-888bf977bedf"
      },
      "source": [
        "sns.distplot(cities_by_acc)"
      ],
      "execution_count": 23,
      "outputs": [
        {
          "output_type": "stream",
          "text": [
            "/usr/local/lib/python3.7/dist-packages/seaborn/distributions.py:2557: FutureWarning: `distplot` is a deprecated function and will be removed in a future version. Please adapt your code to use either `displot` (a figure-level function with similar flexibility) or `histplot` (an axes-level function for histograms).\n",
            "  warnings.warn(msg, FutureWarning)\n"
          ],
          "name": "stderr"
        },
        {
          "output_type": "execute_result",
          "data": {
            "text/plain": [
              "<matplotlib.axes._subplots.AxesSubplot at 0x7fa2b0c2c5d0>"
            ]
          },
          "metadata": {
            "tags": []
          },
          "execution_count": 23
        },
        {
          "output_type": "display_data",
          "data": {
            "image/png": "[encoded data removed]",
            "text/plain": [
              "<Figure size 432x288 with 1 Axes>"
            ]
          },
          "metadata": {
            "tags": []
          }
        }
      ]
    },
    {
      "cell_type": "code",
      "metadata": {
        "colab": {
          "base_uri": "https://localhost:8080/",
          "height": 301
        },
        "id": "tKa2MjiIS84C",
        "outputId": "bd1adb3f-8e99-41c3-fd37-aec2a8542c6a"
      },
      "source": [
        "sns.histplot(cities_by_acc, log_scale=True)"
      ],
      "execution_count": 24,
      "outputs": [
        {
          "output_type": "execute_result",
          "data": {
            "text/plain": [
              "<matplotlib.axes._subplots.AxesSubplot at 0x7fa2a5b6bdd0>"
            ]
          },
          "metadata": {
            "tags": []
          },
          "execution_count": 24
        },
        {
          "output_type": "display_data",
          "data": {
            "image/png": "[encoded data removed]",
            "text/plain": [
              "<Figure size 432x288 with 1 Axes>"
            ]
          },
          "metadata": {
            "tags": []
          }
        }
      ]
    },
    {
      "cell_type": "code",
      "metadata": {
        "colab": {
          "base_uri": "https://localhost:8080/"
        },
        "id": "_CaN30ECTFZG",
        "outputId": "90f8f644-0c49-4c4f-a403-89266cd98e51"
      },
      "source": [
        "cities_by_acc[cities_by_acc == 1]"
      ],
      "execution_count": 25,
      "outputs": [
        {
          "output_type": "execute_result",
          "data": {
            "text/plain": [
              "Concord Twp                  1\n",
              "Mountain Grove               1\n",
              "Adell                        1\n",
              "Bluff Dale                   1\n",
              "Campbellsport                1\n",
              "                            ..\n",
              "Virginia State University    1\n",
              "Broadbent                    1\n",
              "Palmview                     1\n",
              "Dixons Mills                 1\n",
              "Wewoka                       1\n",
              "Name: City, Length: 1306, dtype: int64"
            ]
          },
          "metadata": {
            "tags": []
          },
          "execution_count": 25
        }
      ]
    },
    {
      "cell_type": "markdown",
      "metadata": {
        "id": "WH4hSCESYJfZ"
      },
      "source": [
        "#Start Time"
      ]
    },
    {
      "cell_type": "code",
      "metadata": {
        "colab": {
          "base_uri": "https://localhost:8080/"
        },
        "id": "QYB-LZfrWSkC",
        "outputId": "db810906-7dec-4b4a-c96a-a7aeb20df0cf"
      },
      "source": [
        "df.Start_Time"
      ],
      "execution_count": 26,
      "outputs": [
        {
          "output_type": "execute_result",
          "data": {
            "text/plain": [
              "0          2019-05-21 08:29:55\n",
              "1          2019-10-07 17:43:09\n",
              "2          2020-12-13 21:53:00\n",
              "3          2018-04-17 16:51:23\n",
              "4          2016-08-31 17:40:49\n",
              "                  ...         \n",
              "2906605    2018-06-28 08:49:01\n",
              "2906606    2019-01-10 02:01:01\n",
              "2906607    2020-11-23 12:52:00\n",
              "2906608    2019-12-29 22:38:00\n",
              "2906609    2018-03-26 13:35:03\n",
              "Name: Start_Time, Length: 2906610, dtype: object"
            ]
          },
          "metadata": {
            "tags": []
          },
          "execution_count": 26
        }
      ]
    },
    {
      "cell_type": "code",
      "metadata": {
        "colab": {
          "base_uri": "https://localhost:8080/",
          "height": 35
        },
        "id": "7JsRUAFgYS2l",
        "outputId": "a3ca4f29-f046-420c-be53-89f46904553e"
      },
      "source": [
        "df.Start_Time[0] #this is string we have to convert it into timestamp"
      ],
      "execution_count": 27,
      "outputs": [
        {
          "output_type": "execute_result",
          "data": {
            "application/vnd.google.colaboratory.intrinsic+json": {
              "type": "string"
            },
            "text/plain": [
              "'2019-05-21 08:29:55'"
            ]
          },
          "metadata": {
            "tags": []
          },
          "execution_count": 27
        }
      ]
    },
    {
      "cell_type": "code",
      "metadata": {
        "id": "VH4p8O6rYdUs"
      },
      "source": [
        "df.Start_Time = pd.to_datetime(df.Start_Time)"
      ],
      "execution_count": 28,
      "outputs": []
    },
    {
      "cell_type": "code",
      "metadata": {
        "colab": {
          "base_uri": "https://localhost:8080/"
        },
        "id": "cp-2ocTebdud",
        "outputId": "f2c234eb-af18-4c20-f657-3a9ac157bf2c"
      },
      "source": [
        "df.Start_Time[0]"
      ],
      "execution_count": 29,
      "outputs": [
        {
          "output_type": "execute_result",
          "data": {
            "text/plain": [
              "Timestamp('2019-05-21 08:29:55')"
            ]
          },
          "metadata": {
            "tags": []
          },
          "execution_count": 29
        }
      ]
    },
    {
      "cell_type": "code",
      "metadata": {
        "colab": {
          "base_uri": "https://localhost:8080/",
          "height": 352
        },
        "id": "4Ejh6bSnbf5X",
        "outputId": "4970b6c7-42f0-457e-b43c-0bae0acfd2bb"
      },
      "source": [
        "sns.distplot(df.Start_Time.dt.hour, bins=24, kde=False, norm_hist=True) #norm_hist shows percentage"
      ],
      "execution_count": 30,
      "outputs": [
        {
          "output_type": "stream",
          "text": [
            "/usr/local/lib/python3.7/dist-packages/seaborn/distributions.py:2557: FutureWarning: `distplot` is a deprecated function and will be removed in a future version. Please adapt your code to use either `displot` (a figure-level function with similar flexibility) or `histplot` (an axes-level function for histograms).\n",
            "  warnings.warn(msg, FutureWarning)\n"
          ],
          "name": "stderr"
        },
        {
          "output_type": "execute_result",
          "data": {
            "text/plain": [
              "<matplotlib.axes._subplots.AxesSubplot at 0x7fa2a585f810>"
            ]
          },
          "metadata": {
            "tags": []
          },
          "execution_count": 30
        },
        {
          "output_type": "display_data",
          "data": {
            "image/png": "[encoded data removed]",
            "text/plain": [
              "<Figure size 432x288 with 1 Axes>"
            ]
          },
          "metadata": {
            "tags": []
          }
        }
      ]
    },
    {
      "cell_type": "markdown",
      "metadata": {
        "id": "Iu2du8-xhn2M"
      },
      "source": [
        "A high percentage of accidents occur between 6 am to 10 am (probably people in a hurry to get to work)\n",
        "\n",
        "Next higest percentage is 3 pm to 6 pm."
      ]
    },
    {
      "cell_type": "code",
      "metadata": {
        "colab": {
          "base_uri": "https://localhost:8080/",
          "height": 352
        },
        "id": "BPPjrFeahrsO",
        "outputId": "e2beb870-f1dc-453a-d30a-47bc309f5d1c"
      },
      "source": [
        "sns.distplot(df.Start_Time.dt.dayofweek, bins=7, kde=False, norm_hist=True)"
      ],
      "execution_count": 31,
      "outputs": [
        {
          "output_type": "stream",
          "text": [
            "/usr/local/lib/python3.7/dist-packages/seaborn/distributions.py:2557: FutureWarning: `distplot` is a deprecated function and will be removed in a future version. Please adapt your code to use either `displot` (a figure-level function with similar flexibility) or `histplot` (an axes-level function for histograms).\n",
            "  warnings.warn(msg, FutureWarning)\n"
          ],
          "name": "stderr"
        },
        {
          "output_type": "execute_result",
          "data": {
            "text/plain": [
              "<matplotlib.axes._subplots.AxesSubplot at 0x7fa2a5917150>"
            ]
          },
          "metadata": {
            "tags": []
          },
          "execution_count": 31
        },
        {
          "output_type": "display_data",
          "data": {
            "image/png": "[encoded data removed]",
            "text/plain": [
              "<Figure size 432x288 with 1 Axes>"
            ]
          },
          "metadata": {
            "tags": []
          }
        }
      ]
    },
    {
      "cell_type": "markdown",
      "metadata": {
        "id": "nitkny-gh_gf"
      },
      "source": [
        "Is the distribution of accidents by hour the same on weekends as on weekdays."
      ]
    },
    {
      "cell_type": "code",
      "metadata": {
        "colab": {
          "base_uri": "https://localhost:8080/",
          "height": 352
        },
        "id": "sSNiiG9Phzv-",
        "outputId": "5877b8bb-7307-4ce5-f83c-6538693bea87"
      },
      "source": [
        "sundays_start_time = df.Start_Time[df.Start_Time.dt.dayofweek == 6]\n",
        "sns.distplot(sundays_start_time.dt.hour, bins=24, kde=False, norm_hist=True)"
      ],
      "execution_count": 32,
      "outputs": [
        {
          "output_type": "stream",
          "text": [
            "/usr/local/lib/python3.7/dist-packages/seaborn/distributions.py:2557: FutureWarning: `distplot` is a deprecated function and will be removed in a future version. Please adapt your code to use either `displot` (a figure-level function with similar flexibility) or `histplot` (an axes-level function for histograms).\n",
            "  warnings.warn(msg, FutureWarning)\n"
          ],
          "name": "stderr"
        },
        {
          "output_type": "execute_result",
          "data": {
            "text/plain": [
              "<matplotlib.axes._subplots.AxesSubplot at 0x7fa2a5845c50>"
            ]
          },
          "metadata": {
            "tags": []
          },
          "execution_count": 32
        },
        {
          "output_type": "display_data",
          "data": {
            "image/png": "[encoded data removed]",
            "text/plain": [
              "<Figure size 432x288 with 1 Axes>"
            ]
          },
          "metadata": {
            "tags": []
          }
        }
      ]
    },
    {
      "cell_type": "code",
      "metadata": {
        "colab": {
          "base_uri": "https://localhost:8080/",
          "height": 352
        },
        "id": "rO_mRfbOiETb",
        "outputId": "eae1d2f3-91d8-4fe1-ea7c-45914191181c"
      },
      "source": [
        "monday_start_time = df.Start_Time[df.Start_Time.dt.dayofweek == 0]\n",
        "sns.distplot(monday_start_time.dt.hour, bins=24, kde=False, norm_hist=True)"
      ],
      "execution_count": 33,
      "outputs": [
        {
          "output_type": "stream",
          "text": [
            "/usr/local/lib/python3.7/dist-packages/seaborn/distributions.py:2557: FutureWarning: `distplot` is a deprecated function and will be removed in a future version. Please adapt your code to use either `displot` (a figure-level function with similar flexibility) or `histplot` (an axes-level function for histograms).\n",
            "  warnings.warn(msg, FutureWarning)\n"
          ],
          "name": "stderr"
        },
        {
          "output_type": "execute_result",
          "data": {
            "text/plain": [
              "<matplotlib.axes._subplots.AxesSubplot at 0x7fa2a573a990>"
            ]
          },
          "metadata": {
            "tags": []
          },
          "execution_count": 33
        },
        {
          "output_type": "display_data",
          "data": {
            "image/png": "[encoded data removed]",
            "text/plain": [
              "<Figure size 432x288 with 1 Axes>"
            ]
          },
          "metadata": {
            "tags": []
          }
        }
      ]
    },
    {
      "cell_type": "markdown",
      "metadata": {
        "id": "DnjF-oCSiU0w"
      },
      "source": [
        "On Sundays, the peak occurs between 10 am and 3 pm, unlike weekdays"
      ]
    },
    {
      "cell_type": "markdown",
      "metadata": {
        "id": "dw10v9qpNyTh"
      },
      "source": [
        "#Start Latitude & Longitude"
      ]
    },
    {
      "cell_type": "code",
      "metadata": {
        "colab": {
          "base_uri": "https://localhost:8080/"
        },
        "id": "27lg1ppTMpwN",
        "outputId": "7e5691ef-a1ce-42b6-eefb-4630380c5898"
      },
      "source": [
        "df.Start_Lat"
      ],
      "execution_count": 37,
      "outputs": [
        {
          "output_type": "execute_result",
          "data": {
            "text/plain": [
              "0          34.808868\n",
              "1          35.090080\n",
              "2          37.145730\n",
              "3          39.110390\n",
              "4          26.102942\n",
              "             ...    \n",
              "2906605    29.813824\n",
              "2906606    34.068890\n",
              "2906607    25.702200\n",
              "2906608    40.660140\n",
              "2906609    38.831749\n",
              "Name: Start_Lat, Length: 2906610, dtype: float64"
            ]
          },
          "metadata": {
            "tags": []
          },
          "execution_count": 37
        }
      ]
    },
    {
      "cell_type": "code",
      "metadata": {
        "colab": {
          "base_uri": "https://localhost:8080/"
        },
        "id": "M2F1gRnAiO_I",
        "outputId": "c88f4d65-c555-4d90-d602-c53f10255918"
      },
      "source": [
        "df.Start_Lng"
      ],
      "execution_count": 38,
      "outputs": [
        {
          "output_type": "execute_result",
          "data": {
            "text/plain": [
              "0          -82.269157\n",
              "1          -80.745560\n",
              "2         -121.985052\n",
              "3         -119.773781\n",
              "4          -80.265091\n",
              "              ...    \n",
              "2906605    -95.399437\n",
              "2906606   -117.342010\n",
              "2906607    -80.335556\n",
              "2906608   -111.952460\n",
              "2906609   -104.748161\n",
              "Name: Start_Lng, Length: 2906610, dtype: float64"
            ]
          },
          "metadata": {
            "tags": []
          },
          "execution_count": 38
        }
      ]
    },
    {
      "cell_type": "code",
      "metadata": {
        "colab": {
          "base_uri": "https://localhost:8080/",
          "height": 299
        },
        "id": "v7kQut4uibFp",
        "outputId": "6947705b-e78d-4d8a-ad4c-1d004a9f923a"
      },
      "source": [
        "sns.scatterplot(y=df.Start_Lat,x=df.Start_Lng)"
      ],
      "execution_count": 40,
      "outputs": [
        {
          "output_type": "execute_result",
          "data": {
            "text/plain": [
              "<matplotlib.axes._subplots.AxesSubplot at 0x7fa2a530aa90>"
            ]
          },
          "metadata": {
            "tags": []
          },
          "execution_count": 40
        },
        {
          "output_type": "display_data",
          "data": {
            "image/png": "[encoded data removed]",
            "text/plain": [
              "<Figure size 432x288 with 1 Axes>"
            ]
          },
          "metadata": {
            "tags": []
          }
        }
      ]
    },
    {
      "cell_type": "code",
      "metadata": {
        "id": "aC1q7ZpWjDCM"
      },
      "source": [
        "import folium\n",
        "#Folium is a powerful data visualization library in Python that was built primarily to help people visualize geospatial data.\n",
        "#With Folium, one can create a map of any location in the world if its latitude and longitude values are known."
      ],
      "execution_count": 44,
      "outputs": []
    },
    {
      "cell_type": "code",
      "metadata": {
        "colab": {
          "base_uri": "https://localhost:8080/"
        },
        "id": "wR9mAbcwWQkf",
        "outputId": "5899276f-b207-4b61-82e7-02eaff1f0eac"
      },
      "source": [
        "lat, lon = df.Start_Lat[0], df.Start_Lng[0]\n",
        "lat, lon"
      ],
      "execution_count": 45,
      "outputs": [
        {
          "output_type": "execute_result",
          "data": {
            "text/plain": [
              "(34.808868, -82.26915699999998)"
            ]
          },
          "metadata": {
            "tags": []
          },
          "execution_count": 45
        }
      ]
    },
    {
      "cell_type": "code",
      "metadata": {
        "colab": {
          "base_uri": "https://localhost:8080/"
        },
        "id": "Oi9eVjcAWSjr",
        "outputId": "1c23578a-7538-4ab0-a3e3-25b4cbde5e19"
      },
      "source": [
        "for x in df[['Start_Lat', 'Start_Lng']].sample(100).iteritems():\n",
        "    print(x[1])"
      ],
      "execution_count": 46,
      "outputs": [
        {
          "output_type": "stream",
          "text": [
            "1495751    45.058338\n",
            "2770994    27.758341\n",
            "2365659    41.601680\n",
            "791036     33.236965\n",
            "1480051    34.023406\n",
            "             ...    \n",
            "2470390    44.244400\n",
            "1531687    32.840964\n",
            "2819701    30.424335\n",
            "884188     29.744053\n",
            "2849031    41.849380\n",
            "Name: Start_Lat, Length: 100, dtype: float64\n",
            "1495751    -93.405884\n",
            "2770994    -82.675285\n",
            "2365659    -73.174690\n",
            "791036     -87.605324\n",
            "1480051   -117.748134\n",
            "              ...    \n",
            "2470390   -121.191312\n",
            "1531687   -117.097340\n",
            "2819701    -91.150719\n",
            "884188     -95.362839\n",
            "2849031    -87.644510\n",
            "Name: Start_Lng, Length: 100, dtype: float64\n"
          ],
          "name": "stdout"
        }
      ]
    },
    {
      "cell_type": "code",
      "metadata": {
        "colab": {
          "base_uri": "https://localhost:8080/"
        },
        "id": "SoyBct-hWU7-",
        "outputId": "35aa80f6-2ab3-465a-f67a-b027567ea6d6"
      },
      "source": [
        "zip(list(df.Start_Lat), list(df.Start_Lng))"
      ],
      "execution_count": 47,
      "outputs": [
        {
          "output_type": "execute_result",
          "data": {
            "text/plain": [
              "<zip at 0x7fa2d6eb40a0>"
            ]
          },
          "metadata": {
            "tags": []
          },
          "execution_count": 47
        }
      ]
    },
    {
      "cell_type": "code",
      "metadata": {
        "id": "EevIkrjiWqIf"
      },
      "source": [
        "from folium.plugins import HeatMap"
      ],
      "execution_count": 48,
      "outputs": []
    },
    {
      "cell_type": "code",
      "metadata": {
        "id": "xcF_bPD7WvJ1"
      },
      "source": [
        "sample_df = df.sample(int(0.001 * len(df)))\n",
        "lat_lon_pairs = list(zip(list(sample_df.Start_Lat), list(sample_df.Start_Lng)))"
      ],
      "execution_count": 50,
      "outputs": []
    },
    {
      "cell_type": "code",
      "metadata": {
        "colab": {
          "base_uri": "https://localhost:8080/",
          "height": 712
        },
        "id": "3r7RT2trW1eI",
        "outputId": "c6ce3056-a1f2-4af1-aade-7e5ed78fc4b6"
      },
      "source": [
        "map = folium.Map()\n",
        "HeatMap(lat_lon_pairs).add_to(map)\n",
        "map"
      ],
      "execution_count": 54,
      "outputs": [
        {
          "output_type": "execute_result",
          "data": {
            "text/html": [
              "<div style=\"width:100%;\"><div style=\"position:relative;width:100%;height:0;padding-bottom:60%;\"><span style=\"color:#565656\">Make this Notebook Trusted to load map: File -> Trust Notebook</span><iframe src=\"about:blank\" style=\"position:absolute;width:100%;height:100%;left:0;top:0;border:none !important;\" data-html=%3C%21DOCTYPE%20html%3E%0A%3Chead%3E%20%20%20%20%0A%20%20%20%20%3Cmeta%20http-equiv%3D%22content-type%22%20content%3D%22text/html%3B%20charset%3DUTF-8%22%20/%3E%0A%20%20%20%20%3Cscript%3EL_PREFER_CANVAS%3Dfalse%3B%20L_NO_TOUCH%3Dfalse%3B%20L_DISABLE_3D%3Dfalse%3B%3C/script%3E%0A%20%20%20%20%3Cscript%20src%3D%22https%3A//cdn.jsdelivr.net/npm/leaflet%401.4.0/dist/leaflet.js%22%3E%3C/script%3E%0A%20%20%20%20%3Cscript%20src%3D%22https%3A//code.jquery.com/jquery-1.12.4.min.js%22%3E%3C/script%3E%0A%20%20%20%20%3Cscript%20src%3D%22https%3A//maxcdn.bootstrapcdn.com/bootstrap/3.2.0/js/bootstrap.min.js%22%3E%3C/script%3E%0A%20%20%20%20%3Cscript%20src%3D%22https%3A//cdnjs.cloudflare.com/ajax/libs/Leaflet.awesome-markers/2.0.2/leaflet.awesome-markers.js%22%3E%3C/script%3E%0A%20%20%20%20%3Clink%20rel%3D%22stylesheet%22%20href%3D%22https%3A//cdn.jsdelivr.net/npm/leaflet%401.4.0/dist/leaflet.css%22/%3E%0A%20%20%20%20%3Clink%20rel%3D%22stylesheet%22%20href%3D%22https%3A//maxcdn.bootstrapcdn.com/bootstrap/3.2.0/css/bootstrap.min.css%22/%3E%0A%20%20%20%20%3Clink%20rel%3D%22stylesheet%22%20href%3D%22https%3A//maxcdn.bootstrapcdn.com/bootstrap/3.2.0/css/bootstrap-theme.min.css%22/%3E%0A%20%20%20%20%3Clink%20rel%3D%22stylesheet%22%20href%3D%22https%3A//maxcdn.bootstrapcdn.com/font-awesome/4.6.3/css/font-awesome.min.css%22/%3E%0A%20%20%20%20%3Clink%20rel%3D%22stylesheet%22%20href%3D%22https%3A//cdnjs.cloudflare.com/ajax/libs/Leaflet.awesome-markers/2.0.2/leaflet.awesome-markers.css%22/%3E%0A%20%20%20%20%3Clink%20rel%3D%22stylesheet%22%20href%3D%22https%3A//rawcdn.githack.com/python-visualization/folium/master/folium/templates/leaflet.awesome.rotate.css%22/%3E%0A%20%20%20%20%3Cstyle%3Ehtml%2C%20body%20%7Bwidth%3A%20100%25%3Bheight%3A%20100%25%3Bmargin%3A%200%3Bpadding%3A%200%3B%7D%3C/style%3E%0A%20%20%20%20%3Cstyle%3E%23map%20%7Bposition%3Aabsolute%3Btop%3A0%3Bbottom%3A0%3Bright%3A0%3Bleft%3A0%3B%7D%3C/style%3E%0A%20%20%20%20%0A%20%20%20%20%3Cmeta%20name%3D%22viewport%22%20content%3D%22width%3Ddevice-width%2C%0A%20%20%20%20%20%20%20%20initial-scale%3D1.0%2C%20maximum-scale%3D1.0%2C%20user-scalable%3Dno%22%20/%3E%0A%20%20%20%20%3Cstyle%3E%23map_866d996a62fe488ba067df9d83e16273%20%7B%0A%20%20%20%20%20%20%20%20position%3A%20relative%3B%0A%20%20%20%20%20%20%20%20width%3A%20100.0%25%3B%0A%20%20%20%20%20%20%20%20height%3A%20100.0%25%3B%0A%20%20%20%20%20%20%20%20left%3A%200.0%25%3B%0A%20%20%20%20%20%20%20%20top%3A%200.0%25%3B%0A%20%20%20%20%20%20%20%20%7D%0A%20%20%20%20%3C/style%3E%0A%20%20%20%20%3Cscript%20src%3D%22https%3A//leaflet.github.io/Leaflet.heat/dist/leaflet-heat.js%22%3E%3C/script%3E%0A%3C/head%3E%0A%3Cbody%3E%20%20%20%20%0A%20%20%20%20%0A%20%20%20%20%3Cdiv%20class%3D%22folium-map%22%20id%3D%22map_866d996a62fe488ba067df9d83e16273%22%20%3E%3C/div%3E%0A%3C/body%3E%0A%3Cscript%3E%20%20%20%20%0A%20%20%20%20%0A%20%20%20%20%0A%20%20%20%20%20%20%20%20var%20bounds%20%3D%20null%3B%0A%20%20%20%20%0A%0A%20%20%20%20var%20map_866d996a62fe488ba067df9d83e16273%20%3D%20L.map%28%0A%20%20%20%20%20%20%20%20%27map_866d996a62fe488ba067df9d83e16273%27%2C%20%7B%0A%20%20%20%20%20%20%20%20center%3A%20%5B0%2C%200%5D%2C%0A%20%20%20%20%20%20%20%20zoom%3A%201%2C%0A%20%20%20%20%20%20%20%20maxBounds%3A%20bounds%2C%0A%20%20%20%20%20%20%20%20layers%3A%20%5B%5D%2C%0A%20%20%20%20%20%20%20%20worldCopyJump%3A%20false%2C%0A%20%20%20%20%20%20%20%20crs%3A%20L.CRS.EPSG3857%2C%0A%20%20%20%20%20%20%20%20zoomControl%3A%20true%2C%0A%20%20%20%20%20%20%20%20%7D%29%3B%0A%0A%0A%20%20%20%20%0A%20%20%20%20var%20tile_layer_795c46b931424f8f9ed8c3f91e7b7b8d%20%3D%20L.tileLayer%28%0A%20%20%20%20%20%20%20%20%27https%3A//%7Bs%7D.tile.openstreetmap.org/%7Bz%7D/%7Bx%7D/%7By%7D.png%27%2C%0A%20%20%20%20%20%20%20%20%7B%0A%20%20%20%20%20%20%20%20%22attribution%22%3A%20null%2C%0A%20%20%20%20%20%20%20%20%22detectRetina%22%3A%20false%2C%0A%20%20%20%20%20%20%20%20%22maxNativeZoom%22%3A%2018%2C%0A%20%20%20%20%20%20%20%20%22maxZoom%22%3A%2018%2C%0A%20%20%20%20%20%20%20%20%22minZoom%22%3A%200%2C%0A%20%20%20%20%20%20%20%20%22noWrap%22%3A%20false%2C%0A%20%20%20%20%20%20%20%20%22opacity%22%3A%201%2C%0A%20%20%20%20%20%20%20%20%22subdomains%22%3A%20%22abc%22%2C%0A%20%20%20%20%20%20%20%20%22tms%22%3A%20false%0A%7D%29.addTo%28map_866d996a62fe488ba067df9d83e16273%29%3B%0A%20%20%20%20%0A%20%20%20%20%20%20%20%20%20%20%20%20var%20heat_map_08321f84f50744faa12e197e68cc346c%20%3D%20L.heatLayer%28%0A%20%20%20%20%20%20%20%20%20%20%20%20%20%20%20%20%5B%5B35.12781%2C%20-89.94524%5D%2C%20%5B46.13202800000001%2C%20-122.89894%5D%2C%20%5B42.26404%2C%20-88.17898000000002%5D%2C%20%5B34.86462%2C%20-82.41214000000002%5D%2C%20%5B42.18265%2C%20-87.98945%5D%2C%20%5B35.439234%2C%20-119.081706%5D%2C%20%5B41.306259%2C%20-111.992104%5D%2C%20%5B39.780002%2C%20-104.971114%5D%2C%20%5B30.40806%2C%20-91.101921%5D%2C%20%5B33.604477%2C%20-117.69056100000002%5D%2C%20%5B33.825932%2C%20-118.241554%5D%2C%20%5B47.38629%2C%20-122.29004%5D%2C%20%5B42.361366%2C%20-71.072342%5D%2C%20%5B34.936240999999995%2C%20-81.996117%5D%2C%20%5B29.737062%2C%20-95.548393%5D%2C%20%5B36.100887%2C%20-80.468727%5D%2C%20%5B41.11048%2C%20-80.83281%5D%2C%20%5B26.115097%2C%20-80.316734%5D%2C%20%5B32.960066999999995%2C%20-96.915024%5D%2C%20%5B40.24342%2C%20-75.19223000000002%5D%2C%20%5B40.42338%2C%20-80.10592%5D%2C%20%5B39.98408%2C%20-83.11895%5D%2C%20%5B35.44122700000001%2C%20-119.052419%5D%2C%20%5B45.50442%2C%20-122.56546000000002%5D%2C%20%5B37.50364%2C%20-77.65167%5D%2C%20%5B36.06105%2C%20-96.004028%5D%2C%20%5B35.830517%2C%20-78.635628%5D%2C%20%5B35.46335%2C%20-97.47414%5D%2C%20%5B36.039547%2C%20-86.78235600000002%5D%2C%20%5B39.009892%2C%20-78.297714%5D%2C%20%5B41.971874%2C%20-88.207062%5D%2C%20%5B42.863259%2C%20-73.768249%5D%2C%20%5B37.621602%2C%20-120.98571499999998%5D%2C%20%5B32.601536%2C%20-117.089739%5D%2C%20%5B33.875553000000004%2C%20-118.193275%5D%2C%20%5B38.642816%2C%20-121.12173%5D%2C%20%5B37.278317%2C%20-78.215199%5D%2C%20%5B27.464381%2C%20-82.57543199999998%5D%2C%20%5B27.215052000000004%2C%20-80.400873%5D%2C%20%5B44.618149%2C%20-117.4963%5D%2C%20%5B32.921543%2C%20-96.818382%5D%2C%20%5B35.336517%2C%20-80.96079300000002%5D%2C%20%5B45.44498%2C%20-122.73702%5D%2C%20%5B40.625326%2C%20-74.24458299999998%5D%2C%20%5B33.521034%2C%20-86.851479%5D%2C%20%5B40.7341%2C%20-74.12472%5D%2C%20%5B41.90408%2C%20-88.12057%5D%2C%20%5B34.029499%2C%20-118.224541%5D%2C%20%5B34.032352%2C%20-118.029114%5D%2C%20%5B39.534743%2C%20-123.404408%5D%2C%20%5B37.58919%2C%20-121.8721%5D%2C%20%5B42.666691%2C%20-73.7715%5D%2C%20%5B30.41342%2C%20-91.082771%5D%2C%20%5B35.22717%2C%20-80.97113%5D%2C%20%5B32.837094%2C%20-96.987079%5D%2C%20%5B39.73562%2C%20-86.04395%5D%2C%20%5B29.785391%2C%20-95.64502%5D%2C%20%5B33.698729%2C%20-84.650088%5D%2C%20%5B44.426919%2C%20-92.62124%5D%2C%20%5B27.996322%2C%20-82.346691%5D%2C%20%5B40.72559%2C%20-111.91113500000002%5D%2C%20%5B40.21965%2C%20-111.66989%5D%2C%20%5B42.943954%2C%20-83.728836%5D%2C%20%5B37.205105%2C%20-77.41233100000002%5D%2C%20%5B29.67807%2C%20-95.41279%5D%2C%20%5B35.164258000000004%2C%20-89.864434%5D%2C%20%5B35.75444%2C%20-78.61245%5D%2C%20%5B36.13341%2C%20-95.815431%5D%2C%20%5B36.430538%2C%20-77.629951%5D%2C%20%5B29.39551%2C%20-98.478485%5D%2C%20%5B38.75139%2C%20-90.44763%5D%2C%20%5B32.759632%2C%20-96.793755%5D%2C%20%5B33.974731%2C%20-118.234352%5D%2C%20%5B35.536861%2C%20-97.512016%5D%2C%20%5B42.981178%2C%20-87.967979%5D%2C%20%5B33.8825%2C%20-117.64503%5D%2C%20%5B41.244531%2C%20-112.000302%5D%2C%20%5B39.98046%2C%20-75.104416%5D%2C%20%5B35.226349%2C%20-80.80323%5D%2C%20%5B40.142536%2C%20-75.45371999999998%5D%2C%20%5B42.525875%2C%20-122.846283%5D%2C%20%5B37.80647%2C%20-121.99071%5D%2C%20%5B40.73208%2C%20-73.87064000000002%5D%2C%20%5B36.753944%2C%20-119.68367%5D%2C%20%5B30.342119%2C%20-81.543922%5D%2C%20%5B34.172058%2C%20-118.467873%5D%2C%20%5B34.524277000000005%2C%20-117.318306%5D%2C%20%5B32.309006%2C%20-111.041992%5D%2C%20%5B42.967476%2C%20-83.671823%5D%2C%20%5B44.97626%2C%20-93.24667%5D%2C%20%5B34.068954%2C%20-117.362045%5D%2C%20%5B35.18431%2C%20-80.75683000000002%5D%2C%20%5B33.293259%2C%20-84.544609%5D%2C%20%5B39.908836%2C%20-104.824768%5D%2C%20%5B40.972072%2C%20-82.366074%5D%2C%20%5B33.980759%2C%20-81.10700200000002%5D%2C%20%5B40.679431%2C%20-73.87926999999998%5D%2C%20%5B25.99876%2C%20-80.25808%5D%2C%20%5B33.944889%2C%20-80.753288%5D%2C%20%5B38.656841%2C%20-77.27916%5D%2C%20%5B33.95669%2C%20-117.30653%5D%2C%20%5B25.780965%2C%20-80.336579%5D%2C%20%5B36.98981%2C%20-122.02177%5D%2C%20%5B34.404866%2C%20-118.574613%5D%2C%20%5B33.583649%2C%20-117.630852%5D%2C%20%5B29.683777000000006%2C%20-95.275807%5D%2C%20%5B32.696302%2C%20-117.094721%5D%2C%20%5B32.739281%2C%20-117.015503%5D%2C%20%5B39.19325%2C%20-94.58994%5D%2C%20%5B43.142695%2C%20-77.658772%5D%2C%20%5B44.21856500000001%2C%20-93.561314%5D%2C%20%5B33.701763%2C%20-84.40383100000003%5D%2C%20%5B32.85892%2C%20-83.64238%5D%2C%20%5B29.693918%2C%20-95.351746%5D%2C%20%5B29.750740000000004%2C%20-95.37114%5D%2C%20%5B35.060902%2C%20-82.401765%5D%2C%20%5B32.81965%2C%20-96.63543%5D%2C%20%5B33.952721000000004%2C%20-78.707619%5D%2C%20%5B45.023239%2C%20-93.284401%5D%2C%20%5B37.77189600000001%2C%20-122.223923%5D%2C%20%5B28.209488%2C%20-82.246048%5D%2C%20%5B36.758719%2C%20-76.341215%5D%2C%20%5B41.56130200000001%2C%20-73.05725100000002%5D%2C%20%5B40.071739%2C%20-75.15406800000002%5D%2C%20%5B28.59823%2C%20-81.71844499999997%5D%2C%20%5B30.46512%2C%20-91.019897%5D%2C%20%5B35.348534%2C%20-97.586472%5D%2C%20%5B45.016341%2C%20-122.99043%5D%2C%20%5B30.234957%2C%20-97.721985%5D%2C%20%5B41.1616%2C%20-112.06387%5D%2C%20%5B40.68983400000001%2C%20-73.562775%5D%2C%20%5B37.418405%2C%20-77.594229%5D%2C%20%5B34.052629%2C%20-118.306892%5D%2C%20%5B39.038151%2C%20-94.337471%5D%2C%20%5B33.923763%2C%20-118.246277%5D%2C%20%5B40.17103%2C%20-75.07122%5D%2C%20%5B40.101688%2C%20-105.1772%5D%2C%20%5B41.62698%2C%20-87.67585%5D%2C%20%5B30.597216%2C%20-91.121361%5D%2C%20%5B39.769226%2C%20-104.931747%5D%2C%20%5B45.53365%2C%20-122.62564%5D%2C%20%5B32.92887%2C%20-96.82132%5D%2C%20%5B29.445066%2C%20-98.361176%5D%2C%20%5B34.10675%2C%20-117.8218%5D%2C%20%5B39.006925%2C%20-121.633898%5D%2C%20%5B35.72772600000001%2C%20-78.612534%5D%2C%20%5B33.874%2C%20-118.22925%5D%2C%20%5B46.6725%2C%20-113.154451%5D%2C%20%5B26.608017%2C%20-80.173534%5D%2C%20%5B35.340027%2C%20-119.039139%5D%2C%20%5B38.788088%2C%20-77.514365%5D%2C%20%5B32.279354%2C%20-110.96106%5D%2C%20%5B41.93101%2C%20-87.96667%5D%2C%20%5B41.96845%2C%20-87.70846999999998%5D%2C%20%5B33.77187%2C%20-84.39041%5D%2C%20%5B38.581314%2C%20-121.463473%5D%2C%20%5B40.19529%2C%20-74.10039300000003%5D%2C%20%5B38.640114%2C%20-121.196022%5D%2C%20%5B28.571173%2C%20-81.375206%5D%2C%20%5B39.819969%2C%20-84.179443%5D%2C%20%5B34.03167%2C%20-118.02194%5D%2C%20%5B35.16267%2C%20-80.73938000000003%5D%2C%20%5B38.498025%2C%20-121.46026299999998%5D%2C%20%5B33.555138%2C%20-83.47425799999998%5D%2C%20%5B36.971451%2C%20-121.907242%5D%2C%20%5B40.62077%2C%20-73.65005500000002%5D%2C%20%5B38.8339%2C%20-120.848007%5D%2C%20%5B40.846012%2C%20-74.829964%5D%2C%20%5B34.059459000000004%2C%20-84.383663%5D%2C%20%5B42.33844000000001%2C%20-83.05594599999998%5D%2C%20%5B40.02255200000001%2C%20-76.541618%5D%2C%20%5B33.855282%2C%20-117.999016%5D%2C%20%5B39.862379%2C%20-104.98771%5D%2C%20%5B44.950951%2C%20-93.110046%5D%2C%20%5B41.549068%2C%20-73.061523%5D%2C%20%5B37.64876%2C%20-122.09684%5D%2C%20%5B34.164261%2C%20-118.225067%5D%2C%20%5B32.736847%2C%20-86.542831%5D%2C%20%5B39.79817%2C%20-74.93427%5D%2C%20%5B33.60686%2C%20-117.69429%5D%2C%20%5B37.23612%2C%20-76.62885%5D%2C%20%5B34.119343%2C%20-118.160446%5D%2C%20%5B34.533764%2C%20-86.906021%5D%2C%20%5B47.31178%2C%20-122.29863%5D%2C%20%5B33.698451%2C%20-117.861378%5D%2C%20%5B38.26932100000001%2C%20-85.782036%5D%2C%20%5B44.05264%2C%20-123.29173%5D%2C%20%5B34.135471%2C%20-117.986069%5D%2C%20%5B36.933256%2C%20-121.550921%5D%2C%20%5B42.943085%2C%20-83.67645300000002%5D%2C%20%5B36.15474%2C%20-86.857656%5D%2C%20%5B41.34017%2C%20-88.19142%5D%2C%20%5B34.26603%2C%20-118.46%5D%2C%20%5B32.924259%2C%20-96.762978%5D%2C%20%5B38.940868%2C%20-77.133759%5D%2C%20%5B34.983341%2C%20-81.971642%5D%2C%20%5B33.494881%2C%20-112.112946%5D%2C%20%5B33.8694%2C%20-117.73169%5D%2C%20%5B29.711805%2C%20-95.554749%5D%2C%20%5B41.040894%2C%20-73.578171%5D%2C%20%5B36.490917%2C%20-121.425819%5D%2C%20%5B40.238123%2C%20-76.130934%5D%2C%20%5B45.33646%2C%20-93.004837%5D%2C%20%5B40.704048%2C%20-73.817215%5D%2C%20%5B41.345562%2C%20-72.227997%5D%2C%20%5B32.811645%2C%20-96.853483%5D%2C%20%5B36.237705%2C%20-86.736942%5D%2C%20%5B27.795429%2C%20-82.728555%5D%2C%20%5B34.416160999999995%2C%20-119.689369%5D%2C%20%5B33.563751%2C%20-84.53726999999998%5D%2C%20%5B37.30703%2C%20-121.82066299999998%5D%2C%20%5B33.91218%2C%20-117.446423%5D%2C%20%5B39.665081%2C%20-75.598106%5D%2C%20%5B35.235119%2C%20-80.94079599999998%5D%2C%20%5B32.337215%2C%20-110.96078500000002%5D%2C%20%5B33.94595%2C%20-118.30027%5D%2C%20%5B34.0031%2C%20-118.06523%5D%2C%20%5B34.04133%2C%20-118.06008%5D%2C%20%5B43.0283%2C%20-88.03031%5D%2C%20%5B38.664801%2C%20-76.875038%5D%2C%20%5B33.021148%2C%20-117.273316%5D%2C%20%5B35.13743%2C%20-80.90630999999998%5D%2C%20%5B33.721994%2C%20-84.39468199999997%5D%2C%20%5B38.95136%2C%20-77.19655999999998%5D%2C%20%5B25.531489%2C%20-80.377258%5D%2C%20%5B32.074585%2C%20-81.25123599999998%5D%2C%20%5B37.340324%2C%20-121.899529%5D%2C%20%5B34.029403%2C%20-117.129992%5D%2C%20%5B35.862385%2C%20-78.26808199999998%5D%2C%20%5B29.716141%2C%20-95.563377%5D%2C%20%5B35.625164%2C%20-86.243378%5D%2C%20%5B45.66229000000001%2C%20-122.4324%5D%2C%20%5B32.861374%2C%20-96.890541%5D%2C%20%5B26.677441%2C%20-80.103882%5D%2C%20%5B29.965542%2C%20-90.110067%5D%2C%20%5B34.104%2C%20-118.19096%5D%2C%20%5B37.769646%2C%20-122.417847%5D%2C%20%5B33.988019%2C%20-118.39881%5D%2C%20%5B45.80802%2C%20-93.494049%5D%2C%20%5B42.32987%2C%20-72.62366999999998%5D%2C%20%5B45.00444%2C%20-93.23596%5D%2C%20%5B29.99695%2C%20-90.1462%5D%2C%20%5B33.858414%2C%20-118.096313%5D%2C%20%5B40.68451%2C%20-73.4183%5D%2C%20%5B37.383976%2C%20-121.862815%5D%2C%20%5B38.31172%2C%20-85.58785%5D%2C%20%5B41.657219%2C%20-70.293488%5D%2C%20%5B34.034%2C%20-118.17913%5D%2C%20%5B33.900024%2C%20-117.473351%5D%2C%20%5B42.692703%2C%20-83.251968%5D%2C%20%5B32.810109999999995%2C%20-96.803444%5D%2C%20%5B41.539246%2C%20-73.77158399999998%5D%2C%20%5B34.037209999999995%2C%20-118.283995%5D%2C%20%5B41.75853%2C%20-87.91185%5D%2C%20%5B37.76432%2C%20-122.21711%5D%2C%20%5B27.47032%2C%20-82.63681%5D%2C%20%5B37.644482%2C%20-113.089081%5D%2C%20%5B39.941192%2C%20-76.860241%5D%2C%20%5B38.84436%2C%20-77.08109%5D%2C%20%5B37.822701%2C%20-122.320099%5D%2C%20%5B28.016729%2C%20-82.26576999999997%5D%2C%20%5B41.865372%2C%20-88.04804200000002%5D%2C%20%5B41.984041%2C%20-87.84643%5D%2C%20%5B45.38267000000001%2C%20-118.31043%5D%2C%20%5B41.860081%2C%20-88.01738%5D%2C%20%5B39.310051%2C%20-85.95644200000002%5D%2C%20%5B29.878839000000006%2C%20-95.290024%5D%2C%20%5B27.35975%2C%20-82.51392%5D%2C%20%5B41.748481%2C%20-71.483719%5D%2C%20%5B39.01465%2C%20-84.52901%5D%2C%20%5B26.00525%2C%20-80.16678%5D%2C%20%5B32.67781%2C%20-97.12%5D%2C%20%5B45.493374%2C%20-122.639587%5D%2C%20%5B37.14183%2C%20-93.278015%5D%2C%20%5B39.061199%2C%20-94.494838%5D%2C%20%5B35.657661%2C%20-78.612915%5D%2C%20%5B41.190361%2C%20-96.234352%5D%2C%20%5B41.934467%2C%20-71.46611%5D%2C%20%5B43.22653%2C%20-123.36097%5D%2C%20%5B28.612820000000006%2C%20-81.431951%5D%2C%20%5B35.14883%2C%20-80.801895%5D%2C%20%5B33.360640999999994%2C%20-79.653503%5D%2C%20%5B34.804756%2C%20-82.806717%5D%2C%20%5B37.96196%2C%20-122.50885%5D%2C%20%5B32.326488%2C%20-86.291092%5D%2C%20%5B39.539028%2C%20-104.885551%5D%2C%20%5B40.66527%2C%20-73.8021%5D%2C%20%5B39.49088%2C%20-122.19584%5D%2C%20%5B35.76201%2C%20-119.053226%5D%2C%20%5B43.05979%2C%20-88.052%5D%2C%20%5B39.025882%2C%20-122.730704%5D%2C%20%5B38.41000800000001%2C%20-120.555597%5D%2C%20%5B33.72029000000001%2C%20-84.50253000000002%5D%2C%20%5B29.779449%2C%20-95.387039%5D%2C%20%5B42.03722%2C%20-88.285309%5D%2C%20%5B35.970579%2C%20-86.568478%5D%2C%20%5B42.72198%2C%20-123.3715%5D%2C%20%5B42.87656%2C%20-78.78506999999998%5D%2C%20%5B27.746577%2C%20-82.661099%5D%2C%20%5B40.682964%2C%20-111.462662%5D%2C%20%5B40.715771%2C%20-74.137641%5D%2C%20%5B38.678389%2C%20-77.351016%5D%2C%20%5B36.14491%2C%20-80.30102%5D%2C%20%5B42.93721%2C%20-85.64101%5D%2C%20%5B40.75895%2C%20-73.99948%5D%2C%20%5B37.515438%2C%20-77.388329%5D%2C%20%5B41.86491%2C%20-87.685989%5D%2C%20%5B33.877216%2C%20-117.481308%5D%2C%20%5B33.89405900000001%2C%20-84.254925%5D%2C%20%5B38.776527%2C%20-77.181374%5D%2C%20%5B39.204761%2C%20-120.199463%5D%2C%20%5B38.910946%2C%20-77.421654%5D%2C%20%5B37.31856%2C%20-121.88965%5D%2C%20%5B32.986847%2C%20-96.803272%5D%2C%20%5B34.05603%2C%20-117.54662%5D%2C%20%5B33.954425%2C%20-117.305098%5D%2C%20%5B34.81516%2C%20-82.44136999999998%5D%2C%20%5B38.762383%2C%20-78.634209%5D%2C%20%5B26.45726%2C%20-80.08934%5D%2C%20%5B27.09958%2C%20-82.20796%5D%2C%20%5B41.28032%2C%20-73.68117%5D%2C%20%5B35.48151%2C%20-97.57859%5D%2C%20%5B37.571568%2C%20-77.576859%5D%2C%20%5B29.93893%2C%20-95.37492%5D%2C%20%5B35.753044%2C%20-78.648788%5D%2C%20%5B26.934624%2C%20-80.150359%5D%2C%20%5B34.079967%2C%20-118.47248700000002%5D%2C%20%5B34.0767%2C%20-117.74506%5D%2C%20%5B34.193825%2C%20-88.121841%5D%2C%20%5B31.749519%2C%20-106.30953999999998%5D%2C%20%5B33.719261%2C%20-117.189308%5D%2C%20%5B47.49249%2C%20-92.52978%5D%2C%20%5B37.988529%2C%20-122.527313%5D%2C%20%5B38.605659%2C%20-121.382889%5D%2C%20%5B32.094701%2C%20-81.309803%5D%2C%20%5B45.012722%2C%20-93.187241%5D%2C%20%5B33.896427%2C%20-118.051857%5D%2C%20%5B30.17565%2C%20-92.076813%5D%2C%20%5B45.51412%2C%20-122.70133%5D%2C%20%5B40.75478%2C%20-74.10946%5D%2C%20%5B40.9422%2C%20-73.875198%5D%2C%20%5B31.936120000000006%2C%20-106.44161%5D%2C%20%5B37.72871%2C%20-122.18581%5D%2C%20%5B34.04784%2C%20-117.30737%5D%2C%20%5B29.73063%2C%20-95.41647%5D%2C%20%5B33.509991%2C%20-82.02823599999998%5D%2C%20%5B33.63283%2C%20-84.401081%5D%2C%20%5B29.940638%2C%20-95.407425%5D%2C%20%5B30.47887%2C%20-91.140633%5D%2C%20%5B25.734897%2C%20-80.30295%5D%2C%20%5B37.77056%2C%20-122.40589%5D%2C%20%5B43.020412%2C%20-83.70517%5D%2C%20%5B42.48892%2C%20-83.08129%5D%2C%20%5B42.266582%2C%20-71.564514%5D%2C%20%5B34.03294%2C%20-118.435768%5D%2C%20%5B37.44423%2C%20-122.26905%5D%2C%20%5B37.718063%2C%20-121.701027%5D%2C%20%5B32.801975%2C%20-86.580399%5D%2C%20%5B43.191151%2C%20-77.596558%5D%2C%20%5B36.04538%2C%20-86.713249%5D%2C%20%5B25.566688%2C%20-80.35181899999998%5D%2C%20%5B38.325075%2C%20-121.327087%5D%2C%20%5B44.26445%2C%20-93.292827%5D%2C%20%5B35.25877%2C%20-80.877701%5D%2C%20%5B40.691265%2C%20-73.998993%5D%2C%20%5B33.92491500000001%2C%20-117.423993%5D%2C%20%5B32.864391%2C%20-117.110031%5D%2C%20%5B33.745556%2C%20-84.349213%5D%2C%20%5B35.847038%2C%20-78.58009799999998%5D%2C%20%5B34.435289000000004%2C%20-119.796135%5D%2C%20%5B35.823078%2C%20-78.622398%5D%2C%20%5B26.492753000000004%2C%20-81.813211%5D%2C%20%5B35.991712%2C%20-83.82767199999998%5D%2C%20%5B41.286156%2C%20-96.075752%5D%2C%20%5B42.36396%2C%20-87.963531%5D%2C%20%5B38.86779%2C%20-77.31505%5D%2C%20%5B34.033846999999994%2C%20-81.118444%5D%2C%20%5B34.830486%2C%20-82.92205%5D%2C%20%5B32.409386%2C%20-80.467529%5D%2C%20%5B40.071705%2C%20-76.326607%5D%2C%20%5B38.54985300000001%2C%20-121.47404%5D%2C%20%5B32.728464%2C%20-117.105365%5D%2C%20%5B38.020313%2C%20-121.970695%5D%2C%20%5B40.686619%2C%20-74.000298%5D%2C%20%5B39.197132%2C%20-76.76634200000002%5D%2C%20%5B39.59502%2C%20-104.837789%5D%2C%20%5B34.136184%2C%20-117.410875%5D%2C%20%5B28.18607%2C%20-82.43802%5D%2C%20%5B27.956247%2C%20-82.485008%5D%2C%20%5B34.023920000000004%2C%20-118.17396%5D%2C%20%5B40.47603%2C%20-80.00756%5D%2C%20%5B33.926866%2C%20-118.011983%5D%2C%20%5B40.96943%2C%20-74.15657%5D%2C%20%5B38.0581%2C%20-122.149954%5D%2C%20%5B29.867566%2C%20-81.39675%5D%2C%20%5B35.129631%2C%20-80.941734%5D%2C%20%5B33.941074%2C%20-84.504333%5D%2C%20%5B48.059128%2C%20-114.077408%5D%2C%20%5B47.49757%2C%20-122.28921%5D%2C%20%5B37.472534%2C%20-77.306725%5D%2C%20%5B40.73208%2C%20-73.87064000000002%5D%2C%20%5B34.439762%2C%20-119.830696%5D%2C%20%5B34.617165%2C%20-86.567337%5D%2C%20%5B41.35432%2C%20-75.37862%5D%2C%20%5B29.81405%2C%20-95.36061%5D%2C%20%5B33.746528999999995%2C%20-118.292191%5D%2C%20%5B33.523478999999995%2C%20-112.22048999999998%5D%2C%20%5B40.76165%2C%20-73.24260699999998%5D%2C%20%5B41.344872%2C%20-73.75769%5D%2C%20%5B33.931847%2C%20-117.967743%5D%2C%20%5B33.881965%2C%20-117.584831%5D%2C%20%5B39.4796%2C%20-76.317162%5D%2C%20%5B33.873703000000006%2C%20-118.240631%5D%2C%20%5B30.294844%2C%20-97.719612%5D%2C%20%5B35.04222%2C%20-80.84654%5D%2C%20%5B28.508842%2C%20-81.4188%5D%2C%20%5B42.27198900000001%2C%20-84.411767%5D%2C%20%5B38.62875%2C%20-121.405521%5D%2C%20%5B34.502171000000004%2C%20-118.118589%5D%2C%20%5B26.515009000000006%2C%20-80.072525%5D%2C%20%5B35.73645399999999%2C%20-81.095033%5D%2C%20%5B39.880016%2C%20-86.292549%5D%2C%20%5B40.155094%2C%20-82.90790600000003%5D%2C%20%5B30.534079%2C%20-87.08717299999998%5D%2C%20%5B30.49268%2C%20-91.155563%5D%2C%20%5B28.55317%2C%20-81.36443%5D%2C%20%5B41.780972%2C%20-70.906921%5D%2C%20%5B35.17270300000001%2C%20-80.859627%5D%2C%20%5B30.322474%2C%20-97.662537%5D%2C%20%5B33.475685%2C%20-111.701599%5D%2C%20%5B37.90506%2C%20-121.147377%5D%2C%20%5B39.976125%2C%20-75.195611%5D%2C%20%5B40.002579%2C%20-76.851736%5D%2C%20%5B39.018652%2C%20-76.97453%5D%2C%20%5B31.770233%2C%20-106.43315%5D%2C%20%5B37.214535%2C%20-121.987946%5D%2C%20%5B43.02938%2C%20-112.4079%5D%2C%20%5B35.721668%2C%20-78.534103%5D%2C%20%5B44.95185%2C%20-93.14175%5D%2C%20%5B42.368423%2C%20-83.058128%5D%2C%20%5B41.87688%2C%20-88.23516%5D%2C%20%5B38.28554000000001%2C%20-121.823648%5D%2C%20%5B37.052132%2C%20-122.094994%5D%2C%20%5B39.060534%2C%20-84.531935%5D%2C%20%5B32.72359%2C%20-117.15828%5D%2C%20%5B37.492069%2C%20-122.386421%5D%2C%20%5B36.045303%2C%20-86.60915200000002%5D%2C%20%5B45.7147%2C%20-119.001421%5D%2C%20%5B41.76321%2C%20-87.8579%5D%2C%20%5B38.833992%2C%20-77.43229699999998%5D%2C%20%5B35.43682000000001%2C%20-80.65449%5D%2C%20%5B33.406952000000004%2C%20-112.081993%5D%2C%20%5B34.000758000000005%2C%20-117.837082%5D%2C%20%5B26.573782%2C%20-81.69534300000002%5D%2C%20%5B41.54086%2C%20-81.6065%5D%2C%20%5B40.276382%2C%20-78.802572%5D%2C%20%5B38.02616%2C%20-122.113906%5D%2C%20%5B28.596371%2C%20-81.398359%5D%2C%20%5B37.83523%2C%20-122.484538%5D%2C%20%5B38.62858%2C%20-90.18604%5D%2C%20%5B34.704998%2C%20-118.79467%5D%2C%20%5B37.81904%2C%20-122.25362%5D%2C%20%5B42.73410300000001%2C%20-121.840556%5D%2C%20%5B40.79055200000001%2C%20-73.945418%5D%2C%20%5B35.39162800000001%2C%20-97.565559%5D%2C%20%5B35.13854%2C%20-80.80317%5D%2C%20%5B43.42216%2C%20-123.32051%5D%2C%20%5B30.202988%2C%20-92.050446%5D%2C%20%5B25.83348%2C%20-80.32180799999998%5D%2C%20%5B34.256542%2C%20-118.435097%5D%2C%20%5B40.494946%2C%20-77.107874%5D%2C%20%5B40.63444000000001%2C%20-74.9486%5D%2C%20%5B36.17778%2C%20-86.80592299999998%5D%2C%20%5B35.210194%2C%20-80.81920600000002%5D%2C%20%5B35.601258%2C%20-97.430361%5D%2C%20%5B34.066422%2C%20-81.022377%5D%2C%20%5B33.982620000000004%2C%20-81.10708000000002%5D%2C%20%5B42.108566%2C%20-71.537605%5D%2C%20%5B40.076286%2C%20-75.2472%5D%2C%20%5B39.04267%2C%20-94.36918%5D%2C%20%5B34.09723%2C%20-118.31378%5D%2C%20%5B42.618587%2C%20-71.289116%5D%2C%20%5B34.066934%2C%20-117.546947%5D%2C%20%5B30.40835%2C%20-91.01922%5D%2C%20%5B27.855723%2C%20-82.638698%5D%2C%20%5B37.837997%2C%20-122.296707%5D%2C%20%5B44.918785%2C%20-93.275063%5D%2C%20%5B47.700718%2C%20-117.435768%5D%2C%20%5B42.487038%2C%20-83.47622700000002%5D%2C%20%5B43.96477%2C%20-92.85939%5D%2C%20%5B39.16577%2C%20-84.50674000000002%5D%2C%20%5B45.434902%2C%20-122.762471%5D%2C%20%5B34.06709%2C%20-117.441712%5D%2C%20%5B32.748695%2C%20-117.12233700000002%5D%2C%20%5B40.117578%2C%20-75.35072199999998%5D%2C%20%5B33.838902000000004%2C%20-84.368988%5D%2C%20%5B35.751919%2C%20-78.701302%5D%2C%20%5B33.974728000000006%2C%20-118.23024%5D%2C%20%5B40.849723%2C%20-73.94224200000002%5D%2C%20%5B29.690498%2C%20-95.546799%5D%2C%20%5B36.452801%2C%20-118.894838%5D%2C%20%5B25.946874%2C%20-80.205431%5D%2C%20%5B45.357099%2C%20-122.618442%5D%2C%20%5B39.496417%2C%20-105.335597%5D%2C%20%5B37.77894600000001%2C%20-122.421716%5D%2C%20%5B35.20206500000001%2C%20-111.477463%5D%2C%20%5B44.70293%2C%20-93.13655%5D%2C%20%5B39.888088%2C%20-75.20338000000002%5D%2C%20%5B29.423309000000003%2C%20-98.389381%5D%2C%20%5B38.648041%2C%20-121.360268%5D%2C%20%5B44.86225%2C%20-93.24403%5D%2C%20%5B30.212429%2C%20-92.045258%5D%2C%20%5B37.545097%2C%20-77.431198%5D%2C%20%5B38.045975%2C%20-78.728561%5D%2C%20%5B32.722939000000004%2C%20-117.162634%5D%2C%20%5B38.68203%2C%20-121.33527%5D%2C%20%5B39.70726%2C%20-104.82773%5D%2C%20%5B47.65112%2C%20-122.3473%5D%2C%20%5B33.692471000000005%2C%20-79.813637%5D%2C%20%5B47.70026%2C%20-122.17948%5D%2C%20%5B35.18130900000001%2C%20-97.493599%5D%2C%20%5B32.41328%2C%20-93.892632%5D%2C%20%5B42.301544%2C%20-83.119324%5D%2C%20%5B40.62882000000001%2C%20-74.3025%5D%2C%20%5B34.229713000000004%2C%20-79.799561%5D%2C%20%5B32.945190000000004%2C%20-80.0545%5D%2C%20%5B47.53417%2C%20-122.33217%5D%2C%20%5B35.217739%2C%20-80.850418%5D%2C%20%5B32.887595000000005%2C%20-96.769798%5D%2C%20%5B41.84636%2C%20-87.63839%5D%2C%20%5B33.920685%2C%20-117.431756%5D%2C%20%5B33.945372%2C%20-118.36828%5D%2C%20%5B29.843981%2C%20-95.348099%5D%2C%20%5B30.521532%2C%20-91.145454%5D%2C%20%5B33.87031%2C%20-117.8798%5D%2C%20%5B35.655056%2C%20-78.86488299999998%5D%2C%20%5B47.978228%2C%20-122.169567%5D%2C%20%5B41.689199%2C%20-91.581841%5D%2C%20%5B30.30931%2C%20-81.77016%5D%2C%20%5B42.76483%2C%20-71.49339%5D%2C%20%5B36.465228%2C%20-121.708083%5D%2C%20%5B28.410282%2C%20-81.475578%5D%2C%20%5B33.95697%2C%20-118.28057%5D%2C%20%5B34.084301%2C%20-117.692566%5D%2C%20%5B39.401253%2C%20-76.566017%5D%2C%20%5B37.017414%2C%20-119.52632%5D%2C%20%5B25.603703%2C%20-80.350288%5D%2C%20%5B40.50792%2C%20-111.989162%5D%2C%20%5B33.291509999999995%2C%20-111.91871%5D%2C%20%5B40.768719%2C%20-73.69178000000002%5D%2C%20%5B42.56106%2C%20-83.15693%5D%2C%20%5B32.724251%2C%20-96.700119%5D%2C%20%5B33.960133%2C%20-118.280518%5D%2C%20%5B35.27505%2C%20-80.936669%5D%2C%20%5B40.034565%2C%20-76.307198%5D%2C%20%5B33.698451%2C%20-117.861378%5D%2C%20%5B41.301517%2C%20-72.586647%5D%2C%20%5B45.51031%2C%20-122.78316%5D%2C%20%5B30.445475%2C%20-91.179199%5D%2C%20%5B35.93409000000001%2C%20-86.818726%5D%2C%20%5B25.942879%2C%20-80.187675%5D%2C%20%5B40.091221%2C%20-75.127197%5D%2C%20%5B29.814090000000004%2C%20-95.38832%5D%2C%20%5B35.078758%2C%20-106.744247%5D%2C%20%5B38.525612%2C%20-122.789742%5D%2C%20%5B39.18736%2C%20-77.68002%5D%2C%20%5B34.964642%2C%20-82.032372%5D%2C%20%5B30.291232%2C%20-97.627984%5D%2C%20%5B42.782143%2C%20-73.922882%5D%2C%20%5B39.082455%2C%20-77.552521%5D%2C%20%5B37.726347%2C%20-75.672966%5D%2C%20%5B32.840584%2C%20-117.138771%5D%2C%20%5B36.588947%2C%20-121.604424%5D%2C%20%5B45.865255%2C%20-123.579337%5D%2C%20%5B34.43235%2C%20-119.745993%5D%2C%20%5B36.167236%2C%20-86.764687%5D%2C%20%5B44.030182%2C%20-71.704029%5D%2C%20%5B40.60861%2C%20-74.12787%5D%2C%20%5B37.568901%2C%20-77.478874%5D%2C%20%5B33.285429%2C%20-117.149479%5D%2C%20%5B37.737453%2C%20-122.402199%5D%2C%20%5B32.814232000000004%2C%20-96.802818%5D%2C%20%5B34.025775%2C%20-118.180074%5D%2C%20%5B35.59465%2C%20-97.594833%5D%2C%20%5B40.068796%2C%20-76.309662%5D%2C%20%5B28.561316%2C%20-81.364446%5D%2C%20%5B34.15316%2C%20-118.3583%5D%2C%20%5B42.37923%2C%20-83.198112%5D%2C%20%5B26.13587%2C%20-80.20584000000002%5D%2C%20%5B40.87377%2C%20-73.98254%5D%2C%20%5B29.75016%2C%20-95.36647%5D%2C%20%5B40.82694%2C%20-74.32401%5D%2C%20%5B43.07003%2C%20-88.559288%5D%2C%20%5B30.43916%2C%20-91.18296%5D%2C%20%5B34.095565%2C%20-117.819303%5D%2C%20%5B40.690323%2C%20-73.998638%5D%2C%20%5B37.413704%2C%20-121.982742%5D%2C%20%5B41.727184%2C%20-72.61174%5D%2C%20%5B39.77891500000001%2C%20-84.161766%5D%2C%20%5B38.57351%2C%20-121.58174%5D%2C%20%5B43.18857%2C%20-77.61336999999997%5D%2C%20%5B34.30583%2C%20-118.42681%5D%2C%20%5B45.906366%2C%20-119.440033%5D%2C%20%5B33.235806%2C%20-87.610313%5D%2C%20%5B29.204666%2C%20-82.180809%5D%2C%20%5B33.484749%2C%20-112.099953%5D%2C%20%5B32.277186%2C%20-95.306491%5D%2C%20%5B32.720264%2C%20-96.857018%5D%2C%20%5B33.670868%2C%20-111.99984%5D%2C%20%5B33.562328%2C%20-86.733673%5D%2C%20%5B35.211368%2C%20-111.527571%5D%2C%20%5B35.526035%2C%20-97.529541%5D%2C%20%5B38.328777%2C%20-122.713028%5D%2C%20%5B33.86351%2C%20-118.32265%5D%2C%20%5B33.92763%2C%20-118.300305%5D%2C%20%5B42.872826%2C%20-87.936806%5D%2C%20%5B42.319115%2C%20-71.183304%5D%2C%20%5B34.117489%2C%20-117.84632%5D%2C%20%5B45.539882%2C%20-122.456663%5D%2C%20%5B44.627541%2C%20-123.06226%5D%2C%20%5B43.018326%2C%20-83.613159%5D%2C%20%5B34.336527000000004%2C%20-79.983715%5D%2C%20%5B44.207814%2C%20-95.121156%5D%2C%20%5B40.10897%2C%20-82.96766%5D%2C%20%5B37.538432%2C%20-121.927219%5D%2C%20%5B39.630494%2C%20-84.196241%5D%2C%20%5B28.696925%2C%20-81.564534%5D%2C%20%5B38.678151%2C%20-77.91640100000002%5D%2C%20%5B40.66154%2C%20-74.18479%5D%2C%20%5B34.067589%2C%20-117.566673%5D%2C%20%5B44.804531%2C%20-93.190605%5D%2C%20%5B43.006886%2C%20-83.734238%5D%2C%20%5B41.139866%2C%20-112.066295%5D%2C%20%5B34.102947%2C%20-118.195045%5D%2C%20%5B40.742889%2C%20-73.82985699999998%5D%2C%20%5B30.528311%2C%20-87.380798%5D%2C%20%5B40.075537%2C%20-76.157119%5D%2C%20%5B35.27010999999999%2C%20-80.85417%5D%2C%20%5B35.266621%2C%20-80.88195%5D%2C%20%5B35.428345%2C%20-80.930099%5D%2C%20%5B29.372375%2C%20-98.394905%5D%2C%20%5B39.547729%2C%20-76.088856%5D%2C%20%5B33.474689%2C%20-80.86277%5D%2C%20%5B33.579201%2C%20-79.02158399999998%5D%2C%20%5B42.94801%2C%20-123.30803%5D%2C%20%5B35.175564%2C%20-120.697212%5D%2C%20%5B33.174667%2C%20-87.524688%5D%2C%20%5B38.442435%2C%20-122.806725%5D%2C%20%5B44.776409%2C%20-93.69928%5D%2C%20%5B29.790329%2C%20-95.089753%5D%2C%20%5B36.06395300000001%2C%20-80.263199%5D%2C%20%5B34.0368%2C%20-118.02375%5D%2C%20%5B39.83828%2C%20-75.20005%5D%2C%20%5B28.98191%2C%20-82.116807%5D%2C%20%5B31.206974%2C%20-97.302895%5D%2C%20%5B37.72362%2C%20-122.40134%5D%2C%20%5B33.393654%2C%20-86.78473699999998%5D%2C%20%5B34.263715999999995%2C%20-119.050046%5D%2C%20%5B33.637473%2C%20-84.401439%5D%2C%20%5B37.250762%2C%20-121.906116%5D%2C%20%5B41.250587%2C%20-95.85305%5D%2C%20%5B47.558662%2C%20-122.285477%5D%2C%20%5B28.527606%2C%20-81.31036999999998%5D%2C%20%5B42.458672%2C%20-71.101929%5D%2C%20%5B30.249094%2C%20-97.768127%5D%2C%20%5B39.099488%2C%20-77.09974100000002%5D%2C%20%5B45.432186%2C%20-122.56675%5D%2C%20%5B33.876870000000004%2C%20-118.15695%5D%2C%20%5B45.0785%2C%20-93.40183%5D%2C%20%5B32.900562%2C%20-96.611618%5D%2C%20%5B29.499557%2C%20-98.653267%5D%2C%20%5B32.605686%2C%20-96.82309%5D%2C%20%5B39.737404%2C%20-84.185776%5D%2C%20%5B36.669384%2C%20-120.060981%5D%2C%20%5B33.679707%2C%20-84.412201%5D%2C%20%5B30.385183%2C%20-97.766541%5D%2C%20%5B36.347097%2C%20-94.579893%5D%2C%20%5B36.155598%2C%20-86.629776%5D%2C%20%5B34.081532%2C%20-81.042283%5D%2C%20%5B42.352173%2C%20-73.70506999999998%5D%2C%20%5B39.186508%2C%20-78.138%5D%2C%20%5B40.73232%2C%20-74.12527%5D%2C%20%5B26.11477%2C%20-80.16908000000002%5D%2C%20%5B33.91198%2C%20-78.769859%5D%2C%20%5B40.738345%2C%20-73.796423%5D%2C%20%5B37.517473%2C%20-121.941204%5D%2C%20%5B33.974727%2C%20-118.23897%5D%2C%20%5B44.96888%2C%20-93.420509%5D%2C%20%5B37.783344%2C%20-121.189962%5D%2C%20%5B33.968024%2C%20-118.081841%5D%2C%20%5B44.95304%2C%20-93.45938%5D%2C%20%5B43.166592%2C%20-77.602051%5D%2C%20%5B40.812392%2C%20-78.837398%5D%2C%20%5B30.429899%2C%20-91.024429%5D%2C%20%5B36.327148%2C%20-119.398804%5D%2C%20%5B40.78086%2C%20-73.6391%5D%2C%20%5B47.590469%2C%20-122.290878%5D%2C%20%5B33.90437%2C%20-117.46042%5D%2C%20%5B29.675236%2C%20-95.587318%5D%2C%20%5B34.215488%2C%20-82.081673%5D%2C%20%5B39.58399%2C%20-77.63609%5D%2C%20%5B39.982104%2C%20-83.397153%5D%2C%20%5B35.39171599999999%2C%20-97.732109%5D%2C%20%5B42.28575900000001%2C%20-71.10991700000002%5D%2C%20%5B26.117266%2C%20-80.35075400000002%5D%2C%20%5B27.924%2C%20-82.698608%5D%2C%20%5B34.019269%2C%20-117.480422%5D%2C%20%5B36.32716%2C%20-121.241402%5D%2C%20%5B40.824448%2C%20-73.872597%5D%2C%20%5B41.29194%2C%20-72.44800000000002%5D%2C%20%5B44.97876%2C%20-93.08799%5D%2C%20%5B35.035744%2C%20-120.486679%5D%2C%20%5B45.51549%2C%20-122.69966%5D%2C%20%5B46.12845%2C%20-94.34488%5D%2C%20%5B35.81955%2C%20-78.4326%5D%2C%20%5B29.74232%2C%20-95.3644%5D%2C%20%5B25.762799%2C%20-80.320538%5D%2C%20%5B34.990907%2C%20-82.019237%5D%2C%20%5B39.020073%2C%20-76.94062%5D%2C%20%5B33.873253000000005%2C%20-118.06015%5D%2C%20%5B40.708181%2C%20-74.156784%5D%2C%20%5B38.656736%2C%20-120.998579%5D%2C%20%5B40.54938%2C%20-74.49291%5D%2C%20%5B33.98751%2C%20-118.13759%5D%2C%20%5B32.757925%2C%20-96.80856%5D%2C%20%5B29.730463%2C%20-95.418236%5D%2C%20%5B42.5058%2C%20-82.91801%5D%2C%20%5B26.613747%2C%20-81.679245%5D%2C%20%5B40.28041%2C%20-75.18101%5D%2C%20%5B29.937132%2C%20-95.499225%5D%2C%20%5B43.858566%2C%20-73.43798100000002%5D%2C%20%5B33.878695%2C%20-118.284759%5D%2C%20%5B32.67635%2C%20-97.18723%5D%2C%20%5B29.680290000000007%2C%20-98.45352%5D%2C%20%5B34.262989000000005%2C%20-118.440857%5D%2C%20%5B34.07291%2C%20-118.466553%5D%2C%20%5B25.93206%2C%20-80.20382%5D%2C%20%5B34.828018%2C%20-86.939423%5D%2C%20%5B34.77212%2C%20-82.4669%5D%2C%20%5B38.673637%2C%20-121.722572%5D%2C%20%5B33.782875%2C%20-117.747864%5D%2C%20%5B36.808141%2C%20-119.887182%5D%2C%20%5B41.62765%2C%20-81.4538%5D%2C%20%5B36.12001%2C%20-86.73086500000002%5D%2C%20%5B32.961987%2C%20-96.771904%5D%2C%20%5B39.33794%2C%20-76.49365999999998%5D%2C%20%5B39.776431%2C%20-104.875114%5D%2C%20%5B39.953358%2C%20-82.996368%5D%2C%20%5B37.225868%2C%20-121.972412%5D%2C%20%5B44.86198%2C%20-93.270309%5D%2C%20%5B37.068855%2C%20-121.212471%5D%2C%20%5B43.567651%2C%20-121.480545%5D%2C%20%5B33.499664%2C%20-86.814514%5D%2C%20%5B28.466040000000003%2C%20-81.28974000000002%5D%2C%20%5B42.321537%2C%20-71.053772%5D%2C%20%5B39.520512%2C%20-119.784042%5D%2C%20%5B34.037037%2C%20-118.161873%5D%2C%20%5B26.605490000000003%2C%20-81.705208%5D%2C%20%5B30.114227000000003%2C%20-81.81309399999998%5D%2C%20%5B40.14418%2C%20-75.134064%5D%2C%20%5B34.217007%2C%20-80.59315500000002%5D%2C%20%5B33.87685%2C%20-118.155304%5D%2C%20%5B35.503784%2C%20-80.866272%5D%2C%20%5B28.43493%2C%20-81.40333000000003%5D%2C%20%5B37.686649%2C%20-122.13298%5D%2C%20%5B32.96479%2C%20-80.151443%5D%2C%20%5B30.193790000000003%2C%20-97.767204%5D%2C%20%5B33.5042%2C%20-86.80976899999997%5D%2C%20%5B32.630695%2C%20-80.88215600000002%5D%2C%20%5B33.757103%2C%20-84.468964%5D%2C%20%5B32.725658%2C%20-96.678627%5D%2C%20%5B34.963863%2C%20-120.420494%5D%2C%20%5B48.13461%2C%20-94.51027%5D%2C%20%5B40.070175%2C%20-75.312462%5D%2C%20%5B41.981754%2C%20-87.785416%5D%2C%20%5B34.230228000000004%2C%20-79.68476899999997%5D%2C%20%5B32.7244%2C%20-117.16525%5D%2C%20%5B33.86123%2C%20-117.87731%5D%2C%20%5B35.516438%2C%20-78.55796099999998%5D%2C%20%5B38.20203%2C%20-122.157303%5D%2C%20%5B37.94044%2C%20-122.32461%5D%2C%20%5B34.272303%2C%20-118.352929%5D%2C%20%5B40.202248%2C%20-74.635841%5D%2C%20%5B40.436352%2C%20-79.97168%5D%2C%20%5B43.182667%2C%20-77.576004%5D%2C%20%5B45.534283%2C%20-122.495827%5D%2C%20%5B32.934475%2C%20-80.65870699999998%5D%2C%20%5B40.845268%2C%20-73.927763%5D%2C%20%5B40.85289%2C%20-74.12216%5D%2C%20%5B25.686246%2C%20-80.416687%5D%2C%20%5B38.306768%2C%20-119.314079%5D%2C%20%5B29.947294%2C%20-95.397072%5D%2C%20%5B45.54519000000001%2C%20-122.391809%5D%2C%20%5B43.779893%2C%20-116.72713%5D%2C%20%5B30.531654%2C%20-87.272926%5D%2C%20%5B34.87613%2C%20-82.21546%5D%2C%20%5B35.06762%2C%20-83.23826%5D%2C%20%5B38.42638400000001%2C%20-122.832062%5D%2C%20%5B32.80865900000001%2C%20-117.152878%5D%2C%20%5B42.946522%2C%20-85.566795%5D%2C%20%5B34.36882%2C%20-86.9084%5D%2C%20%5B37.898079%2C%20-122.090042%5D%2C%20%5B39.53549%2C%20-77.60661%5D%2C%20%5B35.206487%2C%20-80.795435%5D%2C%20%5B37.731831%2C%20-122.188511%5D%2C%20%5B26.301699%2C%20-80.250671%5D%2C%20%5B33.511371999999994%2C%20-82.038147%5D%2C%20%5B26.808079%2C%20-80.074119%5D%2C%20%5B34.87273%2C%20-82.329269%5D%2C%20%5B40.145577%2C%20-79.814826%5D%2C%20%5B41.889675%2C%20-87.920525%5D%2C%20%5B33.247845%2C%20-83.888023%5D%2C%20%5B38.87093400000001%2C%20-104.925644%5D%2C%20%5B42.240549%2C%20-87.976966%5D%2C%20%5B34.05569000000001%2C%20-118.45195%5D%2C%20%5B25.98551%2C%20-80.15223%5D%2C%20%5B42.82377%2C%20-73.73286%5D%2C%20%5B30.190359%2C%20-97.770462%5D%2C%20%5B43.04706%2C%20-76.20434%5D%2C%20%5B38.64113%2C%20-121.45187%5D%2C%20%5B39.395771%2C%20-84.54849200000002%5D%2C%20%5B42.360279%2C%20-71.14676700000003%5D%2C%20%5B41.967011%2C%20-123.747285%5D%2C%20%5B32.769065999999995%2C%20-96.768456%5D%2C%20%5B33.6065%2C%20-117.69405%5D%2C%20%5B35.563772%2C%20-121.096801%5D%2C%20%5B42.40779000000001%2C%20-88.02979%5D%2C%20%5B32.830276%2C%20-96.836533%5D%2C%20%5B34.030212%2C%20-117.678138%5D%2C%20%5B29.670542%2C%20-95.263428%5D%2C%20%5B37.862431%2C%20-121.054108%5D%2C%20%5B38.01638300000001%2C%20-78.40105799999998%5D%2C%20%5B32.910786%2C%20-96.895164%5D%2C%20%5B25.94225%2C%20-80.345474%5D%2C%20%5B29.808233%2C%20-95.336021%5D%2C%20%5B25.688161%2C%20-80.33259699999998%5D%2C%20%5B33.954726%2C%20-117.305097%5D%2C%20%5B42.81692%2C%20-71.49679%5D%2C%20%5B34.068659999999994%2C%20-117.36489%5D%2C%20%5B34.029545%2C%20-118.218758%5D%2C%20%5B48.41253%2C%20-93.20563%5D%2C%20%5B39.056541%2C%20-94.492455%5D%2C%20%5B34.719245%2C%20-114.532075%5D%2C%20%5B30.43078%2C%20-97.684532%5D%2C%20%5B42.03998%2C%20-87.84055%5D%2C%20%5B28.450129%2C%20-81.474159%5D%2C%20%5B42.94797%2C%20-123.32623%5D%2C%20%5B45.06049%2C%20-123.68931%5D%2C%20%5B26.160995%2C%20-81.68465400000002%5D%2C%20%5B25.846212%2C%20-80.233498%5D%2C%20%5B41.324744%2C%20-76.973353%5D%2C%20%5B35.3787%2C%20-97.559143%5D%2C%20%5B33.400959%2C%20-86.939293%5D%2C%20%5B35.153301%2C%20-89.884773%5D%2C%20%5B32.82633%2C%20-96.78401%5D%2C%20%5B44.719926%2C%20-122.188772%5D%2C%20%5B42.527599%2C%20-82.909058%5D%2C%20%5B37.81052%2C%20-122.36465%5D%2C%20%5B34.03326%2C%20-118.13007%5D%2C%20%5B32.670513%2C%20-96.970558%5D%2C%20%5B35.810223%2C%20-78.816406%5D%2C%20%5B42.152439%2C%20-87.79853100000003%5D%2C%20%5B34.023975%2C%20-117.81105%5D%2C%20%5B43.060654%2C%20-83.762344%5D%2C%20%5B34.360859000000005%2C%20-117.43438700000002%5D%2C%20%5B34.267067%2C%20-118.440872%5D%2C%20%5B33.181987%2C%20-117.321646%5D%2C%20%5B37.37682%2C%20-121.941536%5D%2C%20%5B37.79578%2C%20-122.26763%5D%2C%20%5B40.29247700000001%2C%20-76.905891%5D%2C%20%5B40.478153000000006%2C%20-122.3974%5D%2C%20%5B43.07353%2C%20-70.780999%5D%2C%20%5B33.740811%2C%20-117.833808%5D%2C%20%5B33.713573%2C%20-112.310951%5D%2C%20%5B44.55586%2C%20-123.07963%5D%2C%20%5B29.67972%2C%20-95.602737%5D%2C%20%5B26.136671%2C%20-80.163947%5D%2C%20%5B41.58588%2C%20-87.79361%5D%2C%20%5B34.181297%2C%20-79.81452900000002%5D%2C%20%5B30.534240000000004%2C%20-87.31314%5D%2C%20%5B35.19175%2C%20-80.91526%5D%2C%20%5B39.93939%2C%20-104.98796000000002%5D%2C%20%5B25.784261%2C%20-80.28855899999998%5D%2C%20%5B39.598722%2C%20-84.161489%5D%2C%20%5B37.920647%2C%20-122.062317%5D%2C%20%5B37.895439%2C%20-122.113305%5D%2C%20%5B30.267469%2C%20-97.567017%5D%2C%20%5B30.264759%2C%20-82.751694%5D%2C%20%5B37.735279%2C%20-122.191917%5D%2C%20%5B34.029961%2C%20-118.218515%5D%2C%20%5B29.099131%2C%20-82.18507%5D%2C%20%5B38.664291%2C%20-121.244263%5D%2C%20%5B35.609207%2C%20-97.49688%5D%2C%20%5B32.864021%2C%20-96.66114%5D%2C%20%5B30.166969%2C%20-97.783936%5D%2C%20%5B28.853151%2C%20-82.386215%5D%2C%20%5B33.519676000000004%2C%20-117.61985%5D%2C%20%5B39.08428%2C%20-78.212946%5D%2C%20%5B34.182926%2C%20-118.159668%5D%2C%20%5B33.1177%2C%20-117.31924%5D%2C%20%5B36.224228%2C%20-119.096191%5D%2C%20%5B28.807920000000006%2C%20-81.391212%5D%2C%20%5B35.278069%2C%20-80.71356999999998%5D%2C%20%5B41.60185%2C%20-87.16901999999997%5D%2C%20%5B34.07837%2C%20-117.74156%5D%2C%20%5B40.68716%2C%20-74.27345%5D%2C%20%5B36.816948%2C%20-121.785904%5D%2C%20%5B44.94353%2C%20-93.39984%5D%2C%20%5B34.27799%2C%20-118.50258%5D%2C%20%5B41.830219%2C%20-88.077461%5D%2C%20%5B34.067509%2C%20-80.92240100000002%5D%2C%20%5B41.871361%2C%20-87.918144%5D%2C%20%5B35.781475%2C%20-78.57325%5D%2C%20%5B35.276314%2C%20-80.72776800000003%5D%2C%20%5B37.35595%2C%20-121.90948%5D%2C%20%5B29.669153%2C%20-95.262543%5D%2C%20%5B41.26321%2C%20-96.050941%5D%2C%20%5B32.70214%2C%20-96.83461%5D%2C%20%5B42.232595%2C%20-87.854941%5D%2C%20%5B35.788654%2C%20-78.645561%5D%2C%20%5B38.272026%2C%20-122.670052%5D%2C%20%5B37.60342%2C%20-122.06418%5D%2C%20%5B25.883587%2C%20-80.21260600000002%5D%2C%20%5B41.14686%2C%20-96.17738%5D%2C%20%5B40.826838%2C%20-73.930959%5D%2C%20%5B30.443209000000003%2C%20-91.088921%5D%2C%20%5B34.038346000000004%2C%20-118.702704%5D%2C%20%5B46.644097%2C%20-119.747468%5D%2C%20%5B36.15266%2C%20-86.793549%5D%2C%20%5B36.870974%2C%20-76.195536%5D%2C%20%5B44.973759%2C%20-93.249481%5D%2C%20%5B41.101711%2C%20-73.992599%5D%2C%20%5B40.636302%2C%20-111.914003%5D%2C%20%5B27.986738%2C%20-82.545967%5D%2C%20%5B34.595882%2C%20-80.72592900000002%5D%2C%20%5B33.981975%2C%20-118.39469%5D%2C%20%5B47.254517%2C%20-122.513573%5D%2C%20%5B41.06445%2C%20-111.28119%5D%2C%20%5B26.910487%2C%20-80.143231%5D%2C%20%5B38.894444%2C%20-77.225212%5D%2C%20%5B40.101761%2C%20-75.125732%5D%2C%20%5B33.973396%2C%20-118.168007%5D%2C%20%5B35.57571%2C%20-97.656227%5D%2C%20%5B34.01849%2C%20-117.53735%5D%2C%20%5B40.69178400000001%2C%20-74.08414499999998%5D%2C%20%5B37.779552%2C%20-121.314514%5D%2C%20%5B39.15987%2C%20-84.55100999999998%5D%2C%20%5B43.012901%2C%20-83.677719%5D%2C%20%5B40.03739%2C%20-83.12517%5D%2C%20%5B38.20473%2C%20-77.288078%5D%2C%20%5B34.029175%2C%20-118.44548%5D%2C%20%5B25.93577%2C%20-80.35044%5D%2C%20%5B32.687253000000005%2C%20-96.811934%5D%2C%20%5B44.377933%2C%20-123.746788%5D%2C%20%5B37.9625%2C%20-121.248056%5D%2C%20%5B38.391052%2C%20-121.929922%5D%2C%20%5B29.804935%2C%20-95.361185%5D%2C%20%5B32.794509999999995%2C%20-96.722672%5D%2C%20%5B42.385414%2C%20-83.023799%5D%2C%20%5B45.71841%2C%20-94.94601%5D%2C%20%5B44.039292%2C%20-124.099371%5D%2C%20%5B30.166493%2C%20-81.54474300000003%5D%2C%20%5B42.52534%2C%20-122.84287%5D%2C%20%5B42.926113%2C%20-85.686195%5D%2C%20%5B40.194302%2C%20-110.962769%5D%2C%20%5B29.5112%2C%20-98.535118%5D%2C%20%5B39.174141%2C%20-84.485558%5D%2C%20%5B47.37805%2C%20-122.24307%5D%2C%20%5B28.55271%2C%20-81.41373%5D%2C%20%5B34.023348%2C%20-117.811733%5D%2C%20%5B29.39627%2C%20-98.50703%5D%2C%20%5B45.311917%2C%20-121.798293%5D%2C%20%5B28.527571%2C%20-81.31043199999998%5D%2C%20%5B33.880151%2C%20-117.565244%5D%2C%20%5B29.670588%2C%20-95.377869%5D%2C%20%5B34.06222%2C%20-118.98557%5D%2C%20%5B34.077663%2C%20-117.998184%5D%2C%20%5B35.169290000000004%2C%20-80.88823000000002%5D%2C%20%5B35.21955900000001%2C%20-80.833946%5D%2C%20%5B33.919797%2C%20-118.224113%5D%2C%20%5B34.029022%2C%20-117.575559%5D%2C%20%5B39.989229%2C%20-75.78659%5D%2C%20%5B35.157558%2C%20-80.749382%5D%2C%20%5B44.97889%2C%20-93.40059%5D%2C%20%5B38.638336%2C%20-121.52338799999998%5D%2C%20%5B37.316409%2C%20-121.956205%5D%2C%20%5B35.263677%2C%20-118.630961%5D%2C%20%5B29.94938%2C%20-90.08598%5D%2C%20%5B39.095941%2C%20-76.803149%5D%2C%20%5B34.0806%2C%20-118.29402%5D%2C%20%5B36.168339%2C%20-86.688843%5D%2C%20%5B43.18156%2C%20-70.87689%5D%2C%20%5B33.922627%2C%20-93.271329%5D%2C%20%5B39.729799%2C%20-105.171811%5D%2C%20%5B43.04196%2C%20-122.3542%5D%2C%20%5B38.387463%2C%20-120.737137%5D%2C%20%5B26.394598%2C%20-80.07664%5D%2C%20%5B30.18517%2C%20-81.55815%5D%2C%20%5B28.634721000000006%2C%20-81.476179%5D%2C%20%5B44.944801%2C%20-93.348038%5D%2C%20%5B33.967845000000004%2C%20-117.915255%5D%2C%20%5B32.76758%2C%20-96.89079%5D%2C%20%5B26.08149%2C%20-80.15899%5D%2C%20%5B41.816547%2C%20-72.695107%5D%2C%20%5B40.114879%2C%20-75.069942%5D%2C%20%5B38.263969%2C%20-77.249626%5D%2C%20%5B40.634615%2C%20-74.194681%5D%2C%20%5B27.839082%2C%20-82.744866%5D%2C%20%5B37.859634%2C%20-121.281204%5D%2C%20%5B37.300499%2C%20-93.420692%5D%2C%20%5B45.520012%2C%20-122.665329%5D%2C%20%5B41.285107%2C%20-96.04216%5D%2C%20%5B35.25784%2C%20-80.84166%5D%2C%20%5B42.556236%2C%20-82.860222%5D%2C%20%5B40.519713%2C%20-74.303122%5D%2C%20%5B41.52009%2C%20-81.44845%5D%2C%20%5B43.332191%2C%20-73.65284%5D%2C%20%5B39.78364000000001%2C%20-105.04462%5D%2C%20%5B33.299521%2C%20-84.59204100000002%5D%2C%20%5B41.524659%2C%20-88.18673100000002%5D%2C%20%5B35.211532%2C%20-78.128998%5D%2C%20%5B38.929684%2C%20-122.74147%5D%2C%20%5B26.066681%2C%20-81.696754%5D%2C%20%5B42.75613900000001%2C%20-73.932141%5D%2C%20%5B35.500443%2C%20-97.552139%5D%2C%20%5B33.686413%2C%20-117.765831%5D%2C%20%5B33.880032%2C%20-117.605278%5D%2C%20%5B33.91689%2C%20-118.05015%5D%2C%20%5B47.406421%2C%20-123.140654%5D%2C%20%5B35.44435900000001%2C%20-97.601082%5D%2C%20%5B40.165596%2C%20-75.478409%5D%2C%20%5B34.139923%2C%20-118.365753%5D%2C%20%5B44.90736%2C%20-93.27504%5D%2C%20%5B29.724632%2C%20-95.460213%5D%2C%20%5B32.75894%2C%20-97.00126%5D%2C%20%5B35.194469%2C%20-80.765968%5D%2C%20%5B41.73467%2C%20-72.74693%5D%2C%20%5B38.042996%2C%20-84.60256899999997%5D%2C%20%5B38.675%2C%20-121.53995%5D%2C%20%5B43.36039%2C%20-73.393372%5D%2C%20%5B28.56846%2C%20-81.2532%5D%2C%20%5B34.858925%2C%20-82.259857%5D%2C%20%5B40.20456%2C%20-104.94178%5D%2C%20%5B40.324587%2C%20-79.70244699999998%5D%2C%20%5B40.084133%2C%20-75.406263%5D%2C%20%5B33.974651%2C%20-118.280991%5D%2C%20%5B40.60518%2C%20-80.05100999999998%5D%2C%20%5B43.19332%2C%20-77.59214%5D%2C%20%5B42.2727%2C%20-88.96471%5D%2C%20%5B41.35385%2C%20-75.7227%5D%2C%20%5B35.435032%2C%20-97.569321%5D%2C%20%5B35.406219%2C%20-97.552391%5D%2C%20%5B42.34495%2C%20-88.0676%5D%2C%20%5B40.321305%2C%20-111.648768%5D%2C%20%5B35.43515%2C%20-97.56124%5D%2C%20%5B33.8028%2C%20-118.081724%5D%2C%20%5B37.325176%2C%20-121.886246%5D%2C%20%5B28.435981%2C%20-81.406193%5D%2C%20%5B39.098508%2C%20-77.53394499999997%5D%2C%20%5B41.7326%2C%20-74.06626999999997%5D%2C%20%5B27.759171%2C%20-82.712112%5D%2C%20%5B25.685462%2C%20-80.415318%5D%2C%20%5B37.80827%2C%20-122.36701%5D%2C%20%5B35.335705%2C%20-80.842651%5D%2C%20%5B26.312890000000003%2C%20-80.1173%5D%2C%20%5B47.83916%2C%20-122.30342%5D%2C%20%5B33.408031%2C%20-112.186501%5D%2C%20%5B38.056362%2C%20-84.542732%5D%2C%20%5B35.10675%2C%20-106.626572%5D%2C%20%5B30.123545%2C%20-81.797722%5D%2C%20%5B35.527435%2C%20-108.764251%5D%2C%20%5B35.722599%2C%20-78.855797%5D%2C%20%5B39.48615%2C%20-76.2464%5D%2C%20%5B39.9531%2C%20-83.008284%5D%2C%20%5B30.46535%2C%20-84.34414%5D%2C%20%5B39.28453%2C%20-104.89633%5D%2C%20%5B34.098064%2C%20-118.314389%5D%2C%20%5B34.082893%2C%20-117.695248%5D%2C%20%5B30.332172%2C%20-92.037041%5D%2C%20%5B42.025749%2C%20-88.31197399999998%5D%2C%20%5B34.06844%2C%20-118.21686%5D%2C%20%5B32.406574%2C%20-85.958527%5D%2C%20%5B40.098347%2C%20-75.298647%5D%2C%20%5B34.089935%2C%20-117.93821%5D%2C%20%5B33.887489%2C%20-117.302132%5D%2C%20%5B34.064682%2C%20-118.245506%5D%2C%20%5B38.55312%2C%20-77.34186%5D%2C%20%5B33.927329%2C%20-118.291951%5D%2C%20%5B34.049313%2C%20-117.305252%5D%2C%20%5B33.852024%2C%20-84.369621%5D%2C%20%5B33.500763%2C%20-117.151543%5D%2C%20%5B42.153893%2C%20-122.645599%5D%2C%20%5B34.01158%2C%20-118.41809%5D%2C%20%5B39.95514%2C%20-75.147374%5D%2C%20%5B44.633699%2C%20-124.023425%5D%2C%20%5B37.720791%2C%20-122.400238%5D%2C%20%5B40.759264%2C%20-73.102552%5D%2C%20%5B37.984859%2C%20-122.297591%5D%2C%20%5B32.769396%2C%20-117.169693%5D%2C%20%5B45.21073%2C%20-93.58418%5D%2C%20%5B32.360458%2C%20-90.463867%5D%2C%20%5B40.479511%2C%20-104.991867%5D%2C%20%5B41.458642%2C%20-79.141403%5D%2C%20%5B35.844139%2C%20-78.589867%5D%2C%20%5B37.7809%2C%20-122.23868%5D%2C%20%5B39.733723%2C%20-84.204971%5D%2C%20%5B39.388378%2C%20-76.727324%5D%2C%20%5B42.07777%2C%20-87.71011%5D%2C%20%5B33.937874%2C%20-80.36084699999998%5D%2C%20%5B45.11567700000001%2C%20-93.188568%5D%2C%20%5B33.931046%2C%20-118.3685%5D%2C%20%5B41.882162%2C%20-87.617329%5D%2C%20%5B43.969974%2C%20-121.346611%5D%2C%20%5B28.911501%2C%20-81.271751%5D%2C%20%5B29.406963%2C%20-82.24752%5D%2C%20%5B30.297766%2C%20-97.709053%5D%2C%20%5B28.314728%2C%20-81.34297099999998%5D%2C%20%5B41.629501%2C%20-93.678009%5D%2C%20%5B38.221797%2C%20-122.12782%5D%2C%20%5B36.028111%2C%20-95.948936%5D%2C%20%5B28.544144%2C%20-81.415314%5D%2C%20%5B37.991053%2C%20-122.529574%5D%2C%20%5B42.20041%2C%20-87.90612%5D%2C%20%5B38.618048%2C%20-121.530026%5D%2C%20%5B28.030146%2C%20-80.65276899999998%5D%2C%20%5B29.99361%2C%20-95.613503%5D%2C%20%5B44.54487%2C%20-122.96912%5D%2C%20%5B37.969471%2C%20-121.31514%5D%2C%20%5B42.236345%2C%20-123.105087%5D%2C%20%5B40.733772%2C%20-111.904549%5D%2C%20%5B45.920287%2C%20-111.647233%5D%2C%20%5B44.9412%2C%20-93.45624%5D%2C%20%5B34.028416%2C%20-118.229958%5D%2C%20%5B35.196156%2C%20-80.739548%5D%2C%20%5B36.752117%2C%20-119.82634%5D%2C%20%5B44.943008%2C%20-94.501961%5D%2C%20%5B39.33559%2C%20-76.70891%5D%2C%20%5B35.04741%2C%20-85.15843000000002%5D%2C%20%5B37.56253%2C%20-77.47022%5D%2C%20%5B32.794559%2C%20-96.722466%5D%2C%20%5B33.592945%2C%20-117.242058%5D%2C%20%5B40.30183%2C%20-111.72563999999998%5D%2C%20%5B33.996831%2C%20-117.931031%5D%2C%20%5B40.713974%2C%20-74.297386%5D%2C%20%5B30.428808%2C%20-81.65679200000002%5D%2C%20%5B40.778938%2C%20-73.256241%5D%2C%20%5B29.870659000000003%2C%20-95.365089%5D%2C%20%5B39.792358%2C%20-76.997856%5D%2C%20%5B42.457169%2C%20-83.219437%5D%2C%20%5B33.850715%2C%20-78.698527%5D%2C%20%5B34.015463000000004%2C%20-117.97699%5D%2C%20%5B38.434113%2C%20-122.716408%5D%2C%20%5B33.912987%2C%20-118.180145%5D%2C%20%5B37.688755%2C%20-122.135329%5D%2C%20%5B36.123983%2C%20-81.63204300000002%5D%2C%20%5B33.936264%2C%20-84.15926400000002%5D%2C%20%5B36.01618%2C%20-78.86538%5D%2C%20%5B37.898073%2C%20-122.09004%5D%2C%20%5B34.156833%2C%20-118.41378%5D%2C%20%5B44.05604%2C%20-121.23778%5D%2C%20%5B28.519409000000003%2C%20-81.386383%5D%2C%20%5B42.891327%2C%20-78.888199%5D%2C%20%5B29.675646%2C%20-95.267853%5D%2C%20%5B35.93920900000001%2C%20-78.568962%5D%2C%20%5B37.24155%2C%20-77.39495%5D%2C%20%5B28.547199%2C%20-81.223412%5D%2C%20%5B34.392208000000004%2C%20-118.472832%5D%2C%20%5B35.27803%2C%20-80.713577%5D%2C%20%5B34.22166%2C%20-118.43405%5D%2C%20%5B35.42270300000001%2C%20-97.600998%5D%2C%20%5B40.523411%2C%20-111.890984%5D%2C%20%5B35.33097100000001%2C%20-119.013245%5D%2C%20%5B29.863503%2C%20-95.44059%5D%2C%20%5B32.327152000000005%2C%20-86.240021%5D%2C%20%5B30.471407%2C%20-83.567429%5D%2C%20%5B39.81053%2C%20-86.30776999999998%5D%2C%20%5B37.8311%2C%20-121.606956%5D%2C%20%5B34.06847%2C%20-117.39153%5D%2C%20%5B36.158405%2C%20-86.790649%5D%2C%20%5B30.49165%2C%20-91.155907%5D%2C%20%5B32.461445%2C%20-93.827667%5D%2C%20%5B33.880951%2C%20-78.616592%5D%2C%20%5B37.701859000000006%2C%20-121.901474%5D%2C%20%5B27.902821000000007%2C%20-82.700546%5D%2C%20%5B42.039154%2C%20-88.290802%5D%2C%20%5B33.78399%2C%20-117.88013%5D%2C%20%5B27.298885%2C%20-82.44821999999998%5D%2C%20%5B34.219535%2C%20-118.588515%5D%2C%20%5B34.270329%2C%20-118.152695%5D%2C%20%5B38.777887%2C%20-90.48307%5D%2C%20%5B37.490501%2C%20-77.472092%5D%2C%20%5B34.15315%2C%20-118.28681%5D%2C%20%5B40.271812%2C%20-77.163344%5D%2C%20%5B38.598988%2C%20-121.504593%5D%2C%20%5B37.740593%2C%20-121.584015%5D%2C%20%5B42.23217%2C%20-83.580208%5D%2C%20%5B39.196869%2C%20-76.70461999999998%5D%2C%20%5B34.403507%2C%20-119.528732%5D%2C%20%5B33.720261%2C%20-117.97203799999998%5D%2C%20%5B45.59357%2C%20-122.51088%5D%2C%20%5B41.92088%2C%20-71.84014%5D%2C%20%5B39.082489%2C%20-112.275772%5D%2C%20%5B43.15737%2C%20-77.54105%5D%2C%20%5B43.151878%2C%20-77.65403%5D%2C%20%5B25.598639%2C%20-80.35282%5D%2C%20%5B33.604754%2C%20-117.69048%5D%2C%20%5B29.39608%2C%20-98.515656%5D%2C%20%5B28.510101%2C%20-81.397041%5D%2C%20%5B37.91713%2C%20-122.31736%5D%2C%20%5B45.057369%2C%20-93.187347%5D%2C%20%5B37.966405%2C%20-121.327312%5D%2C%20%5B43.32676%2C%20-73.68198000000002%5D%2C%20%5B39.87168%2C%20-104.9877%5D%2C%20%5B40.271873%2C%20-103.583748%5D%2C%20%5B25.830317%2C%20-80.222824%5D%2C%20%5B40.66764000000001%2C%20-111.94705%5D%2C%20%5B32.655273%2C%20-117.105797%5D%2C%20%5B37.133113%2C%20-121.98121100000002%5D%2C%20%5B40.340981%2C%20-78.931252%5D%2C%20%5B40.72342%2C%20-111.98624%5D%2C%20%5B33.983001%2C%20-118.416908%5D%2C%20%5B38.555443%2C%20-121.440917%5D%2C%20%5B38.098278%2C%20-84.513664%5D%2C%20%5B34.697495%2C%20-117.91616100000002%5D%2C%20%5B37.99231%2C%20-122.30679%5D%2C%20%5B27.3321%2C%20-82.44704%5D%2C%20%5B25.639505%2C%20-80.41469000000002%5D%2C%20%5B34.315887%2C%20-117.495567%5D%2C%20%5B40.852909%2C%20-111.92968799999998%5D%2C%20%5B35.157913%2C%20-89.878006%5D%2C%20%5B34.068512%2C%20-117.860542%5D%2C%20%5B37.56021%2C%20-122.03513%5D%2C%20%5B34.365108%2C%20-118.503716%5D%2C%20%5B32.41442%2C%20-86.352721%5D%2C%20%5B33.096719%2C%20-117.063716%5D%2C%20%5B28.62236%2C%20-81.47323399999998%5D%2C%20%5B36.96096%2C%20-81.063309%5D%2C%20%5B39.91339%2C%20-74.98252%5D%2C%20%5B40.66214%2C%20-74.28716999999997%5D%2C%20%5B39.451985%2C%20-77.09049399999998%5D%2C%20%5B31.766029%2C%20-106.41423%5D%2C%20%5B28.218773%2C%20-82.257846%5D%2C%20%5B32.861899%2C%20-96.851763%5D%2C%20%5B25.751785%2C%20-80.323112%5D%2C%20%5B34.221394000000004%2C%20-118.472099%5D%2C%20%5B43.078121%2C%20-77.583115%5D%2C%20%5B40.772119%2C%20-111.470085%5D%2C%20%5B37.875686%2C%20-122.0459%5D%2C%20%5B33.803711%2C%20-84.409599%5D%2C%20%5B39.079311%2C%20-94.49073%5D%2C%20%5B33.43602%2C%20-112.5839%5D%2C%20%5B46.756351%2C%20-92.10688%5D%2C%20%5B33.865139%2C%20-79.065498%5D%2C%20%5B42.418789%2C%20-71.104187%5D%2C%20%5B40.6344%2C%20-111.89536%5D%2C%20%5B36.136211%2C%20-85.78599100000002%5D%2C%20%5B33.77953%2C%20-118.091637%5D%2C%20%5B41.755375%2C%20-71.48119399999999%5D%2C%20%5B32.66362%2C%20-97.28869%5D%2C%20%5B34.192703%2C%20-118.328716%5D%2C%20%5B36.34313%2C%20-78.403403%5D%2C%20%5B39.893349%2C%20-76.96067%5D%2C%20%5B35.455002%2C%20-97.601082%5D%2C%20%5B34.035340000000005%2C%20-118.32982%5D%2C%20%5B32.876405%2C%20-96.55309%5D%2C%20%5B37.145271%2C%20-121.984756%5D%2C%20%5B35.48603400000001%2C%20-97.601128%5D%2C%20%5B27.99608%2C%20-82.45481600000002%5D%2C%20%5B35.836494%2C%20-120.844514%5D%2C%20%5B28.002077000000003%2C%20-82.327721%5D%2C%20%5B33.461941%2C%20-112.094224%5D%2C%20%5B42.23984%2C%20-83.19891%5D%2C%20%5B30.236818%2C%20-92.012848%5D%2C%20%5B38.669225%2C%20-77.263061%5D%2C%20%5B41.02158%2C%20-73.72784%5D%2C%20%5B35.765739%2C%20-78.63295%5D%2C%20%5B36.48661%2C%20-119.27697%5D%2C%20%5B39.384171%2C%20-123.694832%5D%2C%20%5B33.465832%2C%20-112.109932%5D%2C%20%5B32.332659%2C%20-95.272736%5D%2C%20%5B36.85509%2C%20-76.19593%5D%2C%20%5B29.655949%2C%20-95.355423%5D%2C%20%5B29.708614%2C%20-95.290115%5D%2C%20%5B30.233971%2C%20-92.016472%5D%2C%20%5B29.652539%2C%20-95.250896%5D%2C%20%5B26.25229%2C%20-80.16651999999998%5D%2C%20%5B33.899163%2C%20-118.370271%5D%2C%20%5B34.592113%2C%20-117.2584%5D%2C%20%5B29.716663%2C%20-95.46006%5D%2C%20%5B32.78033%2C%20-97.21251%5D%2C%20%5B33.342893%2C%20-117.132931%5D%2C%20%5B34.42735%2C%20-118.41912%5D%2C%20%5B38.808865%2C%20-104.840858%5D%2C%20%5B39.729851%2C%20-84.239632%5D%2C%20%5B34.872710999999995%2C%20-82.329262%5D%2C%20%5B35.833023%2C%20-78.58367199999998%5D%2C%20%5B36.240326%2C%20-119.260529%5D%2C%20%5B28.987188%2C%20-81.246483%5D%2C%20%5B30.30287%2C%20-97.641579%5D%2C%20%5B34.06327%2C%20-118.16185%5D%2C%20%5B36.056232%2C%20-79.891052%5D%2C%20%5B40.821339%2C%20-73.046249%5D%2C%20%5B26.14227%2C%20-80.21941%5D%2C%20%5B42.43015%2C%20-123.09328%5D%2C%20%5B38.87942%2C%20-77.03604399999998%5D%2C%20%5B41.808956%2C%20-88.11734%5D%2C%20%5B36.199755%2C%20-117.284302%5D%2C%20%5B33.614851%2C%20-117.707571%5D%2C%20%5B45.67070800000001%2C%20-111.1521%5D%2C%20%5B37.616471%2C%20-121.030375%5D%2C%20%5B37.626511%2C%20-122.125762%5D%2C%20%5B47.571648%2C%20-122.659077%5D%2C%20%5B25.499669%2C%20-80.405301%5D%2C%20%5B33.84338%2C%20-84.487673%5D%2C%20%5B38.346382%2C%20-85.754204%5D%2C%20%5B33.62826%2C%20-117.72077%5D%2C%20%5B41.155861%2C%20-111.940239%5D%2C%20%5B38.760672%2C%20-121.260074%5D%2C%20%5B32.79177%2C%20-96.73262%5D%2C%20%5B35.38367%2C%20-118.99826000000002%5D%2C%20%5B45.0695%2C%20-93.289%5D%2C%20%5B29.738117%2C%20-95.34201%5D%2C%20%5B35.41931%2C%20-84.696038%5D%2C%20%5B32.704914%2C%20-96.875496%5D%2C%20%5B33.855117%2C%20-117.975926%5D%2C%20%5B36.09857%2C%20-86.74946%5D%2C%20%5B32.851013%2C%20-96.771545%5D%2C%20%5B40.31155%2C%20-76.58744%5D%2C%20%5B34.095728%2C%20-117.898964%5D%2C%20%5B29.78538%2C%20-95.751586%5D%2C%20%5B35.030727%2C%20-106.947723%5D%2C%20%5B44.78252%2C%20-93.28836%5D%2C%20%5B38.606505%2C%20-121.329104%5D%2C%20%5B38.443008%2C%20-121.862144%5D%2C%20%5B40.949505%2C%20-74.072151%5D%2C%20%5B35.79649699999999%2C%20-78.69450400000002%5D%2C%20%5B34.03931%2C%20-118.21933%5D%2C%20%5B33.053864000000004%2C%20-80.16555%5D%2C%20%5B34.016396%2C%20-117.55011%5D%2C%20%5B33.700157%2C%20-117.945619%5D%2C%20%5B33.386066%2C%20-111.799057%5D%2C%20%5B40.146799%2C%20-75.118161%5D%2C%20%5B40.772629%2C%20-73.516708%5D%2C%20%5B34.06755%2C%20-117.52771%5D%2C%20%5B35.118959999999994%2C%20-106.6241%5D%2C%20%5B34.27333%2C%20-118.58579%5D%2C%20%5B32.235667%2C%20-110.840878%5D%2C%20%5B40.73201%2C%20-74.04439%5D%2C%20%5B35.154453000000004%2C%20-80.79496800000003%5D%2C%20%5B42.56103%2C%20-106.72531%5D%2C%20%5B35.074034000000005%2C%20-85.111566%5D%2C%20%5B41.833557%2C%20-88.010193%5D%2C%20%5B45.45836%2C%20-122.8881%5D%2C%20%5B40.80405%2C%20-74.07159%5D%2C%20%5B32.83347%2C%20-96.89628%5D%2C%20%5B42.055542%2C%20-70.725044%5D%2C%20%5B35.314053%2C%20-119.03511%5D%2C%20%5B35.33271%2C%20-80.799072%5D%2C%20%5B34.873249%2C%20-82.63945799999998%5D%2C%20%5B39.9058%2C%20-86.07096999999997%5D%2C%20%5B34.265903%2C%20-118.33558%5D%2C%20%5B34.322948%2C%20-118.479619%5D%2C%20%5B42.384171%2C%20-83.474503%5D%2C%20%5B37.50647%2C%20-77.384117%5D%2C%20%5B35.918751%2C%20-78.795792%5D%2C%20%5B38.71265%2C%20-120.841431%5D%2C%20%5B34.031322%2C%20-118.433723%5D%2C%20%5B35.26991%2C%20-118.682405%5D%2C%20%5B41.424942%2C%20-73.62655600000002%5D%2C%20%5B33.932320000000004%2C%20-118.34844%5D%2C%20%5B25.898197%2C%20-80.235589%5D%2C%20%5B38.015018%2C%20-122.688919%5D%2C%20%5B33.124590000000005%2C%20-117.10422%5D%2C%20%5B35.164379%2C%20-80.856171%5D%2C%20%5B33.56765%2C%20-84.533546%5D%2C%20%5B35.45991%2C%20-97.55509%5D%2C%20%5B35.225315%2C%20-80.864723%5D%2C%20%5B25.85766%2C%20-80.32279%5D%2C%20%5B35.96006%2C%20-80.95104%5D%2C%20%5B38.674583%2C%20-121.74102%5D%2C%20%5B40.7397%2C%20-123.251465%5D%2C%20%5B37.99057%2C%20-121.69708500000002%5D%2C%20%5B32.931332%2C%20-80.68914000000002%5D%2C%20%5B40.01199%2C%20-82.99159%5D%2C%20%5B25.877901%2C%20-80.23053%5D%2C%20%5B33.683865000000004%2C%20-84.310005%5D%2C%20%5B39.930511%2C%20-75.304497%5D%2C%20%5B25.728743%2C%20-80.430194%5D%2C%20%5B37.739335%2C%20-121.59082%5D%2C%20%5B35.27533%2C%20-80.793518%5D%2C%20%5B35.46255%2C%20-97.48072%5D%2C%20%5B40.04958%2C%20-78.51120999999998%5D%2C%20%5B38.67106500000001%2C%20-121.596023%5D%2C%20%5B34.036842%2C%20-81.11077900000002%5D%2C%20%5B32.922901%2C%20-96.899895%5D%2C%20%5B45.9023%2C%20-123.14289%5D%2C%20%5B38.92327%2C%20-94.7045%5D%2C%20%5B34.282909000000004%2C%20-79.976959%5D%2C%20%5B40.78973%2C%20-74.0883%5D%2C%20%5B32.951195%2C%20-96.822716%5D%2C%20%5B29.007555%2C%20-82.006088%5D%2C%20%5B29.774759000000003%2C%20-95.138077%5D%2C%20%5B41.861423%2C%20-87.95931999999998%5D%2C%20%5B33.591202%2C%20-112.043419%5D%2C%20%5B36.4638%2C%20-118.869749%5D%2C%20%5B38.67705%2C%20-90.44958%5D%2C%20%5B43.225976%2C%20-77.674165%5D%2C%20%5B36.03184%2C%20-95.92209%5D%2C%20%5B35.8432%2C%20-78.68115%5D%2C%20%5B36.77596%2C%20-76.37169%5D%2C%20%5B41.98353%2C%20-87.81836%5D%2C%20%5B41.109802%2C%20-73.80100300000002%5D%2C%20%5B29.3818%2C%20-98.700912%5D%2C%20%5B47.9809%2C%20-122.188042%5D%2C%20%5B34.180762%2C%20-81.256248%5D%2C%20%5B43.175414%2C%20-77.59250899999998%5D%2C%20%5B39.82748%2C%20-104.98577%5D%2C%20%5B35.22616%2C%20-99.87573%5D%2C%20%5B32.17726500000001%2C%20-111.10331%5D%2C%20%5B44.871951%2C%20-93.081225%5D%2C%20%5B35.058193%2C%20-80.812454%5D%2C%20%5B34.05375%2C%20-118.23344%5D%2C%20%5B40.744213%2C%20-73.771652%5D%2C%20%5B33.437412%2C%20-111.960007%5D%2C%20%5B35.266621%2C%20-80.88195%5D%2C%20%5B38.340656%2C%20-121.334267%5D%2C%20%5B41.24876%2C%20-96.084991%5D%2C%20%5B39.801861%2C%20-104.984962%5D%2C%20%5B41.235611%2C%20-74.032822%5D%2C%20%5B35.199581%2C%20-80.720833%5D%2C%20%5B32.909554%2C%20-96.72493%5D%2C%20%5B33.428001%2C%20-82.19225300000002%5D%2C%20%5B37.43713%2C%20-77.60059%5D%2C%20%5B37.87256%2C%20-121.27752%5D%2C%20%5B35.063892%2C%20-85.249847%5D%2C%20%5B32.68425%2C%20-97.06274%5D%2C%20%5B34.279041%2C%20-118.455276%5D%2C%20%5B40.748409%2C%20-73.163076%5D%2C%20%5B34.033085%2C%20-118.125008%5D%2C%20%5B35.03487%2C%20-80.849396%5D%2C%20%5B33.91605%2C%20-80.389961%5D%2C%20%5B37.313679%2C%20-76.732832%5D%2C%20%5B29.784340000000004%2C%20-95.617805%5D%2C%20%5B38.403751%2C%20-121.915329%5D%2C%20%5B26.11477%2C%20-80.16908000000002%5D%2C%20%5B27.91971%2C%20-82.60977%5D%2C%20%5B35.094212%2C%20-81.59693100000001%5D%2C%20%5B38.93302%2C%20-104.807893%5D%2C%20%5B34.128808%2C%20-118.346897%5D%2C%20%5B32.912743%2C%20-96.87413%5D%2C%20%5B38.820107%2C%20-76.918945%5D%2C%20%5B39.34344%2C%20-76.54401%5D%2C%20%5B44.97488%2C%20-122.99042%5D%2C%20%5B37.717751%2C%20-121.532149%5D%2C%20%5B37.532944%2C%20-77.43274699999998%5D%2C%20%5B29.647505%2C%20-95.479408%5D%2C%20%5B36.071218%2C%20-86.6842%5D%2C%20%5B36.844804%2C%20-76.268435%5D%2C%20%5B37.310402%2C%20-121.936413%5D%2C%20%5B34.0051%2C%20-117.39505%5D%2C%20%5B38.87312%2C%20-84.63094%5D%2C%20%5B37.669418%2C%20-77.58631899999997%5D%2C%20%5B31.39291%2C%20-81.44946999999998%5D%2C%20%5B38.715506%2C%20-120.837072%5D%2C%20%5B33.7467%2C%20-118.00703%5D%2C%20%5B40.481851%2C%20-112.342789%5D%2C%20%5B34.410072%2C%20-118.77961%5D%2C%20%5B33.804316%2C%20-118.22145%5D%2C%20%5B33.781494%2C%20-84.38781%5D%2C%20%5B37.65784%2C%20-122.40583%5D%2C%20%5B40.734882%2C%20-74.123688%5D%2C%20%5B40.70317%2C%20-73.93273%5D%2C%20%5B33.853767%2C%20-117.906395%5D%2C%20%5B37.58841%2C%20-122.35857%5D%2C%20%5B40.69941%2C%20-75.2663%5D%2C%20%5B30.403763%2C%20-97.853981%5D%2C%20%5B37.50383%2C%20-77.446945%5D%2C%20%5B41.755535%2C%20-71.481162%5D%2C%20%5B40.72826%2C%20-73.97163%5D%2C%20%5B41.10098%2C%20-73.57755300000002%5D%2C%20%5B37.67149000000001%2C%20-77.460764%5D%2C%20%5B26.03921%2C%20-80.16368%5D%2C%20%5B37.36372%2C%20-121.898003%5D%2C%20%5B40.115471%2C%20-111.668083%5D%2C%20%5B32.87986%2C%20-83.76918%5D%2C%20%5B41.760918%2C%20-87.944824%5D%2C%20%5B33.873374%2C%20-118.216585%5D%2C%20%5B34.03025%2C%20-117.67227%5D%2C%20%5B39.809151%2C%20-75.751251%5D%2C%20%5B45.000633%2C%20-93.20598%5D%2C%20%5B40.134819%2C%20-75.082787%5D%2C%20%5B45.303747%2C%20-121.671029%5D%2C%20%5B44.38707%2C%20-91.00239%5D%2C%20%5B41.236367%2C%20-73.185859%5D%2C%20%5B38.559006%2C%20-121.473282%5D%2C%20%5B45.243%2C%20-92.983948%5D%2C%20%5B35.59038%2C%20-78.73248000000002%5D%2C%20%5B36.04632%2C%20-95.851%5D%2C%20%5B42.243423%2C%20-83.194847%5D%2C%20%5B45.179393%2C%20-93.532008%5D%2C%20%5B26.00348%2C%20-80.21613%5D%2C%20%5B47.553432%2C%20-122.334221%5D%2C%20%5B42.761777%2C%20-71.493491%5D%2C%20%5B30.039129%2C%20-94.115776%5D%2C%20%5B37.12357%2C%20-104.727428%5D%2C%20%5B42.404147%2C%20-88.98311%5D%2C%20%5B35.05822%2C%20-119.358887%5D%2C%20%5B33.978249%2C%20-81.195084%5D%2C%20%5B37.977001%2C%20-122.52071399999998%5D%2C%20%5B47.651985%2C%20-122.336311%5D%2C%20%5B33.530415000000005%2C%20-81.946159%5D%2C%20%5B43.908939%2C%20-88.583733%5D%2C%20%5B33.94174%2C%20-117.55579%5D%2C%20%5B39.385162%2C%20-77.259376%5D%2C%20%5B34.087198%2C%20-118.234118%5D%2C%20%5B33.799719%2C%20-117.898872%5D%2C%20%5B47.84466%2C%20-122.25858999999998%5D%2C%20%5B34.422687%2C%20-119.66095%5D%2C%20%5B40.59225%2C%20-74.23628000000002%5D%2C%20%5B45.12929000000001%2C%20-122.85086%5D%2C%20%5B28.279167%2C%20-82.718124%5D%2C%20%5B37.729931%2C%20-122.439972%5D%2C%20%5B33.7673%2C%20-117.921417%5D%2C%20%5B33.436069%2C%20-111.92617%5D%2C%20%5B36.617454%2C%20-121.84896299999998%5D%2C%20%5B39.083725%2C%20-84.522789%5D%2C%20%5B35.296486%2C%20-80.74391899999998%5D%2C%20%5B42.019211%2C%20-88.26728100000003%5D%2C%20%5B37.790464%2C%20-77.46015%5D%2C%20%5B30.191711%2C%20-81.705605%5D%2C%20%5B35.321396%2C%20-80.733932%5D%2C%20%5B38.92997800000001%2C%20-122.618998%5D%2C%20%5B37.345703%2C%20-120.659805%5D%2C%20%5B30.400961%2C%20-97.545639%5D%2C%20%5B33.86898%2C%20-117.73051%5D%2C%20%5B33.8802%2C%20-118.284755%5D%2C%20%5B34.22388%2C%20-118.37219%5D%2C%20%5B40.66444%2C%20-73.84532%5D%2C%20%5B30.45175%2C%20-91.034439%5D%2C%20%5B40.723301%2C%20-74.19941700000003%5D%2C%20%5B37.99069%2C%20-122.33276399999998%5D%2C%20%5B30.422320000000006%2C%20-91.13984%5D%2C%20%5B33.111866%2C%20-117.097115%5D%2C%20%5B36.732069%2C%20-120.060234%5D%2C%20%5B42.702556%2C%20-73.833809%5D%2C%20%5B39.049944%2C%20-76.520803%5D%2C%20%5B39.63115%2C%20-104.90614%5D%2C%20%5B44.859161%2C%20-93.360756%5D%2C%20%5B40.914371%2C%20-73.887085%5D%2C%20%5B42.285561%2C%20-71.042885%5D%2C%20%5B28.510159%2C%20-81.248032%5D%2C%20%5B36.870964%2C%20-76.19551700000002%5D%2C%20%5B39.666821%2C%20-86.018578%5D%2C%20%5B28.460437%2C%20-81.422907%5D%2C%20%5B30.43821%2C%20-97.768707%5D%2C%20%5B39.72567700000001%2C%20-105.013466%5D%2C%20%5B40.0813%2C%20-111.70641%5D%2C%20%5B47.087887%2C%20-122.64476%5D%2C%20%5B34.17667%2C%20-118.4683%5D%2C%20%5B34.140831%2C%20-118.277786%5D%2C%20%5B33.11476%2C%20-97.02911%5D%2C%20%5B38.805248%2C%20-90.831429%5D%2C%20%5B33.026379%2C%20-117.274689%5D%2C%20%5B39.026741%2C%20-77.394997%5D%2C%20%5B33.637885%2C%20-117.760172%5D%2C%20%5B36.05972%2C%20-86.67107%5D%2C%20%5B31.514046%2C%20-82.874798%5D%2C%20%5B42.857979%2C%20-71.077164%5D%2C%20%5B34.488068%2C%20-119.781029%5D%2C%20%5B29.73774%2C%20-95.489861%5D%2C%20%5B45.209487%2C%20-121.698932%5D%2C%20%5B33.846573%2C%20-118.20536%5D%2C%20%5B39.306471%2C%20-123.797602%5D%2C%20%5B33.981612%2C%20-118.241181%5D%2C%20%5B34.06805%2C%20-117.83786%5D%2C%20%5B33.631769%2C%20-117.724528%5D%2C%20%5B42.991611%2C%20-122.38876299999998%5D%2C%20%5B32.801144%2C%20-96.921646%5D%2C%20%5B37.1676%2C%20-113.37344%5D%2C%20%5B39.382286%2C%20-77.40992%5D%2C%20%5B38.288696%2C%20-78.93325%5D%2C%20%5B38.817862%2C%20-76.94152199999998%5D%2C%20%5B28.69577%2C%20-81.848892%5D%2C%20%5B32.192139000000005%2C%20-110.857933%5D%2C%20%5B30.356077000000006%2C%20-97.730928%5D%2C%20%5B39.737831%2C%20-86.111343%5D%2C%20%5B38.02463%2C%20-78.47894000000002%5D%2C%20%5B40.765572%2C%20-73.69025400000002%5D%2C%20%5B33.487438%2C%20-112.047668%5D%2C%20%5B41.335147%2C%20-74.115668%5D%2C%20%5B36.151403%2C%20-86.751233%5D%2C%20%5B33.522290000000005%2C%20-82.03256%5D%2C%20%5B35.883182%2C%20-78.570224%5D%2C%20%5B40.74274000000001%2C%20-73.83763%5D%2C%20%5B32.718376%2C%20-117.105927%5D%2C%20%5B33.936522%2C%20-117.290354%5D%2C%20%5B32.808033%2C%20-96.879272%5D%2C%20%5B38.891212%2C%20-77.065071%5D%2C%20%5B36.25617%2C%20-86.71439000000002%5D%2C%20%5B34.071793%2C%20-117.881142%5D%2C%20%5B39.53548%2C%20-119.789597%5D%2C%20%5B34.064094%2C%20-117.296501%5D%2C%20%5B29.937154%2C%20-95.509504%5D%2C%20%5B34.00565%2C%20-117.828705%5D%2C%20%5B28.356241%2C%20-81.52350600000003%5D%2C%20%5B28.701742%2C%20-80.884447%5D%2C%20%5B35.662601%2C%20-78.84613%5D%2C%20%5B30.421619%2C%20-97.66568%5D%2C%20%5B35.220419%2C%20-80.869814%5D%2C%20%5B34.030106%2C%20-117.705765%5D%2C%20%5B34.036808%2C%20-118.313828%5D%2C%20%5B32.879227%2C%20-79.93160999999998%5D%2C%20%5B35.054707%2C%20-80.851618%5D%2C%20%5B41.63377%2C%20-72.75218199999998%5D%2C%20%5B41.507711%2C%20-72.115321%5D%2C%20%5B40.804005%2C%20-73.927925%5D%2C%20%5B33.874077%2C%20-80.396213%5D%2C%20%5B27.839312%2C%20-82.70003%5D%2C%20%5B32.843681%2C%20-79.980553%5D%2C%20%5B37.539307%2C%20-77.438133%5D%2C%20%5B42.33792%2C%20-85.28705%5D%2C%20%5B35.557968%2C%20-97.638351%5D%2C%20%5B35.83643%2C%20-78.654327%5D%2C%20%5B32.709446%2C%20-96.8284%5D%2C%20%5B35.772499%2C%20-78.59996%5D%2C%20%5B30.08191%2C%20-97.69337%5D%2C%20%5B32.761971%2C%20-96.960129%5D%2C%20%5B41.193581%2C%20-95.967422%5D%2C%20%5B42.973503%2C%20-83.7257%5D%2C%20%5B45.49754%2C%20-122.56556%5D%2C%20%5B39.063809%2C%20-84.27719499999998%5D%2C%20%5B41.899605%2C%20-88.233856%5D%2C%20%5B33.948846%2C%20-86.47146%5D%2C%20%5B38.894683%2C%20-104.758523%5D%2C%20%5B33.875589%2C%20-118.193097%5D%2C%20%5B39.271168%2C%20-76.647491%5D%2C%20%5B35.717099%2C%20-78.837407%5D%2C%20%5B35.22994600000001%2C%20-80.83237%5D%2C%20%5B33.254345%2C%20-80.321129%5D%2C%20%5B30.166536%2C%20-92.022263%5D%2C%20%5B34.01677100000001%2C%20-118.140089%5D%2C%20%5B40.697235%2C%20-75.187401%5D%2C%20%5B41.235196%2C%20-73.07255%5D%2C%20%5B45.64468%2C%20-122.56487%5D%2C%20%5B45.84944%2C%20-119.2687%5D%2C%20%5B33.386672999999995%2C%20-111.894348%5D%2C%20%5B34.201179%2C%20-86.49341899999997%5D%2C%20%5B40.705929%2C%20-73.996527%5D%2C%20%5B45.191561%2C%20-93.54596%5D%2C%20%5B38.655992%2C%20-121.516907%5D%2C%20%5B34.791008000000005%2C%20-82.280457%5D%2C%20%5B41.852749%2C%20-87.957886%5D%2C%20%5B39.957657%2C%20-105.165268%5D%2C%20%5B36.182842%2C%20-86.812401%5D%2C%20%5B41.259689%2C%20-95.975754%5D%2C%20%5B34.024857%2C%20-118.42836%5D%2C%20%5B37.243476%2C%20-121.012682%5D%2C%20%5B37.49526%2C%20-122.22909%5D%2C%20%5B25.584016%2C%20-80.364586%5D%2C%20%5B41.99615%2C%20-87.76422%5D%2C%20%5B43.144951%2C%20-77.574272%5D%2C%20%5B39.489429%2C%20-104.909813%5D%2C%20%5B33.462709999999994%2C%20-112.17497%5D%2C%20%5B33.774242%2C%20-118.071495%5D%2C%20%5B37.392067%2C%20-77.730659%5D%2C%20%5B39.026704%2C%20-77.046642%5D%2C%20%5B34.124691%2C%20-118.476799%5D%2C%20%5B30.440759000000003%2C%20-84.261839%5D%2C%20%5B40.76087%2C%20-73.75463%5D%2C%20%5B41.114052%2C%20-74.102646%5D%2C%20%5B35.06712%2C%20-80.99041700000002%5D%2C%20%5B41.65918%2C%20-71.55341%5D%2C%20%5B38.673743%2C%20-121.624656%5D%2C%20%5B40.08904%2C%20-75.15485%5D%2C%20%5B38.62837800000001%2C%20-121.510336%5D%2C%20%5B33.66903%2C%20-112.12274%5D%2C%20%5B36.303%2C%20-94.450573%5D%2C%20%5B28.343000000000004%2C%20-81.484404%5D%2C%20%5B41.81413%2C%20-71.3671%5D%2C%20%5B30.208891%2C%20-97.77285%5D%2C%20%5B33.853436%2C%20-98.56115%5D%2C%20%5B44.29679%2C%20-122.02577%5D%2C%20%5B39.17412%2C%20-77.23754%5D%2C%20%5B34.71933%2C%20-86.57306700000002%5D%2C%20%5B30.651255%2C%20-91.165146%5D%2C%20%5B35.02756%2C%20-81.87183%5D%2C%20%5B33.98237%2C%20-118.28082%5D%2C%20%5B29.751354%2C%20-95.362999%5D%2C%20%5B32.503109%2C%20-80.990257%5D%2C%20%5B32.35477%2C%20-99.74243%5D%2C%20%5B35.385278%2C%20-119.044444%5D%2C%20%5B39.42775%2C%20-87.56031%5D%2C%20%5B25.732124%2C%20-80.384361%5D%2C%20%5B25.811512%2C%20-80.189362%5D%2C%20%5B30.502598%2C%20-87.265957%5D%2C%20%5B34.017866999999995%2C%20-118.052654%5D%2C%20%5B36.086834%2C%20-86.695938%5D%2C%20%5B34.189484%2C%20-118.93885%5D%2C%20%5B34.21761%2C%20-119.04687%5D%2C%20%5B36.951993%2C%20-76.26517700000002%5D%2C%20%5B37.52779%2C%20-121.998726%5D%2C%20%5B36.159657%2C%20-95.97364%5D%2C%20%5B35.181618%2C%20-90.035561%5D%2C%20%5B33.690336%2C%20-84.499937%5D%2C%20%5B32.313686%2C%20-90.160339%5D%2C%20%5B47.46419%2C%20-122.21782%5D%2C%20%5B39.77329%2C%20-104.8459%5D%2C%20%5B36.705471%2C%20-120.15094%5D%2C%20%5B34.074619%2C%20-117.617897%5D%2C%20%5B29.819336%2C%20-95.473679%5D%2C%20%5B32.644901000000004%2C%20-96.852898%5D%2C%20%5B44.768879%2C%20-119.093575%5D%2C%20%5B46.937359%2C%20-96.85211%5D%2C%20%5B45.387211%2C%20-122.400523%5D%2C%20%5B41.393429%2C%20-87.324219%5D%2C%20%5B35.77435300000001%2C%20-78.54965200000002%5D%2C%20%5B26.100643%2C%20-80.258213%5D%2C%20%5B35.46432%2C%20-93.52016%5D%2C%20%5B35.073637%2C%20-85.19031899999997%5D%2C%20%5B39.013325%2C%20-77.042419%5D%2C%20%5B40.085705%2C%20-75.09850300000002%5D%2C%20%5B33.506413%2C%20-84.428574%5D%2C%20%5B36.154076%2C%20-86.78439300000002%5D%2C%20%5B36.286779%2C%20-80.8178%5D%2C%20%5B35.829288%2C%20-78.294724%5D%2C%20%5B38.856941%2C%20-104.865051%5D%2C%20%5B32.206933%2C%20-110.926735%5D%2C%20%5B35.945759%2C%20-78.544937%5D%2C%20%5B33.853364%2C%20-98.58627%5D%2C%20%5B41.59222000000001%2C%20-93.80275%5D%2C%20%5B35.02825%2C%20-89.71624%5D%2C%20%5B36.043449%2C%20-86.631134%5D%2C%20%5B39.74498%2C%20-105.44097%5D%2C%20%5B45.562701%2C%20-122.744604%5D%2C%20%5B37.892591%2C%20-122.159524%5D%2C%20%5B35.90485%2C%20-78.97115%5D%2C%20%5B39.201%2C%20-76.77138000000002%5D%2C%20%5B36.836094%2C%20-76.066254%5D%2C%20%5B29.667719%2C%20-95.532394%5D%2C%20%5B45.220295%2C%20-93.599792%5D%2C%20%5B38.672852%2C%20-121.637718%5D%2C%20%5B37.386612%2C%20-121.905563%5D%2C%20%5B34.154095%2C%20-118.37899%5D%2C%20%5B27.712903000000004%2C%20-82.392587%5D%2C%20%5B33.051594%2C%20-84.959005%5D%2C%20%5B29.163481%2C%20-82.64014399999998%5D%2C%20%5B39.63209000000001%2C%20-75.65314000000002%5D%2C%20%5B40.803581%2C%20-73.919792%5D%2C%20%5B44.89415%2C%20-93.1817%5D%2C%20%5B33.440333%2C%20-84.699864%5D%2C%20%5B33.869511%2C%20-118.195198%5D%2C%20%5B33.739740000000005%2C%20-84.23066999999998%5D%2C%20%5B33.712253999999994%2C%20-112.196655%5D%2C%20%5B38.865906%2C%20-77.324493%5D%2C%20%5B35.34824000000001%2C%20-80.84722099999998%5D%2C%20%5B40.792248%2C%20-74.427368%5D%2C%20%5B32.42324%2C%20-83.75941999999998%5D%2C%20%5B38.845093%2C%20-77.007225%5D%2C%20%5B32.340678999999994%2C%20-96.620308%5D%2C%20%5B32.20637%2C%20-110.825744%5D%2C%20%5B37.79574%2C%20-122.423316%5D%2C%20%5B27.937702%2C%20-82.182106%5D%2C%20%5B29.725939%2C%20-95.484077%5D%2C%20%5B33.874435%2C%20-118.193481%5D%2C%20%5B34.063099%2C%20-81.04632600000002%5D%2C%20%5B36.84203%2C%20-76.21668000000003%5D%2C%20%5B37.974087%2C%20-84.497879%5D%2C%20%5B40.083564%2C%20-75.393387%5D%2C%20%5B40.7665%2C%20-111.99669%5D%2C%20%5B27.98132%2C%20-82.351197%5D%2C%20%5B39.98267%2C%20-75.338219%5D%2C%20%5B39.62905%2C%20-84.6524%5D%2C%20%5B33.98753%2C%20-117.889313%5D%2C%20%5B41.37155900000001%2C%20-81.51535799999998%5D%2C%20%5B29.187101%2C%20-82.13596700000002%5D%2C%20%5B37.90270200000001%2C%20-122.515602%5D%2C%20%5B29.980721000000006%2C%20-90.05794499999998%5D%2C%20%5B40.25423%2C%20-75.208656%5D%2C%20%5B44.964874%2C%20-93.282684%5D%2C%20%5B34.157623%2C%20-118.453079%5D%2C%20%5B36.909554%2C%20-77.398155%5D%2C%20%5B40.23275%2C%20-76.92665%5D%2C%20%5B35.83424%2C%20-78.63472%5D%2C%20%5B32.96003%2C%20-80.006622%5D%2C%20%5B35.770199%2C%20-80.327484%5D%2C%20%5B37.3721%2C%20-121.85044%5D%2C%20%5B45.40825%2C%20-123.124385%5D%2C%20%5B40.099915%2C%20-74.74736800000002%5D%2C%20%5B33.77076%2C%20-117.86906299999998%5D%2C%20%5B40.71666%2C%20-111.83388%5D%2C%20%5B32.509871999999994%2C%20-93.742821%5D%2C%20%5B26.59671%2C%20-81.64613299999998%5D%2C%20%5B32.810084%2C%20-96.807779%5D%2C%20%5B29.944182%2C%20-90.08928%5D%2C%20%5B28.219788%2C%20-82.735845%5D%2C%20%5B28.500949%2C%20-81.426325%5D%2C%20%5B37.242867%2C%20-76.634813%5D%2C%20%5B35.297314%2C%20-80.78958100000001%5D%2C%20%5B42.075336%2C%20-88.34429899999998%5D%2C%20%5B35.138039%2C%20-80.876427%5D%2C%20%5B47.610966%2C%20-122.340477%5D%2C%20%5B40.526802%2C%20-74.356659%5D%2C%20%5B25.946648%2C%20-80.147074%5D%2C%20%5B40.890636%2C%20-74.698196%5D%2C%20%5B43.949099%2C%20-93.264709%5D%2C%20%5B34.19469%2C%20-80.28072%5D%2C%20%5B32.692978000000004%2C%20-117.121628%5D%2C%20%5B38.066663%2C%20-122.226728%5D%2C%20%5B32.945562%2C%20-97.311669%5D%2C%20%5B38.831142%2C%20-77.45261500000002%5D%2C%20%5B39.26236%2C%20-76.707092%5D%2C%20%5B39.76646%2C%20-104.99875%5D%2C%20%5B38.647369%2C%20-90.533783%5D%2C%20%5B41.344917%2C%20-73.757729%5D%2C%20%5B35.054241%2C%20-90.025002%5D%2C%20%5B36.1526%2C%20-86.78730999999998%5D%2C%20%5B39.01535%2C%20-94.49709%5D%2C%20%5B39.910488%2C%20-104.823067%5D%2C%20%5B34.03011%2C%20-117.69388%5D%2C%20%5B34.01593%2C%20-118.173027%5D%2C%20%5B38.356989%2C%20-77.032823%5D%2C%20%5B40.00544%2C%20-75.243149%5D%2C%20%5B33.451355%2C%20-111.890343%5D%2C%20%5B30.424801%2C%20-97.626419%5D%2C%20%5B29.384232%2C%20-98.469368%5D%2C%20%5B40.828789%2C%20-73.931534%5D%2C%20%5B37.481886%2C%20-122.177742%5D%2C%20%5B38.96269%2C%20-76.86719000000002%5D%2C%20%5B36.04656%2C%20-86.661262%5D%2C%20%5B47.467464%2C%20-122.22818%5D%2C%20%5B34.03474%2C%20-118.34277%5D%2C%20%5B43.272024%2C%20-123.200951%5D%2C%20%5B36.385719%2C%20-82.32547%5D%2C%20%5B41.16797%2C%20-73.20111%5D%2C%20%5B26.174615%2C%20-80.31221500000002%5D%2C%20%5B36.757481%2C%20-119.664032%5D%2C%20%5B41.735401%2C%20-88.062836%5D%2C%20%5B35.46299000000001%2C%20-97.4925%5D%2C%20%5B41.846149%2C%20-87.972145%5D%2C%20%5B41.162079%2C%20-112.023224%5D%2C%20%5B45.39727%2C%20-122.25973%5D%2C%20%5B45.52519%2C%20-122.67751%5D%2C%20%5B36.19107800000001%2C%20-86.79894300000002%5D%2C%20%5B39.026758%2C%20-104.833459%5D%2C%20%5B30.705572%2C%20-86.73172%5D%2C%20%5B36.066422%2C%20-86.717842%5D%2C%20%5B34.059494%2C%20-118.001411%5D%2C%20%5B34.071739%2C%20-117.876991%5D%2C%20%5B35.771381%2C%20-78.78733100000002%5D%2C%20%5B37.449419%2C%20-121.003431%5D%2C%20%5B37.314034%2C%20-121.827058%5D%2C%20%5B38.02144600000001%2C%20-122.538994%5D%2C%20%5B42.669465%2C%20-121.859234%5D%2C%20%5B30.29491%2C%20-97.71972%5D%2C%20%5B40.827339%2C%20-73.438164%5D%2C%20%5B33.827%2C%20-117.525848%5D%2C%20%5B39.941792%2C%20-104.988968%5D%2C%20%5B40.87168%2C%20-74.19094%5D%2C%20%5B39.761269%2C%20-84.20609300000002%5D%2C%20%5B38.11386%2C%20-122.5644%5D%2C%20%5B39.754383%2C%20-84.18852199999998%5D%2C%20%5B38.996811%2C%20-76.904831%5D%2C%20%5B33.49703%2C%20-117.14845%5D%2C%20%5B40.5344%2C%20-74.30171999999997%5D%2C%20%5B42.494377%2C%20-82.93405200000002%5D%2C%20%5B30.270245000000006%2C%20-81.612762%5D%2C%20%5B36.048088%2C%20-86.731651%5D%2C%20%5B42.373684%2C%20-71.036789%5D%2C%20%5B33.175036%2C%20-87.402953%5D%2C%20%5B30.145332%2C%20-97.673454%5D%2C%20%5B30.751146%2C%20-88.09642%5D%2C%20%5B40.255633%2C%20-76.829656%5D%2C%20%5B43.119358%2C%20-83.714233%5D%2C%20%5B40.52249000000001%2C%20-74.30103000000003%5D%2C%20%5B43.00157%2C%20-78.4163%5D%2C%20%5B45.439044%2C%20-122.57898%5D%2C%20%5B45.130253%2C%20-93.390793%5D%2C%20%5B40.102795%2C%20-75.296188%5D%2C%20%5B38.195381%2C%20-85.707649%5D%2C%20%5B40.36805%2C%20-79.81716999999998%5D%2C%20%5B45.48223%2C%20-122.5661%5D%2C%20%5B46.53223%2C%20-122.532738%5D%2C%20%5B32.883540999999994%2C%20-80.019669%5D%2C%20%5B39.050442%2C%20-123.262935%5D%2C%20%5B36.54184%2C%20-119.833679%5D%2C%20%5B44.886848%2C%20-93.338168%5D%2C%20%5B34.068985%2C%20-118.258926%5D%2C%20%5B41.23248%2C%20-73.22299%5D%2C%20%5B47.73707%2C%20-122.32667%5D%2C%20%5B30.43737%2C%20-97.760506%5D%2C%20%5B34.87136%2C%20-81.95938000000002%5D%2C%20%5B33.871517%2C%20-117.701803%5D%2C%20%5B28.55769%2C%20-81.358253%5D%2C%20%5B39.668106%2C%20-84.222382%5D%2C%20%5B39.379822%2C%20-76.502983%5D%2C%20%5B32.83971%2C%20-97.32352%5D%2C%20%5B41.99559%2C%20-87.874329%5D%2C%20%5B40.103108%2C%20-110.47445%5D%2C%20%5B32.582172%2C%20-86.464279%5D%2C%20%5B40.718487%2C%20-111.896065%5D%2C%20%5B42.391445%2C%20-83.006378%5D%2C%20%5B38.902948%2C%20-77.021857%5D%2C%20%5B42.478352%2C%20-71.213959%5D%2C%20%5B47.733395%2C%20-122.325348%5D%2C%20%5B40.483303%2C%20-74.417625%5D%2C%20%5B35.242901%2C%20-80.75103%5D%2C%20%5B42.30623%2C%20-87.96036%5D%2C%20%5B33.7745%2C%20-118.06948%5D%2C%20%5B34.14490900000001%2C%20-84.518349%5D%2C%20%5B33.232491%2C%20-80.446587%5D%2C%20%5B44.028153%2C%20-121.316296%5D%2C%20%5B39.118098%2C%20-77.195059%5D%2C%20%5B41.35619000000001%2C%20-83.076729%5D%2C%20%5B31.524725%2C%20-97.134026%5D%2C%20%5B35.87133%2C%20-97.58573%5D%2C%20%5B33.73726%2C%20-117.82309%5D%2C%20%5B25.890015%2C%20-80.212898%5D%2C%20%5B37.640179%2C%20-77.40875600000003%5D%2C%20%5B39.449994%2C%20-121.688316%5D%2C%20%5B34.044559%2C%20-117.396344%5D%2C%20%5B43.17279600000001%2C%20-77.61263100000002%5D%2C%20%5B32.76406%2C%20-117.12758999999998%5D%2C%20%5B28.584861%2C%20-81.451449%5D%2C%20%5B43.06738%2C%20-88.05348000000002%5D%2C%20%5B33.592715000000005%2C%20-117.24184%5D%2C%20%5B43.056034%2C%20-76.06691%5D%2C%20%5B33.868329%2C%20-117.727706%5D%2C%20%5B37.79631%2C%20-122.209831%5D%2C%20%5B33.104439%2C%20-80.272049%5D%2C%20%5B38.801796%2C%20-121.300217%5D%2C%20%5B35.383942%2C%20-97.552109%5D%2C%20%5B32.716232%2C%20-96.774368%5D%2C%20%5B45.51483%2C%20-117.930921%5D%2C%20%5B40.068068%2C%20-74.963933%5D%2C%20%5B34.030499%2C%20-117.58757%5D%2C%20%5B30.4259%2C%20-91.137703%5D%2C%20%5B37.282279%2C%20-76.481622%5D%2C%20%5B43.820734%2C%20-123.046847%5D%2C%20%5B37.75311%2C%20-122.4028%5D%2C%20%5B45.475548%2C%20-122.565704%5D%2C%20%5B35.352222%2C%20-118.985278%5D%2C%20%5B40.668701%2C%20-73.925591%5D%2C%20%5B45.641683%2C%20-109.233437%5D%2C%20%5B28.569778000000003%2C%20-81.41555%5D%2C%20%5B43.149725%2C%20-124.17576%5D%2C%20%5B38.71107%2C%20-90.50634%5D%2C%20%5B33.928431%2C%20-118.237792%5D%2C%20%5B33.75609%2C%20-84.23243000000002%5D%2C%20%5B30.393539%2C%20-97.595886%5D%2C%20%5B33.5863%2C%20-81.651645%5D%2C%20%5B38.344634%2C%20-77.45873%5D%2C%20%5B45.28607%2C%20-93.00294%5D%2C%20%5B32.684361%2C%20-97.132523%5D%2C%20%5B45.710281%2C%20-121.507555%5D%2C%20%5B33.209419%2C%20-84.061417%5D%2C%20%5B34.141109%2C%20-118.277855%5D%2C%20%5B26.394529%2C%20-80.092979%5D%2C%20%5B42.346642%2C%20-71.06189%5D%2C%20%5B45.01978%2C%20-93.08966%5D%2C%20%5B32.647709000000006%2C%20-96.822708%5D%2C%20%5B27.460274%2C%20-82.575342%5D%2C%20%5B25.971066%2C%20-80.294907%5D%2C%20%5B38.745685%2C%20-121.170603%5D%2C%20%5B40.837418%2C%20-73.880608%5D%2C%20%5B33.975165999999994%2C%20-118.167786%5D%2C%20%5B34.05201%2C%20-118.25982%5D%2C%20%5B41.81461%2C%20-71.370094%5D%2C%20%5B43.092476%2C%20-75.747101%5D%2C%20%5B42.32329%2C%20-71.0549%5D%2C%20%5B37.5039%2C%20-77.34955%5D%2C%20%5B42.76148%2C%20-74.1341%5D%2C%20%5B35.792394%2C%20-78.745354%5D%2C%20%5B39.227589%2C%20-120.010262%5D%2C%20%5B39.630428%2C%20-77.80972299999998%5D%2C%20%5B45.448084%2C%20-94.54766%5D%2C%20%5B27.161815%2C%20-80.458663%5D%2C%20%5B39.05182%2C%20-84.62276%5D%2C%20%5B29.701872%2C%20-95.153429%5D%2C%20%5B44.56595%2C%20-123.15721%5D%2C%20%5B43.030453%2C%20-112.407892%5D%2C%20%5B37.511658%2C%20-122.32658%5D%2C%20%5B32.921265000000005%2C%20-96.769135%5D%2C%20%5B34.219341%2C%20-82.42733%5D%2C%20%5B42.827888%2C%20-78.791336%5D%2C%20%5B34.145931%2C%20-118.761294%5D%2C%20%5B43.17756%2C%20-88.09031%5D%2C%20%5B47.46886%2C%20-122.20892%5D%2C%20%5B34.030286%2C%20-117.700873%5D%2C%20%5B37.668962%2C%20-122.109399%5D%2C%20%5B43.177608%2C%20-83.76861600000002%5D%2C%20%5B34.118965%2C%20-78.976883%5D%2C%20%5B44.87458%2C%20-93.06492%5D%2C%20%5B33.489204%2C%20-82.08000899999998%5D%2C%20%5B37.377859%2C%20-77.408648%5D%2C%20%5B39.01263400000001%2C%20-77.149796%5D%2C%20%5B40.16667%2C%20-79.73774%5D%2C%20%5B30.218069%2C%20-92.017159%5D%2C%20%5B39.17266%2C%20-76.63887%5D%2C%20%5B37.24332800000001%2C%20-121.088354%5D%2C%20%5B38.795658%2C%20-77.13929300000002%5D%2C%20%5B41.75167%2C%20-87.57231%5D%2C%20%5B34.064239%2C%20-117.297611%5D%2C%20%5B30.067045%2C%20-95.4347%5D%2C%20%5B40.663853%2C%20-73.511902%5D%2C%20%5B25.732121%2C%20-80.384354%5D%2C%20%5B40.632713%2C%20-111.833641%5D%2C%20%5B35.462003%2C%20-80.875111%5D%2C%20%5B29.698853000000003%2C%20-95.386894%5D%2C%20%5B28.29164%2C%20-82.67593000000002%5D%2C%20%5B33.732307%2C%20-117.833958%5D%2C%20%5B36.896567%2C%20-81.348173%5D%2C%20%5B36.138866%2C%20-95.832352%5D%2C%20%5B28.68301%2C%20-81.33442%5D%2C%20%5B40.835548%2C%20-74.445145%5D%2C%20%5B33.947987%2C%20-80.965034%5D%2C%20%5B38.079315%2C%20-78.47541700000002%5D%2C%20%5B40.217758%2C%20-82.802696%5D%2C%20%5B29.759722%2C%20-95.364029%5D%2C%20%5B40.766491%2C%20-73.781154%5D%2C%20%5B45.1279%2C%20-93.486%5D%2C%20%5B39.94100200000001%2C%20-75.25670699999998%5D%2C%20%5B38.623971%2C%20-121.417755%5D%2C%20%5B41.295922%2C%20-72.76008%5D%2C%20%5B37.334824%2C%20-121.93589%5D%2C%20%5B34.900421%2C%20-82.336838%5D%2C%20%5B29.735298%2C%20-95.346977%5D%2C%20%5B25.726054%2C%20-80.41547299999998%5D%2C%20%5B45.780689%2C%20-122.549942%5D%2C%20%5B43.341494%2C%20-123.331654%5D%2C%20%5B33.84672800000001%2C%20-118.211756%5D%2C%20%5B29.72952%2C%20-95.42958%5D%2C%20%5B28.553844%2C%20-81.270385%5D%2C%20%5B40.107056%2C%20-75.147278%5D%2C%20%5B42.381252%2C%20-83.031932%5D%2C%20%5B34.221199%2C%20-118.473267%5D%2C%20%5B41.257889%2C%20-96.035751%5D%2C%20%5B32.742424%2C%20-96.755372%5D%2C%20%5B30.173485%2C%20-97.887871%5D%2C%20%5B42.30595%2C%20-87.95966%5D%2C%20%5B33.91747%2C%20-112.14526%5D%2C%20%5B37.912601%2C%20-122.06733%5D%2C%20%5B37.850994%2C%20-122.299484%5D%2C%20%5B29.78423%2C%20-95.53878%5D%2C%20%5B43.868409%2C%20-84.916829%5D%2C%20%5B42.29136%2C%20-85.66294%5D%2C%20%5B41.966605%2C%20-112.783116%5D%2C%20%5B35.339444%2C%20-119.039444%5D%2C%20%5B35.21934%2C%20-80.824662%5D%2C%20%5B40.118919%2C%20-75.119263%5D%2C%20%5B28.206038%2C%20-82.657394%5D%2C%20%5B39.95579%2C%20-105.16096%5D%2C%20%5B37.68528%2C%20-122.092323%5D%2C%20%5B45.21486%2C%20-118.02496%5D%2C%20%5B33.923302%2C%20-118.20597%5D%2C%20%5B40.52486%2C%20-80.07045699999998%5D%2C%20%5B32.705009000000004%2C%20-96.78553%5D%2C%20%5B29.688872%2C%20-95.418632%5D%2C%20%5B40.3018%2C%20-74.67393%5D%2C%20%5B42.425471%2C%20-123.328505%5D%2C%20%5B26.25423%2C%20-80.13651999999998%5D%2C%20%5B29.70463%2C%20-95.55677%5D%2C%20%5B39.383787%2C%20-120.088697%5D%2C%20%5B47.542766%2C%20-122.334598%5D%2C%20%5B42.299715%2C%20-85.07757%5D%2C%20%5B36.713995%2C%20-119.826783%5D%2C%20%5B33.640499%2C%20-111.942871%5D%2C%20%5B42.47105%2C%20-88.095547%5D%2C%20%5B32.738640000000004%2C%20-117.177841%5D%2C%20%5B35.551086%2C%20-97.654404%5D%2C%20%5B38.554715%2C%20-121.404383%5D%2C%20%5B40.427437%2C%20-79.89102199999998%5D%2C%20%5B28.551573%2C%20-80.851692%5D%2C%20%5B32.884445%2C%20-96.897911%5D%2C%20%5B36.602546%2C%20-119.658271%5D%2C%20%5B41.57114%2C%20-87.29058%5D%2C%20%5B40.838776%2C%20-73.882927%5D%2C%20%5B45.10598%2C%20-122.92682%5D%2C%20%5B33.552634999999995%2C%20-117.140404%5D%2C%20%5B36.797236%2C%20-119.785448%5D%2C%20%5B36.051281%2C%20-119.303936%5D%2C%20%5B33.746677000000005%2C%20-84.387955%5D%2C%20%5B39.633949%2C%20-104.905403%5D%2C%20%5B34.074573%2C%20-117.750211%5D%2C%20%5B33.591953000000004%2C%20-84.38531%5D%2C%20%5B43.626273%2C%20-116.619995%5D%2C%20%5B41.323689%2C%20-72.255266%5D%2C%20%5B37.523323%2C%20-77.45186600000002%5D%2C%20%5B28.86321%2C%20-82.09192%5D%2C%20%5B27.05033%2C%20-80.235334%5D%2C%20%5B27.94475%2C%20-82.48195%5D%2C%20%5B35.043690000000005%2C%20-120.568062%5D%2C%20%5B34.897368%2C%20-80.991117%5D%2C%20%5B35.20244%2C%20-80.72588%5D%2C%20%5B38.878826%2C%20-121.139411%5D%2C%20%5B44.85947%2C%20-93.362434%5D%2C%20%5B40.782011%2C%20-74.20124100000002%5D%2C%20%5B39.868599%2C%20-86.097023%5D%2C%20%5B35.580093%2C%20-97.460503%5D%2C%20%5B38.63199%2C%20-112.60864%5D%2C%20%5B30.267090000000003%2C%20-97.739342%5D%2C%20%5B34.024487%2C%20-117.740433%5D%2C%20%5B39.19549%2C%20-112.081088%5D%2C%20%5B34.229933%2C%20-117.415856%5D%2C%20%5B28.008470000000006%2C%20-82.45331999999998%5D%2C%20%5B44.871056%2C%20-93.433868%5D%2C%20%5B33.88261%2C%20-117.6436%5D%2C%20%5B38.241837%2C%20-122.26891299999998%5D%2C%20%5B26.16712%2C%20-80.11694%5D%2C%20%5B37.847641%2C%20-121.18632%5D%2C%20%5B28.01076%2C%20-82.504965%5D%2C%20%5B33.442188%2C%20-117.627449%5D%2C%20%5B35.862148%2C%20-78.842941%5D%2C%20%5B37.10852%2C%20-121.732213%5D%2C%20%5B43.063541%2C%20-87.978699%5D%2C%20%5B35.08405%2C%20-89.88831%5D%2C%20%5B32.865978000000005%2C%20-83.654549%5D%2C%20%5B34.70624%2C%20-82.45374%5D%2C%20%5B32.764091%2C%20-96.773781%5D%2C%20%5B42.592865%2C%20-82.85726899999997%5D%2C%20%5B33.831635%2C%20-118.255981%5D%2C%20%5B42.416943%2C%20-82.937172%5D%2C%20%5B38.985056%2C%20-121.385266%5D%2C%20%5B32.694544%2C%20-96.772188%5D%2C%20%5B41.07681%2C%20-95.8911%5D%2C%20%5B41.390305%2C%20-73.598152%5D%2C%20%5B40.783863%2C%20-73.260109%5D%2C%20%5B34.65044%2C%20-82.388565%5D%2C%20%5B44.861715%2C%20-93.474765%5D%2C%20%5B28.482689%2C%20-81.240913%5D%2C%20%5B39.840996%2C%20-75.407364%5D%2C%20%5B40.969036%2C%20-73.774019%5D%2C%20%5B47.83205%2C%20-122.262749%5D%2C%20%5B45.140335%2C%20-122.891366%5D%2C%20%5B28.57766%2C%20-81.49954100000002%5D%2C%20%5B36.045429%2C%20-80.259819%5D%2C%20%5B33.301731%2C%20-82.09783900000002%5D%2C%20%5B30.40806%2C%20-91.101921%5D%2C%20%5B35.786217%2C%20-78.809898%5D%2C%20%5B40.070442%2C%20-76.171173%5D%2C%20%5B35.394531%2C%20-118.967545%5D%2C%20%5B33.38588%2C%20-111.88542%5D%2C%20%5B40.667114%2C%20-73.995918%5D%2C%20%5B34.11046%2C%20-118.33435%5D%2C%20%5B29.737820000000006%2C%20-95.484291%5D%2C%20%5B29.672577%2C%20-95.272758%5D%2C%20%5B45.37256%2C%20-119.57758%5D%2C%20%5B40.739601%2C%20-73.22876%5D%2C%20%5B34.003072%2C%20-84.56393100000003%5D%2C%20%5B35.86380399999999%2C%20-78.635529%5D%2C%20%5B28.452454%2C%20-80.983926%5D%2C%20%5B37.76346%2C%20-121.41918%5D%2C%20%5B41.783309%2C%20-123.064948%5D%2C%20%5B29.851091%2C%20-95.473717%5D%2C%20%5B35.170971%2C%20-80.841164%5D%2C%20%5B26.045011%2C%20-80.162547%5D%2C%20%5B40.19203%2C%20-74.75121%5D%2C%20%5B41.190281%2C%20-73.133606%5D%2C%20%5B33.471069%2C%20-82.033897%5D%2C%20%5B42.066071%2C%20-88.316704%5D%2C%20%5B36.351734%2C%20-82.34219399999998%5D%2C%20%5B29.723642%2C%20-95.490814%5D%2C%20%5B35.870861%2C%20-78.58048199999998%5D%2C%20%5B40.66762%2C%20-111.953989%5D%2C%20%5B30.242034000000004%2C%20-98.010176%5D%2C%20%5B36.99899%2C%20-122.021523%5D%2C%20%5B39.098896%2C%20-94.608307%5D%2C%20%5B33.816353%2C%20-79.040253%5D%2C%20%5B35.47826%2C%20-82.55468%5D%2C%20%5B34.037239%2C%20-118.309074%5D%2C%20%5B32.690414000000004%2C%20-117.16705%5D%2C%20%5B36.093304%2C%20-86.73622900000002%5D%2C%20%5B44.052657%2C%20-123.25%5D%2C%20%5B44.971218%2C%20-93.46524%5D%2C%20%5B44.948877%2C%20-92.925871%5D%2C%20%5B34.149159999999995%2C%20-118.37314%5D%2C%20%5B42.239891%2C%20-71.024689%5D%2C%20%5B37.426435%2C%20-120.77063%5D%2C%20%5B38.579141%2C%20-121.560624%5D%2C%20%5B41.955456%2C%20-71.304367%5D%2C%20%5B39.205058%2C%20-121.205279%5D%2C%20%5B39.780643%2C%20-84.16349%5D%2C%20%5B40.309593%2C%20-75.42907%5D%2C%20%5B35.29058%2C%20-80.9128%5D%2C%20%5B30.38195%2C%20-97.686363%5D%2C%20%5B41.235771%2C%20-73.189621%5D%2C%20%5B27.960468%2C%20-82.730556%5D%2C%20%5B26.09479%2C%20-80.2333%5D%2C%20%5B28.4254%2C%20-82.551315%5D%2C%20%5B39.088347%2C%20-77.79342%5D%2C%20%5B38.740028%2C%20-90.336494%5D%2C%20%5B38.981717%2C%20-76.332126%5D%2C%20%5B36.605352%2C%20-119.66134%5D%2C%20%5B40.4342%2C%20-79.995789%5D%2C%20%5B37.895374%2C%20-122.113724%5D%2C%20%5B34.046982%2C%20-118.446304%5D%2C%20%5B43.067113%2C%20-123.616482%5D%2C%20%5B34.226659000000005%2C%20-117.306192%5D%2C%20%5B33.507732%2C%20-86.77969399999998%5D%2C%20%5B42.20413%2C%20-123.65005%5D%2C%20%5B33.138729999999995%2C%20-117.14109%5D%2C%20%5B45.554663%2C%20-122.523054%5D%2C%20%5B33.894478%2C%20-117.557617%5D%2C%20%5B39.907561%2C%20-75.450885%5D%2C%20%5B42.44787%2C%20-83.21992%5D%2C%20%5B28.4211%2C%20-81.42755%5D%2C%20%5B42.664047%2C%20-71.194122%5D%2C%20%5B45.05762100000001%2C%20-93.400757%5D%2C%20%5B32.642084999999994%2C%20-96.823777%5D%2C%20%5B25.687384%2C%20-80.35128%5D%2C%20%5B29.93647%2C%20-95.51631%5D%2C%20%5B47.712212%2C%20-122.315201%5D%2C%20%5B35.017284000000004%2C%20-85.178696%5D%2C%20%5B35.193241%2C%20-89.792542%5D%2C%20%5B26.683952%2C%20-81.798897%5D%2C%20%5B30.32736%2C%20-81.60777%5D%2C%20%5B34.156661%2C%20-118.413771%5D%2C%20%5B29.57787%2C%20-98.59542%5D%2C%20%5B35.72293900000001%2C%20-78.78019%5D%2C%20%5B37.529911%2C%20-77.907143%5D%2C%20%5B33.935928000000004%2C%20-117.40464%5D%2C%20%5B35.75565%2C%20-78.60056%5D%2C%20%5B33.803733%2C%20-118.138798%5D%2C%20%5B36.118969%2C%20-95.865616%5D%2C%20%5B37.66013%2C%20-122.10392%5D%2C%20%5B42.996121%2C%20-77.374509%5D%2C%20%5B37.854509%2C%20-122.217794%5D%2C%20%5B44.71913%2C%20-92.84962%5D%2C%20%5B39.05296%2C%20-94.4971%5D%2C%20%5B35.371835%2C%20-119.043453%5D%2C%20%5B33.978722%2C%20-81.288338%5D%2C%20%5B39.686401%2C%20-75.443535%5D%2C%20%5B32.792614%2C%20-96.625275%5D%2C%20%5B35.768848%2C%20-78.50747700000002%5D%2C%20%5B37.881075%2C%20-121.266415%5D%2C%20%5B37.574725%2C%20-108.242016%5D%2C%20%5B39.82278400000001%2C%20-104.962814%5D%2C%20%5B35.902569%2C%20-78.810722%5D%2C%20%5B29.716429%2C%20-95.484802%5D%2C%20%5B35.8356%2C%20-78.59311%5D%2C%20%5B25.890526%2C%20-80.18040500000002%5D%2C%20%5B35.585007%2C%20-89.093925%5D%2C%20%5B39.13232100000001%2C%20-75.528584%5D%2C%20%5B38.576279%2C%20-121.563004%5D%2C%20%5B35.26458%2C%20-99.63881%5D%2C%20%5B41.14999%2C%20-122.313251%5D%2C%20%5B35.637718%2C%20-97.232002%5D%2C%20%5B41.9935%2C%20-88.268036%5D%2C%20%5B30.46455%2C%20-88.42361%5D%2C%20%5B35.391663%2C%20-97.574181%5D%2C%20%5B27.447747%2C%20-82.576939%5D%2C%20%5B27.969486%2C%20-82.399658%5D%2C%20%5B37.635689%2C%20-77.451622%5D%2C%20%5B44.29381%2C%20-94.41446%5D%2C%20%5B45.3871%2C%20-122.75068%5D%2C%20%5B45.50558%2C%20-122.67838%5D%2C%20%5B32.7725%2C%20-96.62363%5D%2C%20%5B35.296177%2C%20-80.754829%5D%2C%20%5B38.96806%2C%20-77.17961%5D%2C%20%5B37.473991%2C%20-119.638465%5D%2C%20%5B40.836807%2C%20-73.87357%5D%2C%20%5B33.291649%2C%20-111.997284%5D%2C%20%5B42.875575%2C%20-87.93727%5D%2C%20%5B37.590141%2C%20-77.50389100000002%5D%2C%20%5B34.003569%2C%20-117.830784%5D%2C%20%5B30.572975%2C%20-87.291836%5D%2C%20%5B38.912189%2C%20-76.934044%5D%2C%20%5B44.436155%2C%20-118.82143700000002%5D%2C%20%5B34.164013%2C%20-118.469513%5D%2C%20%5B44.95183%2C%20-93.157804%5D%2C%20%5B35.25496500000001%2C%20-80.855868%5D%2C%20%5B47.6454%2C%20-122.32303%5D%2C%20%5B42.977615%2C%20-77.230499%5D%2C%20%5B30.311939%2C%20-97.757149%5D%2C%20%5B31.76441%2C%20-106.40715%5D%2C%20%5B41.56805%2C%20-72.7275%5D%2C%20%5B26.253215%2C%20-80.13651899999998%5D%2C%20%5B40.67942%2C%20-74.00359300000002%5D%2C%20%5B37.328884%2C%20-121.870255%5D%2C%20%5B34.0914%2C%20-118.23969%5D%2C%20%5B33.536784999999995%2C%20-113.150199%5D%2C%20%5B40.016384%2C%20-75.175086%5D%2C%20%5B32.9227%2C%20-97.07333%5D%2C%20%5B33.931027%2C%20-118.309118%5D%2C%20%5B47.527416%2C%20-122.70018%5D%2C%20%5B25.98505%2C%20-80.16546600000002%5D%2C%20%5B40.481325%2C%20-122.082878%5D%2C%20%5B29.603077000000006%2C%20-95.386954%5D%2C%20%5B33.543419%2C%20-86.75985%5D%2C%20%5B25.66688%2C%20-80.36949%5D%2C%20%5B32.75019%2C%20-117.123066%5D%2C%20%5B37.759328%2C%20-122.212948%5D%2C%20%5B33.0931%2C%20-97.02807%5D%2C%20%5B44.95189%2C%20-93.15389%5D%2C%20%5B33.767799%2C%20-84.34903%5D%2C%20%5B42.971188%2C%20-73.7929%5D%2C%20%5B33.930939%2C%20-118.178909%5D%2C%20%5B34.037028%2C%20-118.377485%5D%2C%20%5B32.59724%2C%20-117.089005%5D%2C%20%5B40.30183%2C%20-111.72563999999998%5D%2C%20%5B47.02652%2C%20-122.73076%5D%2C%20%5B34.043171%2C%20-118.187057%5D%2C%20%5B37.732002%2C%20-122.188828%5D%2C%20%5B33.98921%2C%20-118.24118%5D%2C%20%5B30.48647%2C%20-84.031087%5D%2C%20%5B37.850994%2C%20-122.299484%5D%2C%20%5B34.480019%2C%20-81.944672%5D%2C%20%5B43.21182%2C%20-88.14528%5D%2C%20%5B45.38633400000001%2C%20-122.750941%5D%2C%20%5B34.151676%2C%20-118.143764%5D%2C%20%5B41.22249%2C%20-95.99047%5D%2C%20%5B45.122151%2C%20-93.208722%5D%2C%20%5B41.21999%2C%20-112.092866%5D%2C%20%5B34.135721999999994%2C%20-118.360252%5D%2C%20%5B33.88747%2C%20-118.100523%5D%2C%20%5B41.714149%2C%20-87.801854%5D%2C%20%5B44.88686%2C%20-93.3314%5D%2C%20%5B27.807992%2C%20-82.75214799999998%5D%2C%20%5B38.026775%2C%20-121.951256%5D%2C%20%5B30.376344%2C%20-91.068759%5D%2C%20%5B32.829124%2C%20-96.888821%5D%2C%20%5B42.589745%2C%20-71.31263%5D%2C%20%5B33.896159999999995%2C%20-84.25111%5D%2C%20%5B32.85241%2C%20-96.56523%5D%2C%20%5B35.766688%2C%20-78.734861%5D%2C%20%5B39.12827%2C%20-104.86392%5D%2C%20%5B37.69817000000001%2C%20-121.93512%5D%2C%20%5B25.948113%2C%20-80.184294%5D%2C%20%5B41.974812%2C%20-88.04155%5D%2C%20%5B40.66808%2C%20-111.49087%5D%2C%20%5B25.883011%2C%20-80.22729100000002%5D%2C%20%5B29.830032%2C%20-95.361343%5D%2C%20%5B41.56129%2C%20-73.05748299999998%5D%2C%20%5B32.768259%2C%20-97.301917%5D%2C%20%5B42.988857%2C%20-83.682449%5D%2C%20%5B42.30556%2C%20-87.95983000000003%5D%2C%20%5B40.805404%2C%20-122.324278%5D%2C%20%5B33.984337%2C%20-117.842659%5D%2C%20%5B38.786915%2C%20-77.177116%5D%2C%20%5B33.938068%2C%20-118.098366%5D%2C%20%5B37.538441%2C%20-77.438911%5D%2C%20%5B38.775829%2C%20-120.404114%5D%2C%20%5B33.608635%2C%20-81.718758%5D%2C%20%5B26.36833%2C%20-80.118416%5D%2C%20%5B42.63471%2C%20-73.77802%5D%2C%20%5B34.822601%2C%20-82.228691%5D%2C%20%5B43.024414%2C%20-83.687775%5D%2C%20%5B48.47045%2C%20-122.34211%5D%2C%20%5B41.750992%2C%20-72.683121%5D%2C%20%5B34.15067%2C%20-118.46824%5D%2C%20%5B34.200012%2C%20-118.857254%5D%2C%20%5B36.045686%2C%20-86.660379%5D%2C%20%5B47.412098%2C%20-122.220474%5D%2C%20%5B36.58751%2C%20-114.64964%5D%2C%20%5B33.9739%2C%20-81.156441%5D%2C%20%5B30.494074%2C%20-87.222567%5D%2C%20%5B42.35118%2C%20-83.09626999999998%5D%2C%20%5B36.923699%2C%20-76.281913%5D%2C%20%5B29.746704%2C%20-95.389649%5D%2C%20%5B39.900221%2C%20-104.988178%5D%2C%20%5B38.70792%2C%20-77.47338%5D%2C%20%5B42.172168%2C%20-117.760015%5D%2C%20%5B40.727695%2C%20-73.929199%5D%2C%20%5B37.821184%2C%20-120.239789%5D%2C%20%5B42.961731%2C%20-83.55484%5D%2C%20%5B38.675705%2C%20-77.23631999999998%5D%2C%20%5B38.667086%2C%20-77.271299%5D%2C%20%5B25.865788%2C%20-80.242363%5D%2C%20%5B42.469009%2C%20-91.647858%5D%2C%20%5B34.083534%2C%20-117.693756%5D%2C%20%5B36.14011%2C%20-86.7233%5D%2C%20%5B35.034821%2C%20-81.20326999999997%5D%2C%20%5B34.117721%2C%20-117.844675%5D%2C%20%5B38.021694%2C%20-122.10276%5D%2C%20%5B32.720295%2C%20-96.857025%5D%2C%20%5B36.140598%2C%20-95.922523%5D%2C%20%5B44.923211%2C%20-93.14505%5D%2C%20%5B32.754265000000004%2C%20-96.771507%5D%2C%20%5B33.527689%2C%20-117.1732%5D%2C%20%5B42.89019%2C%20-76.10935%5D%2C%20%5B28.382783%2C%20-81.30895799999998%5D%2C%20%5B33.880151%2C%20-117.565244%5D%2C%20%5B37.717743%2C%20-121.532158%5D%2C%20%5B29.653978%2C%20-95.565687%5D%2C%20%5B32.988792%2C%20-117.255356%5D%2C%20%5B38.606162%2C%20-121.432049%5D%2C%20%5B35.649315%2C%20-120.801025%5D%2C%20%5B29.723009%2C%20-95.405159%5D%2C%20%5B29.71532%2C%20-95.50077%5D%2C%20%5B41.56347%2C%20-74.42891999999998%5D%2C%20%5B33.251995%2C%20-87.571747%5D%2C%20%5B29.875948%2C%20-95.412308%5D%2C%20%5B30.111904%2C%20-95.385841%5D%2C%20%5B32.74239%2C%20-96.818362%5D%2C%20%5B33.519615%2C%20-80.790993%5D%2C%20%5B38.929424%2C%20-77.518982%5D%2C%20%5B30.434601%2C%20-95.035469%5D%2C%20%5B33.924644%2C%20-118.209816%5D%2C%20%5B35.784175%2C%20-78.647384%5D%2C%20%5B40.820026%2C%20-73.054344%5D%2C%20%5B29.749884%2C%20-95.364159%5D%2C%20%5B27.415554%2C%20-82.399422%5D%2C%20%5B35.4062%2C%20-97.543488%5D%2C%20%5B37.355311%2C%20-77.44659399999998%5D%2C%20%5B26.546469%2C%20-81.833729%5D%2C%20%5B38.818912%2C%20-76.913317%5D%2C%20%5B32.88793%2C%20-117.1124%5D%2C%20%5B37.282066%2C%20-121.808708%5D%2C%20%5B37.844638%2C%20-77.45223299999998%5D%2C%20%5B28.35579%2C%20-80.75494%5D%2C%20%5B33.00062%2C%20-80.09161999999998%5D%2C%20%5B42.379036%2C%20-83.216965%5D%2C%20%5B33.638571%2C%20-112.355024%5D%2C%20%5B39.872103%2C%20-75.087638%5D%2C%20%5B36.022972%2C%20-83.476311%5D%2C%20%5B25.76107%2C%20-80.390812%5D%2C%20%5B33.690956%2C%20-117.923286%5D%2C%20%5B30.473761%2C%20-84.324112%5D%2C%20%5B34.17232%2C%20-118.57092%5D%2C%20%5B35.339443%2C%20-119.039467%5D%2C%20%5B35.831764%2C%20-78.76355%5D%2C%20%5B38.801979%2C%20-77.16364300000002%5D%2C%20%5B47.551189%2C%20-122.280777%5D%2C%20%5B25.881199%2C%20-80.21855500000002%5D%2C%20%5B29.780581%2C%20-95.454178%5D%2C%20%5B41.88597100000001%2C%20-88.02388%5D%2C%20%5B33.77451%2C%20-118.07468%5D%2C%20%5B34.039394%2C%20-81.09461999999998%5D%2C%20%5B34.236481%2C%20-118.413948%5D%2C%20%5B38.845093%2C%20-77.007225%5D%2C%20%5B33.851208%2C%20-117.837952%5D%2C%20%5B34.957531%2C%20-82.30119300000001%5D%2C%20%5B34.029719%2C%20-118.403062%5D%2C%20%5B38.380238%2C%20-121.365646%5D%2C%20%5B40.58069%2C%20-111.87222%5D%2C%20%5B39.987598%2C%20-76.31739%5D%2C%20%5B37.764011%2C%20-122.217074%5D%2C%20%5B34.039548%2C%20-117.550381%5D%2C%20%5B40.284%2C%20-74.69672%5D%2C%20%5B32.268024%2C%20-90.210091%5D%2C%20%5B34.08166%2C%20-117.7038%5D%2C%20%5B37.45212%2C%20-122.126903%5D%2C%20%5B29.70625%2C%20-95.24219%5D%2C%20%5B27.987743%2C%20-82.37645%5D%2C%20%5B33.195297%2C%20-87.486389%5D%2C%20%5B28.548779%2C%20-81.6371%5D%2C%20%5B33.565979%2C%20-112.257217%5D%2C%20%5B38.510303%2C%20-121.464525%5D%2C%20%5B33.94504000000001%2C%20-118.0993%5D%2C%20%5B35.770668%2C%20-78.722946%5D%2C%20%5B37.36821%2C%20-121.92389%5D%2C%20%5B43.167218%2C%20-70.65329100000002%5D%2C%20%5B42.466309%2C%20-88.062424%5D%2C%20%5B38.644021%2C%20-121.378451%5D%2C%20%5B36.23158%2C%20-86.78156%5D%2C%20%5B38.334571%2C%20-122.712939%5D%2C%20%5B42.40204%2C%20-82.97069%5D%2C%20%5B40.91078%2C%20-74.50895%5D%2C%20%5B34.858925%2C%20-82.259857%5D%2C%20%5B38.944186%2C%20-76.798847%5D%2C%20%5B35.383591%2C%20-120.630112%5D%2C%20%5B35.1231%2C%20-85.23951%5D%2C%20%5B35.499962%2C%20-78.35714%5D%2C%20%5B33.792053%2C%20-84.392403%5D%2C%20%5B43.6687%2C%20-123.20293%5D%2C%20%5B42.571442%2C%20-82.858643%5D%2C%20%5B41.10353%2C%20-73.43138%5D%2C%20%5B34.134621%2C%20-79.662872%5D%2C%20%5B38.60014%2C%20-121.5049%5D%2C%20%5B41.88801%2C%20-87.77488000000002%5D%2C%20%5B32.77451%2C%20-97.21256%5D%2C%20%5B38.222668%2C%20-122.25328799999998%5D%2C%20%5B39.86727%2C%20-74.89461%5D%2C%20%5B34.432278000000004%2C%20-119.74588%5D%2C%20%5B37.317284%2C%20-121.936751%5D%2C%20%5B35.278851%2C%20-80.774033%5D%2C%20%5B25.812581%2C%20-80.214389%5D%2C%20%5B28.00989%2C%20-81.86558000000002%5D%2C%20%5B33.656479%2C%20-84.497551%5D%2C%20%5B37.279645%2C%20-122.011327%5D%2C%20%5B29.596285%2C%20-95.504631%5D%2C%20%5B40.72775%2C%20-74.1294%5D%2C%20%5B38.481682%2C%20-121.408768%5D%2C%20%5B47.134935%2C%20-122.529131%5D%2C%20%5B33.384609000000005%2C%20-81.071777%5D%2C%20%5B36.099998%2C%20-95.859749%5D%2C%20%5B33.890495%2C%20-80.30925%5D%2C%20%5B35.29155%2C%20-80.753693%5D%2C%20%5B37.130122%2C%20-121.033731%5D%2C%20%5B28.409967%2C%20-81.391374%5D%2C%20%5B40.15776500000001%2C%20-122.22482%5D%2C%20%5B39.774929%2C%20-84.179443%5D%2C%20%5B25.92567%2C%20-80.26558%5D%2C%20%5B33.87631%2C%20-118.093982%5D%2C%20%5B34.082355%2C%20-117.544639%5D%2C%20%5B36.15625%2C%20-86.802948%5D%2C%20%5B35.486038%2C%20-97.654266%5D%2C%20%5B40.73525%2C%20-73.91933%5D%2C%20%5B28.292543%2C%20-80.74301899999998%5D%2C%20%5B37.539288%2C%20-121.188049%5D%2C%20%5B27.98168%2C%20-82.30338%5D%2C%20%5B40.110546%2C%20-74.89119000000002%5D%2C%20%5B30.290655%2C%20-81.629631%5D%2C%20%5B30.42262%2C%20-91.13505%5D%2C%20%5B27.44021%2C%20-82.457932%5D%2C%20%5B44.85443%2C%20-123.22925%5D%2C%20%5B33.173043%2C%20-117.360328%5D%2C%20%5B30.237804%2C%20-97.589767%5D%2C%20%5B33.948811%2C%20-118.089432%5D%2C%20%5B30.455145%2C%20-81.705627%5D%2C%20%5B35.2677%2C%20-80.79480699999998%5D%2C%20%5B45.354976%2C%20-122.62159%5D%2C%20%5B41.54039%2C%20-87.95218%5D%2C%20%5B32.660854%2C%20-117.076584%5D%2C%20%5B29.4308%2C%20-98.40942%5D%2C%20%5B32.778999%2C%20-117.101219%5D%2C%20%5B34.067622%2C%20-117.409471%5D%2C%20%5B45.30294%2C%20-93.00252%5D%2C%20%5B45.52992%2C%20-122.64741%5D%2C%20%5B45.551411%2C%20-122.564032%5D%2C%20%5B38.675898%2C%20-77.235957%5D%2C%20%5B35.911552%2C%20-78.65136%5D%2C%20%5B32.46032%2C%20-86.388138%5D%2C%20%5B37.329347%2C%20-120.563231%5D%2C%20%5B38.94990900000001%2C%20-119.19136%5D%2C%20%5B45.84951%2C%20-123.53725%5D%2C%20%5B33.744131%2C%20-84.38752%5D%2C%20%5B39.349163%2C%20-76.745705%5D%2C%20%5B37.69339%2C%20-122.391762%5D%2C%20%5B41.914241%2C%20-76.939499%5D%2C%20%5B34.067612%2C%20-117.566681%5D%2C%20%5B41.257445%2C%20-122.270422%5D%2C%20%5B38.31817%2C%20-122.7143%5D%2C%20%5B40.016116%2C%20-76.160699%5D%2C%20%5B34.049702%2C%20-118.21416%5D%2C%20%5B41.35685%2C%20-112.04305%5D%2C%20%5B38.63862%2C%20-90.44446%5D%2C%20%5B25.71377%2C%20-80.382491%5D%2C%20%5B34.266751%2C%20-118.849644%5D%2C%20%5B35.240257%2C%20-80.858429%5D%2C%20%5B40.01488300000001%2C%20-76.74104200000002%5D%2C%20%5B37.608743%2C%20-77.45121999999998%5D%2C%20%5B43.18406%2C%20-77.59939%5D%2C%20%5B37.984572%2C%20-121.259521%5D%2C%20%5B43.001911%2C%20-83.7826%5D%2C%20%5B39.296249%2C%20-76.840925%5D%2C%20%5B37.521496%2C%20-77.455495%5D%2C%20%5B44.027564%2C%20-93.246711%5D%2C%20%5B42.978767%2C%20-77.229446%5D%2C%20%5B36.67078%2C%20-114.521683%5D%2C%20%5B32.362663%2C%20-86.21401999999998%5D%2C%20%5B43.21104%2C%20-77.58556%5D%2C%20%5B40.12187700000001%2C%20-76.867777%5D%2C%20%5B33.85801%2C%20-117.87592%5D%2C%20%5B28.56232%2C%20-81.37853%5D%2C%20%5B35.757458%2C%20-78.66523000000002%5D%2C%20%5B42.34077%2C%20-88.0534%5D%2C%20%5B36.748959%2C%20-119.776073%5D%2C%20%5B37.458304%2C%20-122.13738%5D%2C%20%5B38.561539%2C%20-121.35833%5D%2C%20%5B40.713894%2C%20-73.339134%5D%2C%20%5B43.157856%2C%20-77.60318000000002%5D%2C%20%5B37.736463%2C%20-121.117178%5D%2C%20%5B41.84745%2C%20-87.92916%5D%2C%20%5B35.377129%2C%20-97.530113%5D%2C%20%5B34.168156%2C%20-118.583453%5D%2C%20%5B35.22656%2C%20-80.74722%5D%2C%20%5B30.380684%2C%20-81.673661%5D%2C%20%5B43.997593%2C%20-90.471695%5D%2C%20%5B39.74669%2C%20-105.46416%5D%2C%20%5B41.047614%2C%20-73.834487%5D%2C%20%5B43.9363%2C%20-91.79655%5D%2C%20%5B40.71759%2C%20-112.0952%5D%2C%20%5B41.46443%2C%20-124.037264%5D%2C%20%5B33.871482%2C%20-117.68551399999998%5D%2C%20%5B42.90322000000001%2C%20-73.78544000000002%5D%2C%20%5B30.191587%2C%20-81.693825%5D%2C%20%5B33.765678%2C%20-117.97238%5D%2C%20%5B34.03685%2C%20-118.28712%5D%2C%20%5B41.191338%2C%20-74.181565%5D%2C%20%5B26.461716%2C%20-80.088387%5D%2C%20%5B30.247168%2C%20-97.805%5D%2C%20%5B44.489249%2C%20-123.06181%5D%2C%20%5B34.498535%2C%20-82.575638%5D%2C%20%5B36.118832%2C%20-95.930428%5D%2C%20%5B28.977903%2C%20-82.134109%5D%2C%20%5B30.137251000000006%2C%20-82.631417%5D%2C%20%5B35.795673%2C%20-78.514801%5D%2C%20%5B37.89715%2C%20-121.2914%5D%2C%20%5B37.195618%2C%20-121.993538%5D%2C%20%5B40.929585%2C%20-73.765511%5D%2C%20%5B34.710693%2C%20-86.662338%5D%2C%20%5B42.270248%2C%20-71.087692%5D%2C%20%5B30.78397%2C%20-85.26344300000002%5D%2C%20%5B32.932392%2C%20-96.755569%5D%2C%20%5B41.76572%2C%20-87.61525999999998%5D%2C%20%5B41.94063%2C%20-88.15043%5D%2C%20%5B39.04391%2C%20-84.46715%5D%2C%20%5B33.91637%2C%20-118.41595%5D%2C%20%5B39.923653%2C%20-86.22850799999998%5D%2C%20%5B38.960309%2C%20-77.025937%5D%2C%20%5B40.79714%2C%20-73.92916%5D%2C%20%5B37.70134%2C%20-121.873657%5D%2C%20%5B42.570763%2C%20-70.91037%5D%2C%20%5B37.627411%2C%20-122.081558%5D%2C%20%5B41.424471%2C%20-81.64511999999998%5D%2C%20%5B39.942759%2C%20-74.20888000000002%5D%2C%20%5B45.391392%2C%20-122.613022%5D%2C%20%5B40.951486%2C%20-111.89139%5D%2C%20%5B37.702%2C%20-121.917084%5D%2C%20%5B41.220352%2C%20-111.948235%5D%2C%20%5B35.18002%2C%20-80.85136%5D%2C%20%5B33.591888%2C%20-117.755951%5D%2C%20%5B32.990452000000005%2C%20-80.162552%5D%2C%20%5B25.98505%2C%20-80.16551199999998%5D%2C%20%5B41.55664%2C%20-87.31081%5D%2C%20%5B42.92754%2C%20-83.630081%5D%2C%20%5B33.921015999999995%2C%20-111.454978%5D%2C%20%5B28.524811%2C%20-81.38623%5D%2C%20%5B41.47002%2C%20-81.69285%5D%2C%20%5B36.489433%2C%20-119.789612%5D%2C%20%5B25.43423%2C%20-80.47421%5D%2C%20%5B34.152958%2C%20-118.224579%5D%2C%20%5B37.492561%2C%20-77.47065%5D%2C%20%5B43.88828%2C%20-121.382%5D%2C%20%5B38.837128%2C%20-77.447281%5D%2C%20%5B35.79673%2C%20-78.579238%5D%2C%20%5B32.76753%2C%20-97.308226%5D%2C%20%5B34.194576%2C%20-80.280098%5D%2C%20%5B34.065353%2C%20-117.806587%5D%2C%20%5B37.4101%2C%20-122.0744%5D%2C%20%5B33.66799%2C%20-84.33887%5D%2C%20%5B26.188093%2C%20-80.151733%5D%2C%20%5B34.413307%2C%20-119.294617%5D%2C%20%5B37.149077%2C%20-121.648946%5D%2C%20%5B33.484295%2C%20-81.986343%5D%2C%20%5B39.19557800000001%2C%20-76.60288%5D%2C%20%5B40.65841%2C%20-74.43857%5D%2C%20%5B34.082817%2C%20-117.916588%5D%2C%20%5B27.766979%2C%20-82.65789000000002%5D%2C%20%5B38.407712%2C%20-86.937888%5D%2C%20%5B43.381394%2C%20-89.072139%5D%2C%20%5B45.82435%2C%20-108.385308%5D%2C%20%5B38.448048%2C%20-121.856049%5D%2C%20%5B37.486847%2C%20-122.14205%5D%2C%20%5B42.384716%2C%20-87.825974%5D%2C%20%5B34.071515999999995%2C%20-117.759436%5D%2C%20%5B34.299126%2C%20-119.140198%5D%2C%20%5B43.780522%2C%20-121.449624%5D%2C%20%5B38.936878%2C%20-94.607964%5D%2C%20%5B33.73087%2C%20-117.98655%5D%2C%20%5B41.116711%2C%20-74.113884%5D%2C%20%5B29.69116%2C%20-95.53521%5D%2C%20%5B38.402269%2C%20-75.583089%5D%2C%20%5B40.302971%2C%20-76.880791%5D%2C%20%5B29.854940000000006%2C%20-95.26239%5D%2C%20%5B34.07203%2C%20-117.295717%5D%2C%20%5B37.58451%2C%20-77.44736999999998%5D%2C%20%5B35.23599%2C%20-80.83773000000002%5D%2C%20%5B41.10318%2C%20-112.003296%5D%2C%20%5B40.436197%2C%20-79.999814%5D%2C%20%5B39.23565900000001%2C%20-76.877438%5D%2C%20%5B35.18347%2C%20-80.75323%5D%2C%20%5B34.231285%2C%20-118.26619%5D%2C%20%5B33.897494%2C%20-117.491362%5D%2C%20%5B40.43196500000001%2C%20-111.891289%5D%2C%20%5B29.613415000000003%2C%20-95.438393%5D%2C%20%5B32.801373%2C%20-79.899499%5D%2C%20%5B29.714945%2C%20-95.592346%5D%2C%20%5B45.06951%2C%20-93.29827%5D%2C%20%5B30.432772%2C%20-91.057465%5D%2C%20%5B35.825668%2C%20-78.62226899999997%5D%2C%20%5B35.15302%2C%20-90.070818%5D%2C%20%5B37.684169%2C%20-122.073616%5D%2C%20%5B28.381313%2C%20-80.740707%5D%2C%20%5B33.421467%2C%20-82.064201%5D%2C%20%5B44.999135%2C%20-93.349469%5D%2C%20%5B38.302773%2C%20-111.478287%5D%2C%20%5B38.56997%2C%20-121.51453%5D%2C%20%5B37.965584%2C%20-121.243776%5D%2C%20%5B37.663326%2C%20-122.105667%5D%2C%20%5B37.33453%2C%20-122.027994%5D%2C%20%5B33.85103%2C%20-117.837939%5D%2C%20%5B40.558517%2C%20-74.264328%5D%2C%20%5B40.360061%2C%20-120.86648%5D%2C%20%5B33.78388%2C%20-118.09132%5D%2C%20%5B39.719043%2C%20-121.804036%5D%2C%20%5B41.774078%2C%20-87.955139%5D%2C%20%5B25.766032%2C%20-80.200078%5D%2C%20%5B34.263568%2C%20-119.244693%5D%2C%20%5B40.089287%2C%20-75.208694%5D%2C%20%5B36.389462%2C%20-78.528564%5D%2C%20%5B39.37565%2C%20-76.45211%5D%2C%20%5B38.773155%2C%20-121.037099%5D%2C%20%5B37.781074%2C%20-122.238702%5D%2C%20%5B32.825716%2C%20-96.831126%5D%2C%20%5B30.266064%2C%20-97.720535%5D%2C%20%5B44.939854%2C%20-93.075462%5D%2C%20%5B30.270907%2C%20-81.767801%5D%2C%20%5B28.069267%2C%20-82.45458199999999%5D%2C%20%5B33.495724%2C%20-112.112984%5D%2C%20%5B40.194055%2C%20-122.2045%5D%2C%20%5B30.156439%2C%20-97.833346%5D%2C%20%5B37.786045%2C%20-122.392981%5D%2C%20%5B34.124253%2C%20-117.201064%5D%2C%20%5B32.84345%2C%20-117.13154%5D%2C%20%5B35.991264%2C%20-83.951431%5D%2C%20%5B42.37904%2C%20-83.20772%5D%2C%20%5B42.938915%2C%20-83.586639%5D%2C%20%5B42.46501%2C%20-87.91331%5D%2C%20%5B45.18215%2C%20-95.01353%5D%2C%20%5B40.73904%2C%20-73.815155%5D%2C%20%5B33.564803999999995%2C%20-81.936768%5D%2C%20%5B40.772835%2C%20-75.111313%5D%2C%20%5B33.429986%2C%20-117.14455%5D%2C%20%5B44.508601%2C%20-122.884868%5D%2C%20%5B35.14889%2C%20-85.24919%5D%2C%20%5B41.28378%2C%20-72.93721%5D%2C%20%5B33.66928%2C%20-112.13467%5D%2C%20%5B34.27608%2C%20-118.38558%5D%2C%20%5B35.146629%2C%20-80.630386%5D%2C%20%5B42.336348%2C%20-87.885526%5D%2C%20%5B34.031082%2C%20-118.434196%5D%2C%20%5B29.70123%2C%20-95.45903%5D%2C%20%5B33.434742%2C%20-112.037712%5D%2C%20%5B25.733095%2C%20-80.335831%5D%2C%20%5B33.726048%2C%20-117.835007%5D%2C%20%5B30.222387%2C%20-97.697266%5D%2C%20%5B34.467339%2C%20-79.898682%5D%2C%20%5B39.299633%2C%20-84.52301%5D%2C%20%5B43.81632000000001%2C%20-121.42934%5D%2C%20%5B25.988148%2C%20-80.165745%5D%2C%20%5B33.168018%2C%20-87.525398%5D%2C%20%5B36.125443%2C%20-79.862099%5D%2C%20%5B33.740631%2C%20-84.391212%5D%2C%20%5B35.309975%2C%20-80.83889%5D%2C%20%5B33.520931%2C%20-86.814622%5D%2C%20%5B47.502686%2C%20-122.196663%5D%2C%20%5B35.837041%2C%20-78.67228100000001%5D%2C%20%5B32.96002%2C%20-96.72856%5D%2C%20%5B39.17682%2C%20-76.63600000000002%5D%2C%20%5B36.059108%2C%20-86.716167%5D%2C%20%5B33.751534%2C%20-118.01283%5D%2C%20%5B32.747748%2C%20-117.193365%5D%2C%20%5B41.25972%2C%20-95.95657%5D%2C%20%5B30.310431%2C%20-81.523736%5D%2C%20%5B35.220718%2C%20-80.83091%5D%2C%20%5B34.027859%2C%20-118.211876%5D%2C%20%5B37.70104%2C%20-121.812408%5D%2C%20%5B34.165005%2C%20-118.474892%5D%2C%20%5B40.37684%2C%20-111.812981%5D%2C%20%5B32.889301%2C%20-96.980873%5D%2C%20%5B28.095337%2C%20-81.954971%5D%2C%20%5B33.974734999999995%2C%20-118.242783%5D%2C%20%5B36.841675%2C%20-76.046193%5D%2C%20%5B47.873016%2C%20-122.273834%5D%2C%20%5B35.834667%2C%20-78.638649%5D%2C%20%5B29.887320000000006%2C%20-95.41219%5D%2C%20%5B39.94883%2C%20-75.14161%5D%2C%20%5B33.96896%2C%20-117.84874%5D%2C%20%5B41.48415%2C%20-81.64702%5D%2C%20%5B32.976161%2C%20-96.804302%5D%2C%20%5B41.808041%2C%20-88.098778%5D%2C%20%5B39.14858%2C%20-84.59827%5D%2C%20%5B31.752529%2C%20-106.48733500000002%5D%2C%20%5B40.348236%2C%20-74.474434%5D%2C%20%5B44.028943%2C%20-116.950482%5D%2C%20%5B33.877193%2C%20-118.145832%5D%2C%20%5B41.95881%2C%20-87.7393%5D%2C%20%5B35.058961%2C%20-80.771466%5D%2C%20%5B40.77254%2C%20-74.20458%5D%2C%20%5B35.40982800000001%2C%20-97.565536%5D%2C%20%5B44.81514%2C%20-93.22102%5D%2C%20%5B43.2108%2C%20-123.35521%5D%2C%20%5B34.026047%2C%20-117.565917%5D%2C%20%5B37.148994%2C%20-77.354722%5D%2C%20%5B41.87385%2C%20-87.80816999999998%5D%2C%20%5B42.480083%2C%20-71.115051%5D%2C%20%5B30.457604%2C%20-81.63615899999998%5D%2C%20%5B43.165576%2C%20-77.63792%5D%2C%20%5B42.429047%2C%20-83.766953%5D%2C%20%5B41.773022%2C%20-88.00856%5D%2C%20%5B47.874173%2C%20-94.438947%5D%2C%20%5B42.190388%2C%20-88.10709399999998%5D%2C%20%5B40.20206500000001%2C%20-75.512505%5D%2C%20%5B39.238101%2C%20-74.67626899999998%5D%2C%20%5B39.287701%2C%20-76.616264%5D%2C%20%5B40.737%2C%20-74.36178000000002%5D%2C%20%5B37.024952%2C%20-76.33017%5D%2C%20%5B28.32347%2C%20-81.55453%5D%2C%20%5B42.49669%2C%20-96.46746%5D%2C%20%5B29.566803000000004%2C%20-98.334351%5D%2C%20%5B44.416843%2C%20-119.013169%5D%2C%20%5B39.204472%2C%20-94.492455%5D%2C%20%5B45.079227%2C%20-93.052719%5D%2C%20%5B33.978759000000004%2C%20-118.077941%5D%2C%20%5B35.540577%2C%20-82.80006999999998%5D%2C%20%5B40.519409%2C%20-74.301208%5D%2C%20%5B41.43809%2C%20-81.80124%5D%2C%20%5B38.769798%2C%20-111.92791%5D%2C%20%5B44.497551%2C%20-87.990768%5D%2C%20%5B35.753944%2C%20-78.635696%5D%2C%20%5B34.104409999999994%2C%20-118.32247%5D%2C%20%5B34.167345000000005%2C%20-79.815612%5D%2C%20%5B25.942404%2C%20-80.206601%5D%2C%20%5B40.987493%2C%20-73.672414%5D%2C%20%5B40.97691%2C%20-73.758575%5D%2C%20%5B36.92325%2C%20-119.79397%5D%2C%20%5B39.240017%2C%20-76.61030600000002%5D%2C%20%5B37.7149%2C%20-121.55998999999998%5D%2C%20%5B25.630062%2C%20-80.340625%5D%2C%20%5B35.855435%2C%20-77.683013%5D%2C%20%5B29.740669%2C%20-95.410728%5D%2C%20%5B47.23%2C%20-122.42898999999998%5D%2C%20%5B36.240524%2C%20-119.816437%5D%2C%20%5B39.65439%2C%20-75.61649%5D%2C%20%5B41.860584%2C%20-87.97058100000002%5D%2C%20%5B42.1958%2C%20-122.67377%5D%2C%20%5B40.002924%2C%20-74.201949%5D%2C%20%5B38.344358%2C%20-85.79387%5D%2C%20%5B38.79178%2C%20-90.44738%5D%2C%20%5B25.923052%2C%20-80.309213%5D%2C%20%5B39.981426%2C%20-104.988007%5D%2C%20%5B33.558716%2C%20-80.824303%5D%2C%20%5B44.33186%2C%20-93.950562%5D%2C%20%5B45.666164%2C%20-110.831698%5D%2C%20%5B38.596352%2C%20-121.443405%5D%2C%20%5B39.71829%2C%20-86.011372%5D%2C%20%5B33.519928%2C%20-86.830833%5D%2C%20%5B39.440369%2C%20-104.759979%5D%2C%20%5B41.75697%2C%20-87.88101999999998%5D%2C%20%5B30.46973%2C%20-86.56267%5D%2C%20%5B40.724026%2C%20-73.937702%5D%2C%20%5B33.610889%2C%20-112.103867%5D%2C%20%5B33.891068%2C%20-118.36132%5D%2C%20%5B37.809132%2C%20-122.244591%5D%2C%20%5B35.36327700000001%2C%20-97.529991%5D%2C%20%5B40.321305%2C%20-111.648768%5D%2C%20%5B28.54203%2C%20-81.47582%5D%2C%20%5B33.997292%2C%20-79.580299%5D%2C%20%5B33.45921%2C%20-84.20839000000002%5D%2C%20%5B39.181927%2C%20-76.874199%5D%2C%20%5B44.786541%2C%20-93.413239%5D%2C%20%5B40.72749%2C%20-113.271136%5D%2C%20%5B40.75780200000001%2C%20-73.720297%5D%2C%20%5B33.67759%2C%20-84.31838%5D%2C%20%5B35.185593%2C%20-89.812973%5D%2C%20%5B41.80843%2C%20-87.68441%5D%2C%20%5B35.72280900000001%2C%20-78.539307%5D%2C%20%5B29.76319%2C%20-95.45555%5D%2C%20%5B38.49612%2C%20-121.438042%5D%2C%20%5B35.31488%2C%20-80.75673%5D%2C%20%5B39.076302%2C%20-121.634942%5D%2C%20%5B40.120169%2C%20-75.204213%5D%2C%20%5B33.944452000000005%2C%20-80.961722%5D%2C%20%5B36.220031%2C%20-86.774774%5D%2C%20%5B32.8297%2C%20-96.61877%5D%2C%20%5B32.878551%2C%20-96.735527%5D%2C%20%5B28.392874%2C%20-81.37246999999998%5D%2C%20%5B25.889278%2C%20-80.209335%5D%2C%20%5B41.749345%2C%20-72.732228%5D%2C%20%5B43.163635%2C%20-89.265121%5D%2C%20%5B41.702633%2C%20-73.93604300000001%5D%2C%20%5B34.661751%2C%20-86.78698%5D%2C%20%5B30.209604%2C%20-97.755341%5D%2C%20%5B33.90858%2C%20-117.452988%5D%2C%20%5B40.168743%2C%20-75.144524%5D%2C%20%5B34.169762%2C%20-80.957336%5D%2C%20%5B37.786991%2C%20-122.389854%5D%2C%20%5B39.08673%2C%20-94.54109%5D%2C%20%5B34.253239%2C%20-79.845589%5D%2C%20%5B35.317147%2C%20-80.780233%5D%2C%20%5B37.932486%2C%20-122.403542%5D%2C%20%5B33.964283%2C%20-118.120224%5D%2C%20%5B45.019123%2C%20-93.18865%5D%2C%20%5B43.038139%2C%20-83.64768199999997%5D%2C%20%5B29.726540000000004%2C%20-95.46599%5D%2C%20%5B40.054697%2C%20-76.268622%5D%2C%20%5B29.515654%2C%20-98.593132%5D%2C%20%5B30.38433%2C%20-91.06483%5D%2C%20%5B35.440529%2C%20-80.865273%5D%2C%20%5B33.927925%2C%20-118.254295%5D%2C%20%5B42.49114%2C%20-90.68111%5D%2C%20%5B26.165884%2C%20-80.16024%5D%2C%20%5B41.526205%2C%20-81.659339%5D%2C%20%5B44.196188%2C%20-121.232374%5D%2C%20%5B40.119648%2C%20-75.35566700000003%5D%2C%20%5B33.912239%2C%20-84.207817%5D%2C%20%5B32.932790000000004%2C%20-96.75475%5D%2C%20%5B33.884079%2C%20-117.405064%5D%2C%20%5B45.50986%2C%20-122.56534%5D%2C%20%5B33.179669%2C%20-117.347042%5D%2C%20%5B40.46570300000001%2C%20-122.30518%5D%2C%20%5B44.70372%2C%20-93.440277%5D%2C%20%5B34.15355%2C%20-118.32645%5D%2C%20%5B38.60376%2C%20-90.450554%5D%2C%20%5B40.75682000000001%2C%20-74.054299%5D%2C%20%5B35.22333%2C%20-80.85101999999998%5D%2C%20%5B34.079192%2C%20-117.625819%5D%2C%20%5B30.2388%2C%20-97.75355%5D%2C%20%5B33.778290000000005%2C%20-84.241318%5D%2C%20%5B34.084719%2C%20-117.300849%5D%2C%20%5B34.095058%2C%20-84.52037800000002%5D%2C%20%5B30.359547%2C%20-97.687134%5D%2C%20%5B35.47405999999999%2C%20-81.11565999999998%5D%2C%20%5B30.523922%2C%20-91.144449%5D%2C%20%5B40.65382%2C%20-74.006943%5D%5D%2C%0A%20%20%20%20%20%20%20%20%20%20%20%20%20%20%20%20%7B%0A%20%20%20%20%20%20%20%20%20%20%20%20%20%20%20%20%20%20%20%20minOpacity%3A%200.5%2C%0A%20%20%20%20%20%20%20%20%20%20%20%20%20%20%20%20%20%20%20%20maxZoom%3A%2018%2C%0A%20%20%20%20%20%20%20%20%20%20%20%20%20%20%20%20%20%20%20%20max%3A%201.0%2C%0A%20%20%20%20%20%20%20%20%20%20%20%20%20%20%20%20%20%20%20%20radius%3A%2025%2C%0A%20%20%20%20%20%20%20%20%20%20%20%20%20%20%20%20%20%20%20%20blur%3A%2015%2C%0A%20%20%20%20%20%20%20%20%20%20%20%20%20%20%20%20%20%20%20%20gradient%3A%20null%0A%20%20%20%20%20%20%20%20%20%20%20%20%20%20%20%20%20%20%20%20%7D%29%0A%20%20%20%20%20%20%20%20%20%20%20%20%20%20%20%20.addTo%28map_866d996a62fe488ba067df9d83e16273%29%3B%0A%20%20%20%20%20%20%20%20%0A%3C/script%3E onload=\"this.contentDocument.open();this.contentDocument.write(    decodeURIComponent(this.getAttribute('data-html')));this.contentDocument.close();\" allowfullscreen webkitallowfullscreen mozallowfullscreen></iframe></div></div>"
            ],
            "text/plain": [
              "<folium.folium.Map at 0x7fa297f1ecd0>"
            ]
          },
          "metadata": {
            "tags": []
          },
          "execution_count": 54
        }
      ]
    },
    {
      "cell_type": "markdown",
      "metadata": {
        "id": "NVCU5_ycZUjL"
      },
      "source": [
        "#Summary and Conclusion\n",
        "\n",
        "**Insights:**\n",
        "- No data from New York\n",
        "- The number of accidents per city decreases exponentially\n",
        "- Less than 5% of cities have more than 1000 yearly accidents.\n",
        "- A high percentage of accidents occur between 6 am to 10 am (probably people in a hurry to get to work)\n",
        "- Next higest percentage is 3 pm to 6 pm.\n",
        "- On Sundays, the peak occurs between 10 am and 3 pm, unlike weekdays\n",
        "- Over 1200 cities have reported just one accident (need to investigate)"
      ]
    }
  ]
}